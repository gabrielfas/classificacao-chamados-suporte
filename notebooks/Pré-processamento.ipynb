{
 "cells": [
  {
   "cell_type": "markdown",
   "metadata": {
    "colab_type": "text",
    "id": "m-qj2Lcp6uCV"
   },
   "source": [
    "Ref principal: https://github.com/eduonix/nlptextclassification/blob/master/NLP%20for%20Text%20Classification%20(Jupyter%20Notebook).ipynb"
   ]
  },
  {
   "cell_type": "markdown",
   "metadata": {
    "colab_type": "text",
    "id": "v2iRSLTdKoAi"
   },
   "source": [
    "### Imports"
   ]
  },
  {
   "cell_type": "code",
   "execution_count": 1,
   "metadata": {
    "colab": {
     "base_uri": "https://localhost:8080/",
     "height": 34
    },
    "colab_type": "code",
    "id": "nmEFX57P3T1e",
    "outputId": "45e031f8-d149-4484-cabd-65d9d275cbaf"
   },
   "outputs": [],
   "source": [
    "import re\n",
    "import nltk\n",
    "import ftfy \n",
    "import numpy as np\n",
    "import pandas as pd\n",
    "import matplotlib.pyplot as plt\n",
    "from sklearn.preprocessing import LabelEncoder\n",
    "from sklearn.model_selection import train_test_split\n",
    "from nltk.tokenize import word_tokenize\n",
    "from unidecode import unidecode"
   ]
  },
  {
   "cell_type": "markdown",
   "metadata": {
    "colab_type": "text",
    "id": "X8Q-K9-jdfaa"
   },
   "source": [
    "### Carregar dataset"
   ]
  },
  {
   "cell_type": "code",
   "execution_count": 2,
   "metadata": {
    "colab": {
     "base_uri": "https://localhost:8080/",
     "height": 195
    },
    "colab_type": "code",
    "id": "rZhLbVh84MWx",
    "outputId": "3aaa71e6-a92c-4b08-9e79-1ea1c253283d"
   },
   "outputs": [
    {
     "data": {
      "text/html": [
       "<div>\n",
       "<style scoped>\n",
       "    .dataframe tbody tr th:only-of-type {\n",
       "        vertical-align: middle;\n",
       "    }\n",
       "\n",
       "    .dataframe tbody tr th {\n",
       "        vertical-align: top;\n",
       "    }\n",
       "\n",
       "    .dataframe thead th {\n",
       "        text-align: right;\n",
       "    }\n",
       "</style>\n",
       "<table border=\"1\" class=\"dataframe\">\n",
       "  <thead>\n",
       "    <tr style=\"text-align: right;\">\n",
       "      <th></th>\n",
       "      <th>Classificação</th>\n",
       "      <th>Assunto</th>\n",
       "      <th>Descricao</th>\n",
       "    </tr>\n",
       "  </thead>\n",
       "  <tbody>\n",
       "    <tr>\n",
       "      <td>0</td>\n",
       "      <td>Inc - Con</td>\n",
       "      <td>PROBLEMA DE CONECTIVIDADE</td>\n",
       "      <td>PROBLEMA DE CONECTIVIDADE</td>\n",
       "    </tr>\n",
       "    <tr>\n",
       "      <td>1</td>\n",
       "      <td>Inc - Con</td>\n",
       "      <td>PC SEM INTERNET</td>\n",
       "      <td>raquel do bag de dr renato informou que está c...</td>\n",
       "    </tr>\n",
       "    <tr>\n",
       "      <td>2</td>\n",
       "      <td>Inc - Con</td>\n",
       "      <td>PC SEM INTERNET</td>\n",
       "      <td>vanessa , gab dr carlos barros informou proble...</td>\n",
       "    </tr>\n",
       "    <tr>\n",
       "      <td>3</td>\n",
       "      <td>Inc - Con</td>\n",
       "      <td>COMPUTADOR SEM ACESSO A INTERNET</td>\n",
       "      <td>Usuário informa que o computador está sem aces...</td>\n",
       "    </tr>\n",
       "    <tr>\n",
       "      <td>4</td>\n",
       "      <td>Inc - Con</td>\n",
       "      <td>COMPUTADOR NÃO ESTÁ LOGANDO</td>\n",
       "      <td>COMPUTADOR NÃO ESTÁ LOGANDO.</td>\n",
       "    </tr>\n",
       "  </tbody>\n",
       "</table>\n",
       "</div>"
      ],
      "text/plain": [
       "  Classificação                           Assunto  \\\n",
       "0     Inc - Con         PROBLEMA DE CONECTIVIDADE   \n",
       "1     Inc - Con                   PC SEM INTERNET   \n",
       "2     Inc - Con                   PC SEM INTERNET   \n",
       "3     Inc - Con  COMPUTADOR SEM ACESSO A INTERNET   \n",
       "4     Inc - Con       COMPUTADOR NÃO ESTÁ LOGANDO   \n",
       "\n",
       "                                           Descricao  \n",
       "0                          PROBLEMA DE CONECTIVIDADE  \n",
       "1  raquel do bag de dr renato informou que está c...  \n",
       "2  vanessa , gab dr carlos barros informou proble...  \n",
       "3  Usuário informa que o computador está sem aces...  \n",
       "4                       COMPUTADOR NÃO ESTÁ LOGANDO.  "
      ]
     },
     "execution_count": 2,
     "metadata": {},
     "output_type": "execute_result"
    }
   ],
   "source": [
    "df = pd.read_excel('../datasets/Chamados.xlsx')\n",
    "df.head()"
   ]
  },
  {
   "cell_type": "markdown",
   "metadata": {},
   "source": [
    "### Análise inicial"
   ]
  },
  {
   "cell_type": "code",
   "execution_count": 3,
   "metadata": {},
   "outputs": [
    {
     "name": "stdout",
     "output_type": "stream",
     "text": [
      "<class 'pandas.core.frame.DataFrame'>\n",
      "RangeIndex: 3195 entries, 0 to 3194\n",
      "Data columns (total 3 columns):\n",
      "Classificação    2788 non-null object\n",
      "Assunto          3195 non-null object\n",
      "Descricao        3195 non-null object\n",
      "dtypes: object(3)\n",
      "memory usage: 75.0+ KB\n"
     ]
    }
   ],
   "source": [
    "df.info()"
   ]
  },
  {
   "cell_type": "markdown",
   "metadata": {},
   "source": [
    "### Verificando a distribuição de classes"
   ]
  },
  {
   "cell_type": "code",
   "execution_count": 4,
   "metadata": {
    "colab": {
     "base_uri": "https://localhost:8080/",
     "height": 168
    },
    "colab_type": "code",
    "id": "Z30ak7z4IniV",
    "outputId": "79c52c86-35c8-4b86-e94f-4a258cef1e4d"
   },
   "outputs": [
    {
     "data": {
      "text/plain": [
       "Req - Equ    1194\n",
       "Req - Sis     962\n",
       "NaN           407\n",
       "Inc - Sis     284\n",
       "Inc - Equ     170\n",
       "Outros         71\n",
       "Inc - Con      55\n",
       "Req - Con      52\n",
       "Name: Classificação, dtype: int64"
      ]
     },
     "execution_count": 4,
     "metadata": {},
     "output_type": "execute_result"
    }
   ],
   "source": [
    "df['Classificação'].value_counts(dropna=False)"
   ]
  },
  {
   "cell_type": "markdown",
   "metadata": {},
   "source": [
    "- Deixando as classes de forma binária, apenas Equipamento e Sistema"
   ]
  },
  {
   "cell_type": "code",
   "execution_count": 5,
   "metadata": {},
   "outputs": [
    {
     "name": "stdout",
     "output_type": "stream",
     "text": [
      "<class 'pandas.core.frame.DataFrame'>\n",
      "Int64Index: 3017 entries, 55 to 3194\n",
      "Data columns (total 3 columns):\n",
      "Classificação    2610 non-null object\n",
      "Assunto          3017 non-null object\n",
      "Descricao        3017 non-null object\n",
      "dtypes: object(3)\n",
      "memory usage: 94.3+ KB\n"
     ]
    },
    {
     "data": {
      "text/plain": [
       "None"
      ]
     },
     "metadata": {},
     "output_type": "display_data"
    },
    {
     "data": {
      "text/plain": [
       "Req - Equ    1194\n",
       "Req - Sis     962\n",
       "NaN           407\n",
       "Inc - Sis     284\n",
       "Inc - Equ     170\n",
       "Name: Classificação, dtype: int64"
      ]
     },
     "execution_count": 5,
     "metadata": {},
     "output_type": "execute_result"
    }
   ],
   "source": [
    "df = df[(df['Classificação'] != 'Outros') & (df['Classificação'] != 'Inc - Con') & (df['Classificação'] != 'Req - Con')]\n",
    "display(df.info())\n",
    "df['Classificação'].value_counts(dropna=False)"
   ]
  },
  {
   "cell_type": "code",
   "execution_count": 6,
   "metadata": {},
   "outputs": [
    {
     "name": "stdout",
     "output_type": "stream",
     "text": [
      "<class 'pandas.core.frame.DataFrame'>\n",
      "Int64Index: 3017 entries, 55 to 3194\n",
      "Data columns (total 3 columns):\n",
      "Classificação    2610 non-null object\n",
      "Assunto          3017 non-null object\n",
      "Descricao        3017 non-null object\n",
      "dtypes: object(3)\n",
      "memory usage: 94.3+ KB\n"
     ]
    },
    {
     "data": {
      "text/plain": [
       "None"
      ]
     },
     "metadata": {},
     "output_type": "display_data"
    },
    {
     "data": {
      "text/plain": [
       "Equipamento    1364\n",
       "Sistema        1246\n",
       "NaN             407\n",
       "Name: Classificação, dtype: int64"
      ]
     },
     "execution_count": 6,
     "metadata": {},
     "output_type": "execute_result"
    }
   ],
   "source": [
    "df['Classificação'] = df.loc[df['Classificação'].notnull(),'Classificação'].apply(lambda c: 'Equipamento' if 'Equ' in c else 'Sistema')\n",
    "display(df.info())\n",
    "df['Classificação'].value_counts(dropna=False)"
   ]
  },
  {
   "cell_type": "markdown",
   "metadata": {},
   "source": [
    "### Gerando diferentes datasets\n",
    "\n",
    "- Binários (sujos)"
   ]
  },
  {
   "cell_type": "code",
   "execution_count": 7,
   "metadata": {},
   "outputs": [],
   "source": [
    "df[~df['Classificação'].isna()].to_excel('../datasets/Chamados_Binários.xlsx', index=False)\n",
    "#df[~df['Classificação'].isna()].to_csv('../datasets/Chamados_Binários.csv', index=False)"
   ]
  },
  {
   "cell_type": "markdown",
   "metadata": {},
   "source": [
    "- Não Classificados (sujos)"
   ]
  },
  {
   "cell_type": "code",
   "execution_count": 8,
   "metadata": {},
   "outputs": [],
   "source": [
    "df[df['Classificação'].isna()].to_excel('../datasets/Chamados_Não_Classificados.xlsx', index=False)\n",
    "#df[df['Classificação'].isna()].to_csv('../datasets/Chamados_Não_Classificados.csv', index=False)"
   ]
  },
  {
   "cell_type": "markdown",
   "metadata": {
    "colab_type": "text",
    "id": "2oDh_OWndlLG"
   },
   "source": [
    "### Transformando os dados"
   ]
  },
  {
   "cell_type": "code",
   "execution_count": 9,
   "metadata": {
    "colab": {},
    "colab_type": "code",
    "id": "1CHjxln9dpb5"
   },
   "outputs": [
    {
     "data": {
      "text/plain": [
       "0.0    1364\n",
       "1.0    1246\n",
       "NaN     407\n",
       "Name: Classificação, dtype: int64"
      ]
     },
     "execution_count": 9,
     "metadata": {},
     "output_type": "execute_result"
    }
   ],
   "source": [
    "le = LabelEncoder()\n",
    "df.loc[df['Classificação'].notnull(),'Classificação'] = le.fit_transform(df.loc[df['Classificação'].notnull(),'Classificação'])\n",
    "df['Classificação'].value_counts(dropna=False)"
   ]
  },
  {
   "cell_type": "markdown",
   "metadata": {},
   "source": [
    "0 para equipamento e 1 para sistema\n",
    "\n",
    "### Convertendo caracteres para UTF-8"
   ]
  },
  {
   "cell_type": "code",
   "execution_count": 10,
   "metadata": {},
   "outputs": [
    {
     "data": {
      "text/plain": [
       "'<div>foi identificado um erro na coluna VALOR REALIZADO NO EXERCÍCIO do balanço orcamentario, receitas. foi identificado a inclusão de um valor estranho aquele vindo no arquivo de importação. segue arquivos para analise.</div>'"
      ]
     },
     "execution_count": 10,
     "metadata": {},
     "output_type": "execute_result"
    }
   ],
   "source": [
    "df['Descricao Atualizada'] = df['Descricao'].apply(lambda d: ' '.join(ftfy.fix_text(p) for p in d.split(' ')))\n",
    "df.iloc[268]['Descricao Atualizada']"
   ]
  },
  {
   "cell_type": "markdown",
   "metadata": {},
   "source": [
    "### Usando Regex para remoção de caracteres especiais"
   ]
  },
  {
   "cell_type": "code",
   "execution_count": 11,
   "metadata": {
    "colab": {},
    "colab_type": "code",
    "id": "nRHu7YrPemVD"
   },
   "outputs": [
    {
     "data": {
      "text/plain": [
       "55      coloquei para imprimir frente e verso querendo...\n",
       "56              usuário informa que o computador não liga\n",
       "57      usuária entrou em contato alegando que a impre...\n",
       "58       usuário informa que o excel não está funcionando\n",
       "59      usuário entrou em contato alegando que o compu...\n",
       "                              ...                        \n",
       "3190    usuário estaa com duvida em uma critica no pro...\n",
       "3191    usuário estava querendo informações sobre a re...\n",
       "3192    é necessário instalar a extensão para inserir ...\n",
       "3193    usuária estava com duvida de qual valor coloca...\n",
       "3194    alt eração de operador cpf numero nome francis...\n",
       "Name: Descricao Atualizada, Length: 3017, dtype: object"
      ]
     },
     "execution_count": 11,
     "metadata": {},
     "output_type": "execute_result"
    }
   ],
   "source": [
    "#falta tratar numero como data, hora, minuto, unidades e etc\n",
    "\n",
    "# tags html\n",
    "df['Descricao Atualizada'] = df['Descricao Atualizada'].str.replace(r'<[^>]*>', ' ').str.strip() #<[^>]*> <.*?>\n",
    "# email \n",
    "df['Descricao Atualizada'] = df['Descricao Atualizada'].str.replace(r'^.+@[^\\.].*\\.[a-z]{2,}$',\n",
    "                                 'email')\n",
    "# URLs \n",
    "df['Descricao Atualizada'] = df['Descricao Atualizada'].str.replace(r'^http\\://[a-zA-Z0-9\\-\\.]+\\.[a-zA-Z]{2,3}(/\\S*)?$',\n",
    "                                  'link')\n",
    "# cifrões de dinheiro \n",
    "df['Descricao Atualizada'] = df['Descricao Atualizada'].str.replace(r'£|\\$', 'cifrao') \n",
    "# número telefone\n",
    "df['Descricao Atualizada'] = df['Descricao Atualizada'].str.replace(r'^\\(?[\\d]{3}\\)?[\\s-]?[\\d]{3}[\\s-]?[\\d]{4}$',\n",
    "                                  'telefone') \n",
    "# números em geral\n",
    "df['Descricao Atualizada'] = df['Descricao Atualizada'].str.replace(r'\\d+(\\.\\d+)?', ' numero ')\n",
    "# pontuação\n",
    "df['Descricao Atualizada'] = df['Descricao Atualizada'].str.replace(r'[^\\w\\d\\s]', ' ').str.strip()\n",
    "df['Descricao Atualizada'] = df['Descricao Atualizada'].str.replace(r'[_]', ' ')\n",
    "df['Descricao Atualizada'] = df['Descricao Atualizada'].str.replace(r'[º]', '')\n",
    "# dois espaços ou mais\n",
    "df['Descricao Atualizada'] = df['Descricao Atualizada'].str.replace(r'\\s+', ' ')\n",
    "\n",
    "df['Descricao Atualizada'] = df['Descricao Atualizada'].str.replace(r'^\\s+|\\s+?$', ' ')\n",
    "# minusculo\n",
    "df['Descricao Atualizada'] = df['Descricao Atualizada'].str.lower()\n",
    "df['Descricao Atualizada']"
   ]
  },
  {
   "cell_type": "code",
   "execution_count": 12,
   "metadata": {},
   "outputs": [
    {
     "data": {
      "text/plain": [
       "'foi identificado um erro na coluna valor realizado no exercício do balanço orcamentario receitas foi identificado a inclusão de um valor estranho aquele vindo no arquivo de importação segue arquivos para analise'"
      ]
     },
     "execution_count": 12,
     "metadata": {},
     "output_type": "execute_result"
    }
   ],
   "source": [
    "df.iloc[268]['Descricao Atualizada']"
   ]
  },
  {
   "cell_type": "code",
   "execution_count": 13,
   "metadata": {},
   "outputs": [
    {
     "name": "stderr",
     "output_type": "stream",
     "text": [
      "C:\\Users\\gfeli\\Anaconda3\\lib\\site-packages\\ipykernel_launcher.py:2: FutureWarning: The signature of `Series.to_csv` was aligned to that of `DataFrame.to_csv`, and argument 'header' will change its default value from False to True: please pass an explicit value to suppress this warning.\n",
      "  \n"
     ]
    }
   ],
   "source": [
    "# COMPARAR COM O ORIGINAL\n",
    "df['Descricao Atualizada'].to_csv('teste.csv')"
   ]
  },
  {
   "cell_type": "markdown",
   "metadata": {},
   "source": [
    "- Remover StopWords"
   ]
  },
  {
   "cell_type": "code",
   "execution_count": 14,
   "metadata": {
    "colab": {
     "base_uri": "https://localhost:8080/",
     "height": 1000
    },
    "colab_type": "code",
    "id": "skFxEXYgqQZF",
    "outputId": "39090bb4-82e2-4733-b9ce-13511c4d8d3e"
   },
   "outputs": [
    {
     "name": "stderr",
     "output_type": "stream",
     "text": [
      "[nltk_data] Downloading package stopwords to\n",
      "[nltk_data]     C:\\Users\\gfeli\\AppData\\Roaming\\nltk_data...\n",
      "[nltk_data]   Package stopwords is already up-to-date!\n"
     ]
    },
    {
     "data": {
      "text/plain": [
       "'identificado erro coluna valor realizado exercício balanço orcamentario receitas identificado inclusão valor estranho vindo arquivo importação segue arquivos analise'"
      ]
     },
     "execution_count": 14,
     "metadata": {},
     "output_type": "execute_result"
    }
   ],
   "source": [
    "nltk.download('stopwords')\n",
    "pt_stopwords = set(nltk.corpus.stopwords.words(\"portuguese\"))\n",
    "\n",
    "df['Descricao Atualizada'] = df['Descricao Atualizada'].apply(lambda d: ' '.join(term for term in d.split() if term not in pt_stopwords))\n",
    "df.iloc[268]['Descricao Atualizada']                                                            "
   ]
  },
  {
   "cell_type": "markdown",
   "metadata": {},
   "source": [
    "- Stemming"
   ]
  },
  {
   "cell_type": "code",
   "execution_count": 15,
   "metadata": {
    "colab": {
     "base_uri": "https://localhost:8080/",
     "height": 1000
    },
    "colab_type": "code",
    "id": "hmND_uYDv6-G",
    "outputId": "5378edd6-e182-4c2c-f536-1d0c98f7260b"
   },
   "outputs": [
    {
     "name": "stderr",
     "output_type": "stream",
     "text": [
      "[nltk_data] Downloading package rslp to\n",
      "[nltk_data]     C:\\Users\\gfeli\\AppData\\Roaming\\nltk_data...\n",
      "[nltk_data]   Package rslp is already up-to-date!\n"
     ]
    },
    {
     "data": {
      "text/plain": [
       "'identific err colun val realiz exercíci balanç orcamentari receit identific inclus val estranh vind arqu import seg arqu analis'"
      ]
     },
     "execution_count": 15,
     "metadata": {},
     "output_type": "execute_result"
    }
   ],
   "source": [
    "nltk.download('rslp')\n",
    "stemmer = nltk.stem.RSLPStemmer()\n",
    "\n",
    "df['Descricao Atualizada'] = df['Descricao Atualizada'].apply(lambda x: ' '.join(stemmer.stem(term) for term in x.split()))\n",
    "df.iloc[268]['Descricao Atualizada']"
   ]
  },
  {
   "cell_type": "markdown",
   "metadata": {},
   "source": [
    "- Removendo acentuação"
   ]
  },
  {
   "cell_type": "code",
   "execution_count": 16,
   "metadata": {},
   "outputs": [
    {
     "data": {
      "text/plain": [
       "'identific err colun val realiz exercici balanc orcamentari receit identific inclus val estranh vind arqu import seg arqu analis'"
      ]
     },
     "execution_count": 16,
     "metadata": {},
     "output_type": "execute_result"
    }
   ],
   "source": [
    "df['Descricao Atualizada'] = df['Descricao Atualizada'].apply(unidecode)\n",
    "df.iloc[268]['Descricao Atualizada']"
   ]
  },
  {
   "cell_type": "markdown",
   "metadata": {},
   "source": [
    "### Feature Engineering"
   ]
  },
  {
   "cell_type": "code",
   "execution_count": 17,
   "metadata": {},
   "outputs": [
    {
     "name": "stderr",
     "output_type": "stream",
     "text": [
      "[nltk_data] Downloading package punkt to\n",
      "[nltk_data]     C:\\Users\\gfeli\\AppData\\Roaming\\nltk_data...\n",
      "[nltk_data]   Package punkt is already up-to-date!\n"
     ]
    }
   ],
   "source": [
    "nltk.download('punkt')\n",
    "\n",
    "def tokenizar(dados):\n",
    "    todas_palavras = []\n",
    "    for descricao in dados:\n",
    "        palavras = word_tokenize(descricao)\n",
    "        for p in palavras:\n",
    "            todas_palavras.append(p)\n",
    "    return todas_palavras"
   ]
  },
  {
   "cell_type": "code",
   "execution_count": 18,
   "metadata": {},
   "outputs": [
    {
     "name": "stdout",
     "output_type": "stream",
     "text": [
      "Total de palavras: 3017\n",
      "Mais comuns: [('numer', 3277), ('solicit', 661), ('process', 657), ('inform', 432), ('configur', 420)]\n"
     ]
    }
   ],
   "source": [
    "todas_palavras = tokenizar(df['Descricao Atualizada'].values)\n",
    "        \n",
    "freq_palavras = nltk.FreqDist(todas_palavras)\n",
    "\n",
    "print('Total de palavras: {}'.format(len(freq_palavras)))\n",
    "print('Mais comuns: {}'.format(freq_palavras.most_common(5)))"
   ]
  },
  {
   "cell_type": "code",
   "execution_count": 19,
   "metadata": {},
   "outputs": [
    {
     "name": "stdout",
     "output_type": "stream",
     "text": [
      "['numer', 'solicit', 'process', 'inform', 'configur', 'cadastr', 'usu', 'anex', 'tce', 'instal', 'comput', 'tomb', 'envi', 'set', 'nom', 'sistem', 'acess', 'err', 'realiz', 'senh', 'impres', 'n', 'serv', 'public', 'cpf', 'cont', 'si', 'alt', 'arqu', 'problem', 'cumpr', 'consult', 'port', 'are', 'moni', 'dest', 'dev', 'dia', 'funcional', 'ser', 'registr', 'apoi', 'diret', 'oper', 'dap', 'verific', 'notebook', 'dat', 'atual', 'restrit', 'conform', 'operac', 'ter', 'aprov', 'pont', 'codig', 'cri', 'test', 'dad', 'refer', 'solic', 'past', 'rn', 'erac', 'nov', 'scann', 'sal', 'relatori', 'atraves', 'control', 'document', 'ges', 'estil', 'tent', 'venh', 'ord', 'equip', 'analis', 'apresent', 'digit', 'al', 'bimestr', 'receit', 'aparec', 'trabalh', 'camp', 'necess', 'ano', 'lig', 'silv', 'pessoal', 'auxili', 'exist', 'pesso', 'sobr', 'ger', 'tod', 'atend', 'cab', 'seguint', 'dire', 'cient', 'pc', 'inclu', 'val', 'er', 'tel', 'ato', 'usuar', 'gerenci', 'tc', 'respons', 'trein', 'diari', 'homolog', 'ativ', 'informa', 'encontr', 'pod', 'possivel', 'cord', 'hom', 'local', 'event', 'ergon', 'memor', 'decis', 'clon', 'eletron', 'substitu', 'sit', 'desd', 'desp', 'provid', 'extern', 'excel', 'cham', 'fiscal', 'cort', 'nobreak', 'administr', 'ofic', 'fs', 'entr', 'contat', 'assin', 'func', 'protest', 'relacion', 'web', 'matricul', 'tecn', 'hor', 'tip', 'exclus', 'conselh', 'mens', 'carg', 'part', 'marc', 'form', 'tabel', 'monocra', 'prest', 'prefeit', 'coorden', 'detect', 'agradec', 'seg', 'cas', 'imprim', 'lot', 'nest', 'duvid', 'justific', 'pagin', 'certific', 'est', 'identific', 'med', 'cost', 'dispon', 'cit', 'vist', 'prez', 'consegu', 'mar', 'requer', 'utiliz', 'mesm', 'poi', 'visual', 'list', 'const', 'send', 'determin', 'ped', 'appweb', 'email', 'pres', 'outr', 'banc', 'faz', 'retorn', 'estagi', 'resoluc', 'lan', 'organiz', 'algum', 'geral', 'org', 'estagiar', 'ocorr', 'opc', 'dp', 'municipi', 'exercici', 'voss', 'fix', 'comun', 'consig', 'mail', 'inser', 'tend', 'comarc', 'exclu', 'cert', 'apos', 'receb', 'siop', 'pag', 'municip', 'disponibil', 'dess', 'perfil', 'iissql', 'imag', 'abaix', 'servic', 'porem', 'oliv', 'aca', 'relat', 'lim', 'biometr', 'funcion', 'abr', 'not', 'model', 'possu', 'seguranc', 'procur', 'ana', 'audi', 'gabinet', 'planilh', 'corret', 'correc', 'tramit', 'man', 'preench', 'sant', 'anteri', 'duv', 'atalh', 'reun', 'quant', 'aplic', 'clic', 'din', 'inclus', 'espec', 'token', 'diverg', 'feit', 'fic', 'proced', 'segu', 'tribun', 'relac', 'ferrament', 'icpbrav', 'fim', 'v', 'aleg', 'apen', 'ond', 'red', 'pass', 'coloc', 'apens', 'bem', 'vez', 'encaminh', 'dam', 'via', 'uso', 'precis', 'demand', 'permiss', 'program', 'escol', 'orient', 'lei', 'sa', 'trat', 'mut', 'bom', 'assinat', 'colet', 'jurisdicion', 'intern', 'assim', 'and', 'expedi', 'respost', 'ambi', 'mous', 'maquin', 'br', 'cuj', 'retir', 'contrat', 'colun', 'so', 'sab', 'consider', 'acord', 'ietab', 'presid', 'gom', 'ben', 'posi', 'adob', 'bas', 'permit', 'indic', 'esclarec', 'secret', 'obrig', 'fernand', 'h', 'renov', 'auditori', 'produc', 'print', 'estabiliz', 'emit', 'sql', 'pdf', 'aba', 'valid', 'gost', 'jose', 'licit', 'ent', 'ver', 'import', 'moment', 'div', 'aind', 'vincul', 'efetu', 'design', 'entreg', 'complement', 'proc', 'period', 'config', 'ajust', 'impost', 'gov', 'pend', 'edit', 'suport', 'associ', 'comprov', 'mei', 'atribu', 'atenc', 'ouvid', 'http', 'plen', 'coordenad', 'poss', 'sim', 'deslig', 'liber', 'segund', 'sent', 'troc', 'dag', 'distribu', 'gest', 'vot', 'execuc', 'orig', 'rio', 'curs', 'avali', 'bloquei', 'cunh', 'conced', 'pleit', 'disponi', 'termin', 'vers', 'boa', 'situ', 'paut', 'favor', 'grand', 'doi', 'modul', 'autor', 'inici', 'mudanc', 'cancel', 'produt', 'alv', 'term', 'estaca', 'recepc', 'log', 'inic', 'catrac', 'temp', 'legil', 'tard', 's', 'doe', 'venc', 'destin', 'extens', 'deduc', 'unidad', 'api', 'mat', 'art', 'indef', 'adm', 'demal', 'conseg', 'observ', 'it', 'acim', 'di', 'nao', 'mostr', 'implement', 'titul', 'prim', 'total', 'dar', 'instituc', 'sess', 'manutenc', 'mid', 'pacot', 'substitut', 'c', 'font', 'impress', 'pra', 'adicion', 'fisic', 'leit', 'i', 'result', 'debit', 'rgf', 'limit', 'final', 'backup', 'abert', 'sid', 'comunic', 'audit', 'anderson', 'mes', 'ref', 'dispens', 'junt', 'releas', 'rcifra', 'link', 'conclu', 'ra', 'sext', 'sispatr', 'dispos', 'mai', 'ferr', 'nort', 'atest', 'qatc', 'souz', 'arauj', 'presenc', 'corrig', 'tal', 'joa', 'dae', 'govern', 'possibil', 'internet', 'ii', 'crit', 'siaianalis', 'recib', 'me', 'particip', 'cad', 'padr', 'interess', 'antoni', 'wwwreleas', 'melh', 'barr', 'break', 'softw', 'enderec', 'exib', 'falh', 'automatic', 'id', 'gentil', 'entant', 'especific', 'ata', 'the', 'aguard', 'sob', 'usuari', 'emiss', 'saud', 'falt', 'motiv', 'porqu', 'especif', 'atencios', 'dant', 'cristin', 'd', 'fornec', 'hoj', 'enc', 'q', 'detalh', 'offic', 'paul', 'xavi', 'beatriz', 'ofert', 'quest', 'adot', 'luci', 'acompanh', 'mal', 'lin', 'exempl', 'institut', 'empr', 'resolv', 'reenvi', 'posteri', 'empenh', 'conteud', 'declar', 'lrf', 'advog', 'amand', 'export', 'question', 'vide', 'smartphon', 'adic', 'limp', 'iii', 'ar', 'moral', 'diar', 'incis', 'praz', 'alme', 'respond', 'estranh', 'icon', 'contabil', 'naveg', 'tv', 'asp', 'celul', 'correspond', 'qual', 'sempr', 'pendenc', 'surg', 'acus', 'necessar', 'objet', 'carvalh', 'upload', 'irregular', 'recuper', 'client', 'fund', 'cam', 'notific', 'antig', 'bolet', 'desenvolv', 'qualqu', 'gp', 'cop', 'sec', 'protocol', 'alexandr', 'nasc', 'pergunt', 'correged', 'rotin', 'srv', 'oportun', 'carl', 'inserc', 'rodrig', 'regular', 'rib', 'mour', 'gabriel', 'quer', 'ob', 'pje', 'salv', 'said', 'us', 'ocorrenc', 'hardw', 'soment', 'despach', 'sucess', 'statu', 'var', 'prepar', 'fat', 'duplic', 'continu', 'text', 'inscr', 'corr', 'hav', 'dentr', 'diaz', 'chav', 'diss', 'melhor', 'www', 'b', 'wif', 'feir', 'acsoc', 'eduard', 'remoc', 'vim', 'bezerr', 'lrfserv', 'mp', 'soc', 'legal', 'format', 'justic', 'projet', 'prov', 'bip', 'necessit', 'trav', 'tecl', 'word', 'nenhum', 'hp', 'la', 'exced', 'googl', 'mand', 'microsoft', 'residenc', 'att', 'rela', 'modific', 'imped', 'seman', 'reset', 'transpar', 'devolv', 'real', 'descr', 'formul', 'inconsist', 'verd', 'soluc', 'dua', 'min', 'cumpriment', 'telefon', 'duart', 'tamanh', 'cruz', 'orc', 'radi', 'aquis', 'judici', 'almoxarif', 'pec', 'mater', 'fsdin', 'script', 'cheg', 'glob', 'colabor', 'setembr', 'nogu', 'histor', 'providenci', 'notic', 'tant', 'mari', 'inidone', 'feder', 'corre', 'barb', 'educ', 'tarj', 'ult', 'norm', 'etiquet', 'folh', 'conect', 'reinici', 'mod', 'calcul', 'trimestr', 'realoc', 'valu', 'difer', 'minut', 'expost', 'anual', 'natal', 'anot', 'constat', 'amarel', 'pm', 'outubr', 'tceadmin', 'diz', 'deix', 'futur', 'cartori', 'agost', 'ont', 'superi', 'elabor', 'confer', 'nega', 'automa', 'selec', 'siti', 'agend', 'qa', 'dur', 'alert', 'ja', 'ton', 'admin', 'sra', 'proje', 'defeit', 'microfon', 'ind', 'ricart', 'publ', 'azeved', 'civil', 'preven', 'andre', 'a', 'grup', 'escolh', 'rafael', 'ferias', 'roch', 'mel', 'judiciar', 'ad', 'alem', 'fge', 'mirand', 'artig', 'gerenc', 'agil', 'diogen', 'gccorr', 'entretant', 'carreg', 'cart', 'va', 'ns', 'ram', 'driv', 'tr', 'volt', 'or', 'divers', 'linh', 'com', 'natur', 'quantit', 'verifiq', 'legisl', 'to', 'rel', 'orga', 'prossegu', 'dand', 'balanc', 'supr', 'respec', 'exe', 'idinformaca', 'idcomposicaop', 'fern', 'recorr', 'facil', 'afim', 'mim', 'compr', 'virtud', 'igual', 'pet', 'bi', 'lo', 'amar', 'apo', 'secex', 'aqu', 'recent', 'iegm', 'exig', 'app', 'tempor', 'ant', 'on', 'ofici', 'obje', 'tre', 'adem', 'chef', 'cell', 'comiss', 'danific', 'maxxipow', 'p', 'respeit', 'prev', 'sirv', 'assunt', 'separ', 'terceir', 'vinic', 'sr', 'semelh', 'iann', 'pre', 'comparec', 'traz', 'licitatori', 'horar', 'ig', 'quadrimestr', 'apont', 'agor', 'visit', 'impossibilit', 'up', 'reconhec', 'of', 'informaco', 'acontec', 'descrit', 'sheyl', 'yusk', 'bol', 'report', 'bast', 'fech', 'rre', 'fiz', 'daquel', 'julg', 'vai', 'inferi', 'parcel', 'terc', 'emb', 'somatori', 'defini', 'xml', 'ip', 'compet', 'chrom', 'mant', 'vari', 'capacit', 'admiss', 'ambos', 'alin', 'liquid', 'atu', 'convers', 'dificuldad', 'aut', 'execut', 'angel', 'renat', 'menos', 'sugir', 'retific', 'recurs', 'capt', 'marcel', 'govrn', 'procurad', 'remanej', 'fgo', 'ruteni', 'transfer', 'assessor', 'queiroz', 'jos', 'acerc', 'etc', 'hotfix', 'fil', 'concentr', 'conhec', 'obt', 'ttrabalh', 'cidad', 'maurici', 'implant', 'medic', 'revis', 'copi', 'subsec', 'equivoc', 'regin', 'ness', 'maced', 'autoriz', 'jadson', 'desapens', 'requisit', 'fich', 'franc', 'efet', 'compar', 'propri', 'fundament', 'nf', 'previst', 'brit', 'per', 'estad', 'serido', 'vermelh', 'urg', 'assess', 'remet', 'pen', 'doc', 'fot', 'baix', 'admit', 'adequ', 'arearestrit', 'previd', 'mor', 'an', 'selecion', 'possibilit', 'layout', 'cogep', 'busc', 'localiz', 'princip', 'percent', 'zer', 'mencion', 'aco']\n"
     ]
    }
   ],
   "source": [
    "features_palavras = list(dict(sorted(freq_palavras.items(), key=lambda c: c[1], reverse=True)).keys())[:1000]\n",
    "print(features_palavras)"
   ]
  },
  {
   "cell_type": "code",
   "execution_count": 20,
   "metadata": {},
   "outputs": [],
   "source": [
    "def find_features(descricao):\n",
    "    palavras_descricao = word_tokenize(descricao)\n",
    "    features = {palavra:(palavra in palavras_descricao) for palavra in features_palavras}\n",
    "    return features"
   ]
  },
  {
   "cell_type": "code",
   "execution_count": 21,
   "metadata": {},
   "outputs": [],
   "source": [
    "chamados = list(zip(df['Descricao Atualizada'], \n",
    "                    df['Classificação']))"
   ]
  },
  {
   "cell_type": "code",
   "execution_count": 22,
   "metadata": {},
   "outputs": [],
   "source": [
    "seed = 1\n",
    "np.random.seed = seed\n",
    "np.random.shuffle(chamados)\n",
    "\n",
    "featuresets = [(find_features(texto), classe) for (texto, classe) in chamados]"
   ]
  },
  {
   "cell_type": "code",
   "execution_count": 23,
   "metadata": {},
   "outputs": [
    {
     "data": {
      "text/plain": [
       "array([{'numer': False, 'solicit': False, 'process': False, 'inform': False, 'configur': False, 'cadastr': False, 'usu': False, 'anex': False, 'tce': False, 'instal': True, 'comput': False, 'tomb': False, 'envi': False, 'set': False, 'nom': False, 'sistem': False, 'acess': False, 'err': False, 'realiz': False, 'senh': False, 'impres': False, 'n': False, 'serv': False, 'public': False, 'cpf': False, 'cont': False, 'si': False, 'alt': False, 'arqu': False, 'problem': False, 'cumpr': False, 'consult': False, 'port': False, 'are': False, 'moni': False, 'dest': False, 'dev': False, 'dia': False, 'funcional': False, 'ser': False, 'registr': False, 'apoi': False, 'diret': False, 'oper': False, 'dap': False, 'verific': False, 'notebook': False, 'dat': False, 'atual': False, 'restrit': False, 'conform': False, 'operac': False, 'ter': False, 'aprov': False, 'pont': False, 'codig': False, 'cri': False, 'test': False, 'dad': False, 'refer': False, 'solic': False, 'past': False, 'rn': False, 'erac': False, 'nov': False, 'scann': False, 'sal': False, 'relatori': False, 'atraves': False, 'control': False, 'document': False, 'ges': False, 'estil': False, 'tent': False, 'venh': False, 'ord': False, 'equip': False, 'analis': False, 'apresent': False, 'digit': False, 'al': False, 'bimestr': False, 'receit': False, 'aparec': False, 'trabalh': False, 'camp': False, 'necess': False, 'ano': False, 'lig': False, 'silv': False, 'pessoal': False, 'auxili': False, 'exist': False, 'pesso': False, 'sobr': False, 'ger': False, 'tod': False, 'atend': False, 'cab': False, 'seguint': False, 'dire': False, 'cient': False, 'pc': False, 'inclu': False, 'val': False, 'er': False, 'tel': False, 'ato': False, 'usuar': False, 'gerenci': False, 'tc': False, 'respons': False, 'trein': False, 'diari': False, 'homolog': False, 'ativ': False, 'informa': False, 'encontr': False, 'pod': False, 'possivel': False, 'cord': False, 'hom': False, 'local': False, 'event': False, 'ergon': False, 'memor': False, 'decis': False, 'clon': False, 'eletron': False, 'substitu': False, 'sit': False, 'desd': False, 'desp': False, 'provid': False, 'extern': False, 'excel': False, 'cham': False, 'fiscal': False, 'cort': False, 'nobreak': False, 'administr': False, 'ofic': False, 'fs': False, 'entr': False, 'contat': False, 'assin': False, 'func': False, 'protest': False, 'relacion': False, 'web': False, 'matricul': False, 'tecn': False, 'hor': False, 'tip': False, 'exclus': False, 'conselh': False, 'mens': False, 'carg': False, 'part': False, 'marc': False, 'form': False, 'tabel': False, 'monocra': False, 'prest': False, 'prefeit': False, 'coorden': False, 'detect': False, 'agradec': False, 'seg': False, 'cas': False, 'imprim': False, 'lot': False, 'nest': False, 'duvid': False, 'justific': False, 'pagin': False, 'certific': False, 'est': False, 'identific': False, 'med': False, 'cost': False, 'dispon': False, 'cit': False, 'vist': False, 'prez': False, 'consegu': False, 'mar': False, 'requer': False, 'utiliz': False, 'mesm': False, 'poi': False, 'visual': False, 'list': False, 'const': False, 'send': False, 'determin': False, 'ped': False, 'appweb': False, 'email': False, 'pres': False, 'outr': False, 'banc': False, 'faz': False, 'retorn': False, 'estagi': False, 'resoluc': False, 'lan': False, 'organiz': False, 'algum': False, 'geral': False, 'org': False, 'estagiar': False, 'ocorr': False, 'opc': False, 'dp': False, 'municipi': False, 'exercici': False, 'voss': False, 'fix': False, 'comun': False, 'consig': False, 'mail': False, 'inser': False, 'tend': False, 'comarc': False, 'exclu': False, 'cert': False, 'apos': False, 'receb': False, 'siop': False, 'pag': False, 'municip': False, 'disponibil': False, 'dess': False, 'perfil': False, 'iissql': False, 'imag': False, 'abaix': False, 'servic': False, 'porem': False, 'oliv': False, 'aca': False, 'relat': False, 'lim': False, 'biometr': False, 'funcion': False, 'abr': False, 'not': False, 'model': False, 'possu': False, 'seguranc': False, 'procur': False, 'ana': False, 'audi': False, 'gabinet': False, 'planilh': False, 'corret': False, 'correc': False, 'tramit': False, 'man': False, 'preench': False, 'sant': False, 'anteri': False, 'duv': False, 'atalh': False, 'reun': False, 'quant': False, 'aplic': False, 'clic': False, 'din': False, 'inclus': False, 'espec': False, 'token': False, 'diverg': False, 'feit': False, 'fic': False, 'proced': False, 'segu': False, 'tribun': False, 'relac': False, 'ferrament': False, 'icpbrav': False, 'fim': False, 'v': False, 'aleg': False, 'apen': False, 'ond': False, 'red': False, 'pass': False, 'coloc': False, 'apens': False, 'bem': False, 'vez': False, 'encaminh': False, 'dam': False, 'via': False, 'uso': False, 'precis': False, 'demand': False, 'permiss': False, 'program': True, 'escol': False, 'orient': False, 'lei': False, 'sa': False, 'trat': False, 'mut': False, 'bom': False, 'assinat': False, 'colet': False, 'jurisdicion': False, 'intern': False, 'assim': False, 'and': False, 'expedi': False, 'respost': False, 'ambi': False, 'mous': False, 'maquin': False, 'br': False, 'cuj': False, 'retir': False, 'contrat': False, 'colun': False, 'so': False, 'sab': False, 'consider': False, 'acord': False, 'ietab': False, 'presid': False, 'gom': False, 'ben': False, 'posi': False, 'adob': False, 'bas': False, 'permit': False, 'indic': False, 'esclarec': False, 'secret': False, 'obrig': False, 'fernand': False, 'h': False, 'renov': False, 'auditori': False, 'produc': False, 'print': False, 'estabiliz': False, 'emit': False, 'sql': False, 'pdf': False, 'aba': False, 'valid': False, 'gost': False, 'jose': False, 'licit': False, 'ent': False, 'ver': False, 'import': False, 'moment': False, 'div': False, 'aind': False, 'vincul': False, 'efetu': False, 'design': False, 'entreg': False, 'complement': False, 'proc': False, 'period': False, 'config': False, 'ajust': False, 'impost': False, 'gov': False, 'pend': False, 'edit': False, 'suport': False, 'associ': False, 'comprov': False, 'mei': False, 'atribu': False, 'atenc': False, 'ouvid': False, 'http': False, 'plen': False, 'coordenad': False, 'poss': False, 'sim': False, 'deslig': False, 'liber': False, 'segund': False, 'sent': False, 'troc': False, 'dag': False, 'distribu': False, 'gest': False, 'vot': False, 'execuc': False, 'orig': False, 'rio': False, 'curs': False, 'avali': False, 'bloquei': False, 'cunh': False, 'conced': False, 'pleit': False, 'disponi': False, 'termin': False, 'vers': False, 'boa': False, 'situ': False, 'paut': False, 'favor': False, 'grand': False, 'doi': False, 'modul': False, 'autor': False, 'inici': False, 'mudanc': False, 'cancel': False, 'produt': False, 'alv': False, 'term': False, 'estaca': False, 'recepc': False, 'log': False, 'inic': False, 'catrac': False, 'temp': False, 'legil': False, 'tard': False, 's': False, 'doe': False, 'venc': False, 'destin': False, 'extens': False, 'deduc': False, 'unidad': False, 'api': False, 'mat': False, 'art': False, 'indef': False, 'adm': False, 'demal': False, 'conseg': False, 'observ': False, 'it': False, 'acim': False, 'di': False, 'nao': False, 'mostr': False, 'implement': False, 'titul': False, 'prim': False, 'total': False, 'dar': False, 'instituc': False, 'sess': False, 'manutenc': False, 'mid': False, 'pacot': False, 'substitut': False, 'c': False, 'font': False, 'impress': False, 'pra': False, 'adicion': False, 'fisic': False, 'leit': False, 'i': False, 'result': False, 'debit': False, 'rgf': False, 'limit': False, 'final': False, 'backup': False, 'abert': False, 'sid': False, 'comunic': False, 'audit': False, 'anderson': False, 'mes': False, 'ref': False, 'dispens': False, 'junt': False, 'releas': False, 'rcifra': False, 'link': False, 'conclu': False, 'ra': False, 'sext': False, 'sispatr': False, 'dispos': False, 'mai': False, 'ferr': False, 'nort': False, 'atest': False, 'qatc': False, 'souz': False, 'arauj': False, 'presenc': False, 'corrig': False, 'tal': False, 'joa': False, 'dae': False, 'govern': False, 'possibil': False, 'internet': False, 'ii': False, 'crit': False, 'siaianalis': False, 'recib': False, 'me': False, 'particip': False, 'cad': False, 'padr': False, 'interess': False, 'antoni': False, 'wwwreleas': False, 'melh': False, 'barr': False, 'break': False, 'softw': False, 'enderec': False, 'exib': False, 'falh': False, 'automatic': False, 'id': False, 'gentil': False, 'entant': False, 'especific': False, 'ata': False, 'the': False, 'aguard': False, 'sob': False, 'usuari': False, 'emiss': False, 'saud': False, 'falt': False, 'motiv': False, 'porqu': False, 'especif': False, 'atencios': False, 'dant': False, 'cristin': False, 'd': False, 'fornec': False, 'hoj': False, 'enc': False, 'q': False, 'detalh': False, 'offic': False, 'paul': False, 'xavi': False, 'beatriz': False, 'ofert': False, 'quest': False, 'adot': False, 'luci': False, 'acompanh': False, 'mal': False, 'lin': False, 'exempl': False, 'institut': False, 'empr': False, 'resolv': False, 'reenvi': False, 'posteri': False, 'empenh': False, 'conteud': False, 'declar': False, 'lrf': False, 'advog': False, 'amand': False, 'export': False, 'question': False, 'vide': False, 'smartphon': False, 'adic': False, 'limp': False, 'iii': False, 'ar': False, 'moral': False, 'diar': False, 'incis': False, 'praz': False, 'alme': False, 'respond': False, 'estranh': False, 'icon': False, 'contabil': False, 'naveg': False, 'tv': False, 'asp': False, 'celul': False, 'correspond': False, 'qual': False, 'sempr': False, 'pendenc': False, 'surg': False, 'acus': False, 'necessar': False, 'objet': False, 'carvalh': False, 'upload': False, 'irregular': False, 'recuper': False, 'client': False, 'fund': False, 'cam': False, 'notific': False, 'antig': False, 'bolet': False, 'desenvolv': False, 'qualqu': False, 'gp': False, 'cop': False, 'sec': False, 'protocol': False, 'alexandr': False, 'nasc': False, 'pergunt': False, 'correged': False, 'rotin': False, 'srv': False, 'oportun': False, 'carl': False, 'inserc': False, 'rodrig': False, 'regular': False, 'rib': False, 'mour': False, 'gabriel': False, 'quer': False, 'ob': False, 'pje': False, 'salv': False, 'said': False, 'us': False, 'ocorrenc': False, 'hardw': False, 'soment': False, 'despach': False, 'sucess': False, 'statu': False, 'var': False, 'prepar': False, 'fat': False, 'duplic': False, 'continu': False, 'text': False, 'inscr': False, 'corr': False, 'hav': False, 'dentr': False, 'diaz': False, 'chav': False, 'diss': False, 'melhor': False, 'www': False, 'b': False, 'wif': False, 'feir': False, 'acsoc': False, 'eduard': False, 'remoc': False, 'vim': False, 'bezerr': False, 'lrfserv': False, 'mp': False, 'soc': False, 'legal': False, 'format': False, 'justic': False, 'projet': False, 'prov': False, 'bip': False, 'necessit': False, 'trav': False, 'tecl': False, 'word': False, 'nenhum': False, 'hp': False, 'la': False, 'exced': False, 'googl': False, 'mand': False, 'microsoft': False, 'residenc': False, 'att': False, 'rela': False, 'modific': False, 'imped': False, 'seman': False, 'reset': False, 'transpar': False, 'devolv': False, 'real': False, 'descr': False, 'formul': False, 'inconsist': False, 'verd': False, 'soluc': False, 'dua': False, 'min': False, 'cumpriment': False, 'telefon': False, 'duart': False, 'tamanh': False, 'cruz': False, 'orc': False, 'radi': False, 'aquis': False, 'judici': False, 'almoxarif': False, 'pec': False, 'mater': False, 'fsdin': False, 'script': False, 'cheg': False, 'glob': False, 'colabor': False, 'setembr': False, 'nogu': False, 'histor': False, 'providenci': False, 'notic': False, 'tant': False, 'mari': False, 'inidone': False, 'feder': False, 'corre': False, 'barb': False, 'educ': False, 'tarj': False, 'ult': False, 'norm': False, 'etiquet': False, 'folh': False, 'conect': False, 'reinici': False, 'mod': False, 'calcul': False, 'trimestr': False, 'realoc': False, 'valu': False, 'difer': False, 'minut': False, 'expost': False, 'anual': False, 'natal': False, 'anot': False, 'constat': False, 'amarel': False, 'pm': False, 'outubr': False, 'tceadmin': False, 'diz': False, 'deix': False, 'futur': False, 'cartori': False, 'agost': False, 'ont': False, 'superi': False, 'elabor': False, 'confer': False, 'nega': False, 'automa': False, 'selec': False, 'siti': False, 'agend': False, 'qa': False, 'dur': False, 'alert': False, 'ja': False, 'ton': False, 'admin': False, 'sra': False, 'proje': False, 'defeit': False, 'microfon': False, 'ind': False, 'ricart': False, 'publ': False, 'azeved': False, 'civil': False, 'preven': False, 'andre': False, 'a': False, 'grup': False, 'escolh': False, 'rafael': False, 'ferias': False, 'roch': False, 'mel': False, 'judiciar': False, 'ad': False, 'alem': False, 'fge': False, 'mirand': False, 'artig': False, 'gerenc': False, 'agil': False, 'diogen': False, 'gccorr': False, 'entretant': False, 'carreg': False, 'cart': False, 'va': False, 'ns': False, 'ram': False, 'driv': False, 'tr': False, 'volt': False, 'or': False, 'divers': False, 'linh': False, 'com': False, 'natur': False, 'quantit': False, 'verifiq': False, 'legisl': False, 'to': False, 'rel': False, 'orga': False, 'prossegu': False, 'dand': False, 'balanc': False, 'supr': False, 'respec': False, 'exe': False, 'idinformaca': False, 'idcomposicaop': False, 'fern': False, 'recorr': False, 'facil': False, 'afim': False, 'mim': False, 'compr': False, 'virtud': False, 'igual': False, 'pet': False, 'bi': False, 'lo': False, 'amar': False, 'apo': False, 'secex': False, 'aqu': False, 'recent': False, 'iegm': False, 'exig': False, 'app': False, 'tempor': False, 'ant': False, 'on': False, 'ofici': False, 'obje': False, 'tre': False, 'adem': False, 'chef': False, 'cell': False, 'comiss': False, 'danific': False, 'maxxipow': False, 'p': False, 'respeit': False, 'prev': False, 'sirv': False, 'assunt': False, 'separ': False, 'terceir': False, 'vinic': False, 'sr': False, 'semelh': False, 'iann': False, 'pre': False, 'comparec': False, 'traz': False, 'licitatori': False, 'horar': False, 'ig': False, 'quadrimestr': False, 'apont': False, 'agor': False, 'visit': False, 'impossibilit': False, 'up': False, 'reconhec': False, 'of': False, 'informaco': False, 'acontec': False, 'descrit': False, 'sheyl': False, 'yusk': False, 'bol': False, 'report': False, 'bast': False, 'fech': False, 'rre': False, 'fiz': False, 'daquel': False, 'julg': False, 'vai': False, 'inferi': False, 'parcel': False, 'terc': False, 'emb': False, 'somatori': False, 'defini': False, 'xml': False, 'ip': False, 'compet': False, 'chrom': False, 'mant': False, 'vari': False, 'capacit': False, 'admiss': False, 'ambos': False, 'alin': False, 'liquid': False, 'atu': False, 'convers': False, 'dificuldad': False, 'aut': False, 'execut': False, 'angel': False, 'renat': False, 'menos': False, 'sugir': False, 'retific': False, 'recurs': False, 'capt': False, 'marcel': False, 'govrn': False, 'procurad': False, 'remanej': False, 'fgo': False, 'ruteni': False, 'transfer': False, 'assessor': False, 'queiroz': False, 'jos': False, 'acerc': False, 'etc': False, 'hotfix': False, 'fil': False, 'concentr': False, 'conhec': False, 'obt': False, 'ttrabalh': False, 'cidad': False, 'maurici': False, 'implant': False, 'medic': False, 'revis': False, 'copi': False, 'subsec': False, 'equivoc': False, 'regin': False, 'ness': False, 'maced': False, 'autoriz': False, 'jadson': False, 'desapens': False, 'requisit': False, 'fich': False, 'franc': False, 'efet': False, 'compar': False, 'propri': False, 'fundament': False, 'nf': False, 'previst': False, 'brit': False, 'per': False, 'estad': False, 'serido': False, 'vermelh': False, 'urg': False, 'assess': False, 'remet': False, 'pen': False, 'doc': False, 'fot': False, 'baix': False, 'admit': False, 'adequ': False, 'arearestrit': False, 'previd': False, 'mor': False, 'an': False, 'selecion': False, 'possibilit': False, 'layout': False, 'cogep': False, 'busc': False, 'localiz': False, 'princip': False, 'percent': False, 'zer': False, 'mencion': False, 'aco': False},\n",
       "       0], dtype=object)"
      ]
     },
     "execution_count": 23,
     "metadata": {},
     "output_type": "execute_result"
    }
   ],
   "source": [
    "dataset = np.array(featuresets)\n",
    "dataset[0]"
   ]
  },
  {
   "cell_type": "markdown",
   "metadata": {},
   "source": [
    "### Criação dos datasets (texto filtrado)"
   ]
  },
  {
   "cell_type": "code",
   "execution_count": 24,
   "metadata": {
    "colab": {
     "base_uri": "https://localhost:8080/",
     "height": 1000
    },
    "colab_type": "code",
    "id": "Cdcgtd4t3dMU",
    "outputId": "7fa57806-97ad-4e66-de76-a93a23bf6cea"
   },
   "outputs": [
    {
     "data": {
      "text/html": [
       "<div>\n",
       "<style scoped>\n",
       "    .dataframe tbody tr th:only-of-type {\n",
       "        vertical-align: middle;\n",
       "    }\n",
       "\n",
       "    .dataframe tbody tr th {\n",
       "        vertical-align: top;\n",
       "    }\n",
       "\n",
       "    .dataframe thead th {\n",
       "        text-align: right;\n",
       "    }\n",
       "</style>\n",
       "<table border=\"1\" class=\"dataframe\">\n",
       "  <thead>\n",
       "    <tr style=\"text-align: right;\">\n",
       "      <th></th>\n",
       "      <th>Classificação</th>\n",
       "      <th>Descricao Atualizada</th>\n",
       "    </tr>\n",
       "  </thead>\n",
       "  <tbody>\n",
       "    <tr>\n",
       "      <td>55</td>\n",
       "      <td>0</td>\n",
       "      <td>coloq imprim frent vers quer econom papel agor...</td>\n",
       "    </tr>\n",
       "    <tr>\n",
       "      <td>56</td>\n",
       "      <td>0</td>\n",
       "      <td>usu inform comput lig</td>\n",
       "    </tr>\n",
       "    <tr>\n",
       "      <td>57</td>\n",
       "      <td>0</td>\n",
       "      <td>usuar entr contat aleg impres local recepc dam...</td>\n",
       "    </tr>\n",
       "    <tr>\n",
       "      <td>58</td>\n",
       "      <td>0</td>\n",
       "      <td>usu inform excel funcion</td>\n",
       "    </tr>\n",
       "    <tr>\n",
       "      <td>59</td>\n",
       "      <td>0</td>\n",
       "      <td>usu entr contat aleg comput lig entretant brea...</td>\n",
       "    </tr>\n",
       "  </tbody>\n",
       "</table>\n",
       "</div>"
      ],
      "text/plain": [
       "   Classificação                               Descricao Atualizada\n",
       "55             0  coloq imprim frent vers quer econom papel agor...\n",
       "56             0                              usu inform comput lig\n",
       "57             0  usuar entr contat aleg impres local recepc dam...\n",
       "58             0                           usu inform excel funcion\n",
       "59             0  usu entr contat aleg comput lig entretant brea..."
      ]
     },
     "execution_count": 24,
     "metadata": {},
     "output_type": "execute_result"
    }
   ],
   "source": [
    "df_features = df[['Classificação', 'Descricao Atualizada']].copy()\n",
    "df_features.head()"
   ]
  },
  {
   "cell_type": "markdown",
   "metadata": {},
   "source": [
    "- Dataset de validação"
   ]
  },
  {
   "cell_type": "code",
   "execution_count": 25,
   "metadata": {},
   "outputs": [
    {
     "name": "stdout",
     "output_type": "stream",
     "text": [
      "<class 'pandas.core.frame.DataFrame'>\n",
      "Int64Index: 407 entries, 2788 to 3194\n",
      "Data columns (total 1 columns):\n",
      "Descricao Atualizada    407 non-null object\n",
      "dtypes: object(1)\n",
      "memory usage: 6.4+ KB\n"
     ]
    },
    {
     "data": {
      "text/plain": [
       "None"
      ]
     },
     "metadata": {},
     "output_type": "display_data"
    },
    {
     "data": {
      "text/html": [
       "<div>\n",
       "<style scoped>\n",
       "    .dataframe tbody tr th:only-of-type {\n",
       "        vertical-align: middle;\n",
       "    }\n",
       "\n",
       "    .dataframe tbody tr th {\n",
       "        vertical-align: top;\n",
       "    }\n",
       "\n",
       "    .dataframe thead th {\n",
       "        text-align: right;\n",
       "    }\n",
       "</style>\n",
       "<table border=\"1\" class=\"dataframe\">\n",
       "  <thead>\n",
       "    <tr style=\"text-align: right;\">\n",
       "      <th></th>\n",
       "      <th>Descricao Atualizada</th>\n",
       "    </tr>\n",
       "  </thead>\n",
       "  <tbody>\n",
       "    <tr>\n",
       "      <td>2788</td>\n",
       "      <td>dev cumpr estil solicit acess past secret gera...</td>\n",
       "    </tr>\n",
       "    <tr>\n",
       "      <td>2789</td>\n",
       "      <td>senh dire cient determin impost cort cont espe...</td>\n",
       "    </tr>\n",
       "    <tr>\n",
       "      <td>2790</td>\n",
       "      <td>senh dire cient determin impost cort cont espe...</td>\n",
       "    </tr>\n",
       "    <tr>\n",
       "      <td>2791</td>\n",
       "      <td>cadastr diari ofic tce dat public numer numer ...</td>\n",
       "    </tr>\n",
       "    <tr>\n",
       "      <td>2792</td>\n",
       "      <td>solicit verific possibil cri cham tecn recorr ...</td>\n",
       "    </tr>\n",
       "  </tbody>\n",
       "</table>\n",
       "</div>"
      ],
      "text/plain": [
       "                                   Descricao Atualizada\n",
       "2788  dev cumpr estil solicit acess past secret gera...\n",
       "2789  senh dire cient determin impost cort cont espe...\n",
       "2790  senh dire cient determin impost cort cont espe...\n",
       "2791  cadastr diari ofic tce dat public numer numer ...\n",
       "2792  solicit verific possibil cri cham tecn recorr ..."
      ]
     },
     "execution_count": 25,
     "metadata": {},
     "output_type": "execute_result"
    }
   ],
   "source": [
    "df_validacao = df_features[df_features['Classificação'].isnull()].drop(columns='Classificação').copy()\n",
    "display(df_validacao.info())\n",
    "df_validacao.head()"
   ]
  },
  {
   "cell_type": "markdown",
   "metadata": {},
   "source": [
    "- Dataset de treino e teste"
   ]
  },
  {
   "cell_type": "code",
   "execution_count": 26,
   "metadata": {},
   "outputs": [
    {
     "name": "stdout",
     "output_type": "stream",
     "text": [
      "<class 'pandas.core.frame.DataFrame'>\n",
      "Int64Index: 2610 entries, 55 to 2787\n",
      "Data columns (total 2 columns):\n",
      "Classificação           2610 non-null int64\n",
      "Descricao Atualizada    2610 non-null object\n",
      "dtypes: int64(1), object(1)\n",
      "memory usage: 61.2+ KB\n"
     ]
    }
   ],
   "source": [
    "df_features.dropna(inplace=True)\n",
    "df_features['Classificação'] = df_features['Classificação'].astype('int64')\n",
    "df_features.info()"
   ]
  },
  {
   "cell_type": "markdown",
   "metadata": {},
   "source": [
    "- Separando os datasets de treino e teste"
   ]
  },
  {
   "cell_type": "code",
   "execution_count": 27,
   "metadata": {
    "colab": {
     "base_uri": "https://localhost:8080/",
     "height": 50
    },
    "colab_type": "code",
    "id": "ZQ_pHZGJ3weF",
    "outputId": "8e148755-c5b1-4cb4-d421-0c8a48bf82e0"
   },
   "outputs": [
    {
     "name": "stdout",
     "output_type": "stream",
     "text": [
      "Treino: 1827\n",
      "Teste: 783\n"
     ]
    }
   ],
   "source": [
    "treino, teste = train_test_split(df_features, test_size = 0.3, random_state=42, stratify=df_features['Classificação'])\n",
    "\n",
    "print(\"Treino:\", len(treino))\n",
    "print(\"Teste:\", len(teste))"
   ]
  },
  {
   "cell_type": "markdown",
   "metadata": {},
   "source": [
    "- Info do treino"
   ]
  },
  {
   "cell_type": "code",
   "execution_count": 28,
   "metadata": {},
   "outputs": [
    {
     "name": "stdout",
     "output_type": "stream",
     "text": [
      "<class 'pandas.core.frame.DataFrame'>\n",
      "Int64Index: 1827 entries, 195 to 1052\n",
      "Data columns (total 2 columns):\n",
      "Classificação           1827 non-null int64\n",
      "Descricao Atualizada    1827 non-null object\n",
      "dtypes: int64(1), object(1)\n",
      "memory usage: 42.8+ KB\n"
     ]
    },
    {
     "data": {
      "text/plain": [
       "None"
      ]
     },
     "metadata": {},
     "output_type": "display_data"
    },
    {
     "data": {
      "text/html": [
       "<div>\n",
       "<style scoped>\n",
       "    .dataframe tbody tr th:only-of-type {\n",
       "        vertical-align: middle;\n",
       "    }\n",
       "\n",
       "    .dataframe tbody tr th {\n",
       "        vertical-align: top;\n",
       "    }\n",
       "\n",
       "    .dataframe thead th {\n",
       "        text-align: right;\n",
       "    }\n",
       "</style>\n",
       "<table border=\"1\" class=\"dataframe\">\n",
       "  <thead>\n",
       "    <tr style=\"text-align: right;\">\n",
       "      <th></th>\n",
       "      <th>Classificação</th>\n",
       "      <th>Descricao Atualizada</th>\n",
       "    </tr>\n",
       "  </thead>\n",
       "  <tbody>\n",
       "    <tr>\n",
       "      <td>195</td>\n",
       "      <td>0</td>\n",
       "      <td>verific comput usuar aleg encerr form subit</td>\n",
       "    </tr>\n",
       "    <tr>\n",
       "      <td>1866</td>\n",
       "      <td>1</td>\n",
       "      <td>senh marivan entr contat duvid si dp</td>\n",
       "    </tr>\n",
       "    <tr>\n",
       "      <td>956</td>\n",
       "      <td>0</td>\n",
       "      <td>test notebook web excel tomb numer</td>\n",
       "    </tr>\n",
       "    <tr>\n",
       "      <td>447</td>\n",
       "      <td>1</td>\n",
       "      <td>ana mar secret administr natal consegu abr si ...</td>\n",
       "    </tr>\n",
       "    <tr>\n",
       "      <td>752</td>\n",
       "      <td>0</td>\n",
       "      <td>atual jav</td>\n",
       "    </tr>\n",
       "  </tbody>\n",
       "</table>\n",
       "</div>"
      ],
      "text/plain": [
       "      Classificação                               Descricao Atualizada\n",
       "195               0        verific comput usuar aleg encerr form subit\n",
       "1866              1               senh marivan entr contat duvid si dp\n",
       "956               0                 test notebook web excel tomb numer\n",
       "447               1  ana mar secret administr natal consegu abr si ...\n",
       "752               0                                          atual jav"
      ]
     },
     "execution_count": 28,
     "metadata": {},
     "output_type": "execute_result"
    }
   ],
   "source": [
    "display(treino.info())\n",
    "treino.head()"
   ]
  },
  {
   "cell_type": "code",
   "execution_count": 29,
   "metadata": {},
   "outputs": [
    {
     "data": {
      "image/png": "[encoded data removed]",
      "text/plain": [
       "<Figure size 432x288 with 1 Axes>"
      ]
     },
     "metadata": {
      "needs_background": "light"
     },
     "output_type": "display_data"
    }
   ],
   "source": [
    "treino.Classificação.value_counts().plot.bar()\n",
    "plt.show()"
   ]
  },
  {
   "cell_type": "markdown",
   "metadata": {},
   "source": [
    "- Info do teste"
   ]
  },
  {
   "cell_type": "markdown",
   "metadata": {},
   "source": [
    "### Exportando os datasets (texto filtrado)\n",
    "\n",
    "- Arquivo de validação"
   ]
  },
  {
   "cell_type": "code",
   "execution_count": 30,
   "metadata": {},
   "outputs": [],
   "source": [
    "df_validacao.to_excel('../datasets/Chamados_Validação.xlsx', index=False)\n",
    "#df_validacao.to_csv('../datasets/Chamados_Validação.csv', index=False)"
   ]
  },
  {
   "cell_type": "markdown",
   "metadata": {},
   "source": [
    "- Arquivo de treino"
   ]
  },
  {
   "cell_type": "code",
   "execution_count": 31,
   "metadata": {},
   "outputs": [],
   "source": [
    "treino.to_excel('../datasets/Chamados_Treino.xlsx', index=False)\n",
    "#treino.to_csv('../datasets/Chamados_Treino.csv', index=False)"
   ]
  },
  {
   "cell_type": "markdown",
   "metadata": {},
   "source": [
    "- Arquivo de teste"
   ]
  },
  {
   "cell_type": "code",
   "execution_count": 32,
   "metadata": {},
   "outputs": [],
   "source": [
    "teste.to_excel('../datasets/Chamados_Teste.xlsx', index=False)\n",
    "#teste.to_csv('../datasets/Chamados_Teste.csv', index=False)"
   ]
  },
  {
   "cell_type": "markdown",
   "metadata": {},
   "source": [
    "### Criação dos datasets (BoW)"
   ]
  },
  {
   "cell_type": "code",
   "execution_count": 33,
   "metadata": {},
   "outputs": [
    {
     "name": "stdout",
     "output_type": "stream",
     "text": [
      "<class 'pandas.core.frame.DataFrame'>\n",
      "RangeIndex: 3017 entries, 0 to 3016\n",
      "Columns: 1000 entries, a to zer\n",
      "dtypes: float64(1000)\n",
      "memory usage: 23.0 MB\n"
     ]
    },
    {
     "data": {
      "text/plain": [
       "None"
      ]
     },
     "metadata": {},
     "output_type": "display_data"
    },
    {
     "data": {
      "text/html": [
       "<div>\n",
       "<style scoped>\n",
       "    .dataframe tbody tr th:only-of-type {\n",
       "        vertical-align: middle;\n",
       "    }\n",
       "\n",
       "    .dataframe tbody tr th {\n",
       "        vertical-align: top;\n",
       "    }\n",
       "\n",
       "    .dataframe thead th {\n",
       "        text-align: right;\n",
       "    }\n",
       "</style>\n",
       "<table border=\"1\" class=\"dataframe\">\n",
       "  <thead>\n",
       "    <tr style=\"text-align: right;\">\n",
       "      <th></th>\n",
       "      <th>a</th>\n",
       "      <th>aba</th>\n",
       "      <th>abaix</th>\n",
       "      <th>abert</th>\n",
       "      <th>abr</th>\n",
       "      <th>aca</th>\n",
       "      <th>acerc</th>\n",
       "      <th>acess</th>\n",
       "      <th>acim</th>\n",
       "      <th>aco</th>\n",
       "      <th>...</th>\n",
       "      <th>vot</th>\n",
       "      <th>web</th>\n",
       "      <th>wif</th>\n",
       "      <th>word</th>\n",
       "      <th>www</th>\n",
       "      <th>wwwreleas</th>\n",
       "      <th>xavi</th>\n",
       "      <th>xml</th>\n",
       "      <th>yusk</th>\n",
       "      <th>zer</th>\n",
       "    </tr>\n",
       "  </thead>\n",
       "  <tbody>\n",
       "    <tr>\n",
       "      <td>0</td>\n",
       "      <td>0.0</td>\n",
       "      <td>0.0</td>\n",
       "      <td>0.0</td>\n",
       "      <td>0.0</td>\n",
       "      <td>0.0</td>\n",
       "      <td>0.0</td>\n",
       "      <td>0.0</td>\n",
       "      <td>0.0</td>\n",
       "      <td>0.0</td>\n",
       "      <td>0.0</td>\n",
       "      <td>...</td>\n",
       "      <td>0.0</td>\n",
       "      <td>0.0</td>\n",
       "      <td>0.0</td>\n",
       "      <td>0.0</td>\n",
       "      <td>0.0</td>\n",
       "      <td>0.0</td>\n",
       "      <td>0.0</td>\n",
       "      <td>0.0</td>\n",
       "      <td>0.0</td>\n",
       "      <td>0.0</td>\n",
       "    </tr>\n",
       "    <tr>\n",
       "      <td>1</td>\n",
       "      <td>0.0</td>\n",
       "      <td>0.0</td>\n",
       "      <td>0.0</td>\n",
       "      <td>0.0</td>\n",
       "      <td>0.0</td>\n",
       "      <td>0.0</td>\n",
       "      <td>0.0</td>\n",
       "      <td>0.0</td>\n",
       "      <td>0.0</td>\n",
       "      <td>0.0</td>\n",
       "      <td>...</td>\n",
       "      <td>0.0</td>\n",
       "      <td>0.0</td>\n",
       "      <td>0.0</td>\n",
       "      <td>0.0</td>\n",
       "      <td>0.0</td>\n",
       "      <td>0.0</td>\n",
       "      <td>0.0</td>\n",
       "      <td>0.0</td>\n",
       "      <td>0.0</td>\n",
       "      <td>0.0</td>\n",
       "    </tr>\n",
       "    <tr>\n",
       "      <td>2</td>\n",
       "      <td>0.0</td>\n",
       "      <td>0.0</td>\n",
       "      <td>0.0</td>\n",
       "      <td>0.0</td>\n",
       "      <td>0.0</td>\n",
       "      <td>0.0</td>\n",
       "      <td>0.0</td>\n",
       "      <td>0.0</td>\n",
       "      <td>0.0</td>\n",
       "      <td>0.0</td>\n",
       "      <td>...</td>\n",
       "      <td>0.0</td>\n",
       "      <td>0.0</td>\n",
       "      <td>0.0</td>\n",
       "      <td>0.0</td>\n",
       "      <td>0.0</td>\n",
       "      <td>0.0</td>\n",
       "      <td>0.0</td>\n",
       "      <td>0.0</td>\n",
       "      <td>0.0</td>\n",
       "      <td>0.0</td>\n",
       "    </tr>\n",
       "    <tr>\n",
       "      <td>3</td>\n",
       "      <td>0.0</td>\n",
       "      <td>0.0</td>\n",
       "      <td>0.0</td>\n",
       "      <td>0.0</td>\n",
       "      <td>0.0</td>\n",
       "      <td>0.0</td>\n",
       "      <td>0.0</td>\n",
       "      <td>0.0</td>\n",
       "      <td>0.0</td>\n",
       "      <td>0.0</td>\n",
       "      <td>...</td>\n",
       "      <td>0.0</td>\n",
       "      <td>0.0</td>\n",
       "      <td>0.0</td>\n",
       "      <td>0.0</td>\n",
       "      <td>0.0</td>\n",
       "      <td>0.0</td>\n",
       "      <td>0.0</td>\n",
       "      <td>0.0</td>\n",
       "      <td>0.0</td>\n",
       "      <td>0.0</td>\n",
       "    </tr>\n",
       "    <tr>\n",
       "      <td>4</td>\n",
       "      <td>0.0</td>\n",
       "      <td>0.0</td>\n",
       "      <td>0.0</td>\n",
       "      <td>0.0</td>\n",
       "      <td>0.0</td>\n",
       "      <td>0.0</td>\n",
       "      <td>0.0</td>\n",
       "      <td>0.0</td>\n",
       "      <td>0.0</td>\n",
       "      <td>0.0</td>\n",
       "      <td>...</td>\n",
       "      <td>0.0</td>\n",
       "      <td>0.0</td>\n",
       "      <td>0.0</td>\n",
       "      <td>0.0</td>\n",
       "      <td>0.0</td>\n",
       "      <td>0.0</td>\n",
       "      <td>0.0</td>\n",
       "      <td>0.0</td>\n",
       "      <td>0.0</td>\n",
       "      <td>0.0</td>\n",
       "    </tr>\n",
       "  </tbody>\n",
       "</table>\n",
       "<p>5 rows × 1000 columns</p>\n",
       "</div>"
      ],
      "text/plain": [
       "     a  aba  abaix  abert  abr  aca  acerc  acess  acim  aco  ...  vot  web  \\\n",
       "0  0.0  0.0    0.0    0.0  0.0  0.0    0.0    0.0   0.0  0.0  ...  0.0  0.0   \n",
       "1  0.0  0.0    0.0    0.0  0.0  0.0    0.0    0.0   0.0  0.0  ...  0.0  0.0   \n",
       "2  0.0  0.0    0.0    0.0  0.0  0.0    0.0    0.0   0.0  0.0  ...  0.0  0.0   \n",
       "3  0.0  0.0    0.0    0.0  0.0  0.0    0.0    0.0   0.0  0.0  ...  0.0  0.0   \n",
       "4  0.0  0.0    0.0    0.0  0.0  0.0    0.0    0.0   0.0  0.0  ...  0.0  0.0   \n",
       "\n",
       "   wif  word  www  wwwreleas  xavi  xml  yusk  zer  \n",
       "0  0.0   0.0  0.0        0.0   0.0  0.0   0.0  0.0  \n",
       "1  0.0   0.0  0.0        0.0   0.0  0.0   0.0  0.0  \n",
       "2  0.0   0.0  0.0        0.0   0.0  0.0   0.0  0.0  \n",
       "3  0.0   0.0  0.0        0.0   0.0  0.0   0.0  0.0  \n",
       "4  0.0   0.0  0.0        0.0   0.0  0.0   0.0  0.0  \n",
       "\n",
       "[5 rows x 1000 columns]"
      ]
     },
     "execution_count": 33,
     "metadata": {},
     "output_type": "execute_result"
    }
   ],
   "source": [
    "df_bow = pd.DataFrame()\n",
    "\n",
    "for d in dataset[:,0]:\n",
    "    df_bow = df_bow.append(dict(d), ignore_index=True)\n",
    "\n",
    "display(df_bow.info())\n",
    "df_bow.head()"
   ]
  },
  {
   "cell_type": "code",
   "execution_count": 34,
   "metadata": {},
   "outputs": [
    {
     "name": "stdout",
     "output_type": "stream",
     "text": [
      "<class 'pandas.core.frame.DataFrame'>\n",
      "RangeIndex: 3017 entries, 0 to 3016\n",
      "Data columns (total 1 columns):\n",
      "label    2610 non-null object\n",
      "dtypes: object(1)\n",
      "memory usage: 23.7+ KB\n"
     ]
    },
    {
     "data": {
      "text/plain": [
       "None"
      ]
     },
     "metadata": {},
     "output_type": "display_data"
    },
    {
     "data": {
      "text/html": [
       "<div>\n",
       "<style scoped>\n",
       "    .dataframe tbody tr th:only-of-type {\n",
       "        vertical-align: middle;\n",
       "    }\n",
       "\n",
       "    .dataframe tbody tr th {\n",
       "        vertical-align: top;\n",
       "    }\n",
       "\n",
       "    .dataframe thead th {\n",
       "        text-align: right;\n",
       "    }\n",
       "</style>\n",
       "<table border=\"1\" class=\"dataframe\">\n",
       "  <thead>\n",
       "    <tr style=\"text-align: right;\">\n",
       "      <th></th>\n",
       "      <th>label</th>\n",
       "    </tr>\n",
       "  </thead>\n",
       "  <tbody>\n",
       "    <tr>\n",
       "      <td>0</td>\n",
       "      <td>0</td>\n",
       "    </tr>\n",
       "    <tr>\n",
       "      <td>1</td>\n",
       "      <td>0</td>\n",
       "    </tr>\n",
       "    <tr>\n",
       "      <td>2</td>\n",
       "      <td>1</td>\n",
       "    </tr>\n",
       "    <tr>\n",
       "      <td>3</td>\n",
       "      <td>0</td>\n",
       "    </tr>\n",
       "    <tr>\n",
       "      <td>4</td>\n",
       "      <td>1</td>\n",
       "    </tr>\n",
       "  </tbody>\n",
       "</table>\n",
       "</div>"
      ],
      "text/plain": [
       "  label\n",
       "0     0\n",
       "1     0\n",
       "2     1\n",
       "3     0\n",
       "4     1"
      ]
     },
     "execution_count": 34,
     "metadata": {},
     "output_type": "execute_result"
    }
   ],
   "source": [
    "df_labels = pd.DataFrame(dataset[:,1], columns=['label'])\n",
    "display(df_labels.info())\n",
    "df_labels.head()"
   ]
  },
  {
   "cell_type": "code",
   "execution_count": 35,
   "metadata": {},
   "outputs": [
    {
     "name": "stdout",
     "output_type": "stream",
     "text": [
      "<class 'pandas.core.frame.DataFrame'>\n",
      "RangeIndex: 3017 entries, 0 to 3016\n",
      "Columns: 1001 entries, label to zer\n",
      "dtypes: float64(1000), object(1)\n",
      "memory usage: 23.0+ MB\n"
     ]
    },
    {
     "data": {
      "text/plain": [
       "None"
      ]
     },
     "metadata": {},
     "output_type": "display_data"
    },
    {
     "data": {
      "text/html": [
       "<div>\n",
       "<style scoped>\n",
       "    .dataframe tbody tr th:only-of-type {\n",
       "        vertical-align: middle;\n",
       "    }\n",
       "\n",
       "    .dataframe tbody tr th {\n",
       "        vertical-align: top;\n",
       "    }\n",
       "\n",
       "    .dataframe thead th {\n",
       "        text-align: right;\n",
       "    }\n",
       "</style>\n",
       "<table border=\"1\" class=\"dataframe\">\n",
       "  <thead>\n",
       "    <tr style=\"text-align: right;\">\n",
       "      <th></th>\n",
       "      <th>label</th>\n",
       "      <th>a</th>\n",
       "      <th>aba</th>\n",
       "      <th>abaix</th>\n",
       "      <th>abert</th>\n",
       "      <th>abr</th>\n",
       "      <th>aca</th>\n",
       "      <th>acerc</th>\n",
       "      <th>acess</th>\n",
       "      <th>acim</th>\n",
       "      <th>...</th>\n",
       "      <th>vot</th>\n",
       "      <th>web</th>\n",
       "      <th>wif</th>\n",
       "      <th>word</th>\n",
       "      <th>www</th>\n",
       "      <th>wwwreleas</th>\n",
       "      <th>xavi</th>\n",
       "      <th>xml</th>\n",
       "      <th>yusk</th>\n",
       "      <th>zer</th>\n",
       "    </tr>\n",
       "  </thead>\n",
       "  <tbody>\n",
       "    <tr>\n",
       "      <td>0</td>\n",
       "      <td>0</td>\n",
       "      <td>0.0</td>\n",
       "      <td>0.0</td>\n",
       "      <td>0.0</td>\n",
       "      <td>0.0</td>\n",
       "      <td>0.0</td>\n",
       "      <td>0.0</td>\n",
       "      <td>0.0</td>\n",
       "      <td>0.0</td>\n",
       "      <td>0.0</td>\n",
       "      <td>...</td>\n",
       "      <td>0.0</td>\n",
       "      <td>0.0</td>\n",
       "      <td>0.0</td>\n",
       "      <td>0.0</td>\n",
       "      <td>0.0</td>\n",
       "      <td>0.0</td>\n",
       "      <td>0.0</td>\n",
       "      <td>0.0</td>\n",
       "      <td>0.0</td>\n",
       "      <td>0.0</td>\n",
       "    </tr>\n",
       "    <tr>\n",
       "      <td>1</td>\n",
       "      <td>0</td>\n",
       "      <td>0.0</td>\n",
       "      <td>0.0</td>\n",
       "      <td>0.0</td>\n",
       "      <td>0.0</td>\n",
       "      <td>0.0</td>\n",
       "      <td>0.0</td>\n",
       "      <td>0.0</td>\n",
       "      <td>0.0</td>\n",
       "      <td>0.0</td>\n",
       "      <td>...</td>\n",
       "      <td>0.0</td>\n",
       "      <td>0.0</td>\n",
       "      <td>0.0</td>\n",
       "      <td>0.0</td>\n",
       "      <td>0.0</td>\n",
       "      <td>0.0</td>\n",
       "      <td>0.0</td>\n",
       "      <td>0.0</td>\n",
       "      <td>0.0</td>\n",
       "      <td>0.0</td>\n",
       "    </tr>\n",
       "    <tr>\n",
       "      <td>2</td>\n",
       "      <td>1</td>\n",
       "      <td>0.0</td>\n",
       "      <td>0.0</td>\n",
       "      <td>0.0</td>\n",
       "      <td>0.0</td>\n",
       "      <td>0.0</td>\n",
       "      <td>0.0</td>\n",
       "      <td>0.0</td>\n",
       "      <td>0.0</td>\n",
       "      <td>0.0</td>\n",
       "      <td>...</td>\n",
       "      <td>0.0</td>\n",
       "      <td>0.0</td>\n",
       "      <td>0.0</td>\n",
       "      <td>0.0</td>\n",
       "      <td>0.0</td>\n",
       "      <td>0.0</td>\n",
       "      <td>0.0</td>\n",
       "      <td>0.0</td>\n",
       "      <td>0.0</td>\n",
       "      <td>0.0</td>\n",
       "    </tr>\n",
       "    <tr>\n",
       "      <td>3</td>\n",
       "      <td>0</td>\n",
       "      <td>0.0</td>\n",
       "      <td>0.0</td>\n",
       "      <td>0.0</td>\n",
       "      <td>0.0</td>\n",
       "      <td>0.0</td>\n",
       "      <td>0.0</td>\n",
       "      <td>0.0</td>\n",
       "      <td>0.0</td>\n",
       "      <td>0.0</td>\n",
       "      <td>...</td>\n",
       "      <td>0.0</td>\n",
       "      <td>0.0</td>\n",
       "      <td>0.0</td>\n",
       "      <td>0.0</td>\n",
       "      <td>0.0</td>\n",
       "      <td>0.0</td>\n",
       "      <td>0.0</td>\n",
       "      <td>0.0</td>\n",
       "      <td>0.0</td>\n",
       "      <td>0.0</td>\n",
       "    </tr>\n",
       "    <tr>\n",
       "      <td>4</td>\n",
       "      <td>1</td>\n",
       "      <td>0.0</td>\n",
       "      <td>0.0</td>\n",
       "      <td>0.0</td>\n",
       "      <td>0.0</td>\n",
       "      <td>0.0</td>\n",
       "      <td>0.0</td>\n",
       "      <td>0.0</td>\n",
       "      <td>0.0</td>\n",
       "      <td>0.0</td>\n",
       "      <td>...</td>\n",
       "      <td>0.0</td>\n",
       "      <td>0.0</td>\n",
       "      <td>0.0</td>\n",
       "      <td>0.0</td>\n",
       "      <td>0.0</td>\n",
       "      <td>0.0</td>\n",
       "      <td>0.0</td>\n",
       "      <td>0.0</td>\n",
       "      <td>0.0</td>\n",
       "      <td>0.0</td>\n",
       "    </tr>\n",
       "  </tbody>\n",
       "</table>\n",
       "<p>5 rows × 1001 columns</p>\n",
       "</div>"
      ],
      "text/plain": [
       "  label    a  aba  abaix  abert  abr  aca  acerc  acess  acim  ...  vot  web  \\\n",
       "0     0  0.0  0.0    0.0    0.0  0.0  0.0    0.0    0.0   0.0  ...  0.0  0.0   \n",
       "1     0  0.0  0.0    0.0    0.0  0.0  0.0    0.0    0.0   0.0  ...  0.0  0.0   \n",
       "2     1  0.0  0.0    0.0    0.0  0.0  0.0    0.0    0.0   0.0  ...  0.0  0.0   \n",
       "3     0  0.0  0.0    0.0    0.0  0.0  0.0    0.0    0.0   0.0  ...  0.0  0.0   \n",
       "4     1  0.0  0.0    0.0    0.0  0.0  0.0    0.0    0.0   0.0  ...  0.0  0.0   \n",
       "\n",
       "   wif  word  www  wwwreleas  xavi  xml  yusk  zer  \n",
       "0  0.0   0.0  0.0        0.0   0.0  0.0   0.0  0.0  \n",
       "1  0.0   0.0  0.0        0.0   0.0  0.0   0.0  0.0  \n",
       "2  0.0   0.0  0.0        0.0   0.0  0.0   0.0  0.0  \n",
       "3  0.0   0.0  0.0        0.0   0.0  0.0   0.0  0.0  \n",
       "4  0.0   0.0  0.0        0.0   0.0  0.0   0.0  0.0  \n",
       "\n",
       "[5 rows x 1001 columns]"
      ]
     },
     "execution_count": 35,
     "metadata": {},
     "output_type": "execute_result"
    }
   ],
   "source": [
    "df_ready = pd.concat([df_labels,df_bow], axis=1)\n",
    "display(df_ready.info())\n",
    "df_ready.head()"
   ]
  },
  {
   "cell_type": "markdown",
   "metadata": {},
   "source": [
    "- Validação"
   ]
  },
  {
   "cell_type": "code",
   "execution_count": 36,
   "metadata": {},
   "outputs": [
    {
     "name": "stdout",
     "output_type": "stream",
     "text": [
      "<class 'pandas.core.frame.DataFrame'>\n",
      "Int64Index: 407 entries, 5 to 3006\n",
      "Columns: 1001 entries, label to zer\n",
      "dtypes: float64(1000), object(1)\n",
      "memory usage: 3.1+ MB\n"
     ]
    },
    {
     "data": {
      "text/plain": [
       "None"
      ]
     },
     "metadata": {},
     "output_type": "display_data"
    },
    {
     "data": {
      "text/html": [
       "<div>\n",
       "<style scoped>\n",
       "    .dataframe tbody tr th:only-of-type {\n",
       "        vertical-align: middle;\n",
       "    }\n",
       "\n",
       "    .dataframe tbody tr th {\n",
       "        vertical-align: top;\n",
       "    }\n",
       "\n",
       "    .dataframe thead th {\n",
       "        text-align: right;\n",
       "    }\n",
       "</style>\n",
       "<table border=\"1\" class=\"dataframe\">\n",
       "  <thead>\n",
       "    <tr style=\"text-align: right;\">\n",
       "      <th></th>\n",
       "      <th>label</th>\n",
       "      <th>a</th>\n",
       "      <th>aba</th>\n",
       "      <th>abaix</th>\n",
       "      <th>abert</th>\n",
       "      <th>abr</th>\n",
       "      <th>aca</th>\n",
       "      <th>acerc</th>\n",
       "      <th>acess</th>\n",
       "      <th>acim</th>\n",
       "      <th>...</th>\n",
       "      <th>vot</th>\n",
       "      <th>web</th>\n",
       "      <th>wif</th>\n",
       "      <th>word</th>\n",
       "      <th>www</th>\n",
       "      <th>wwwreleas</th>\n",
       "      <th>xavi</th>\n",
       "      <th>xml</th>\n",
       "      <th>yusk</th>\n",
       "      <th>zer</th>\n",
       "    </tr>\n",
       "  </thead>\n",
       "  <tbody>\n",
       "    <tr>\n",
       "      <td>5</td>\n",
       "      <td>NaN</td>\n",
       "      <td>0.0</td>\n",
       "      <td>0.0</td>\n",
       "      <td>0.0</td>\n",
       "      <td>0.0</td>\n",
       "      <td>0.0</td>\n",
       "      <td>0.0</td>\n",
       "      <td>0.0</td>\n",
       "      <td>0.0</td>\n",
       "      <td>0.0</td>\n",
       "      <td>...</td>\n",
       "      <td>0.0</td>\n",
       "      <td>0.0</td>\n",
       "      <td>0.0</td>\n",
       "      <td>0.0</td>\n",
       "      <td>0.0</td>\n",
       "      <td>0.0</td>\n",
       "      <td>0.0</td>\n",
       "      <td>0.0</td>\n",
       "      <td>0.0</td>\n",
       "      <td>0.0</td>\n",
       "    </tr>\n",
       "    <tr>\n",
       "      <td>7</td>\n",
       "      <td>NaN</td>\n",
       "      <td>0.0</td>\n",
       "      <td>0.0</td>\n",
       "      <td>0.0</td>\n",
       "      <td>0.0</td>\n",
       "      <td>0.0</td>\n",
       "      <td>0.0</td>\n",
       "      <td>0.0</td>\n",
       "      <td>0.0</td>\n",
       "      <td>0.0</td>\n",
       "      <td>...</td>\n",
       "      <td>0.0</td>\n",
       "      <td>0.0</td>\n",
       "      <td>0.0</td>\n",
       "      <td>0.0</td>\n",
       "      <td>0.0</td>\n",
       "      <td>0.0</td>\n",
       "      <td>0.0</td>\n",
       "      <td>0.0</td>\n",
       "      <td>0.0</td>\n",
       "      <td>0.0</td>\n",
       "    </tr>\n",
       "    <tr>\n",
       "      <td>9</td>\n",
       "      <td>NaN</td>\n",
       "      <td>0.0</td>\n",
       "      <td>0.0</td>\n",
       "      <td>0.0</td>\n",
       "      <td>0.0</td>\n",
       "      <td>0.0</td>\n",
       "      <td>0.0</td>\n",
       "      <td>0.0</td>\n",
       "      <td>0.0</td>\n",
       "      <td>0.0</td>\n",
       "      <td>...</td>\n",
       "      <td>0.0</td>\n",
       "      <td>0.0</td>\n",
       "      <td>0.0</td>\n",
       "      <td>1.0</td>\n",
       "      <td>0.0</td>\n",
       "      <td>0.0</td>\n",
       "      <td>0.0</td>\n",
       "      <td>0.0</td>\n",
       "      <td>0.0</td>\n",
       "      <td>0.0</td>\n",
       "    </tr>\n",
       "    <tr>\n",
       "      <td>11</td>\n",
       "      <td>NaN</td>\n",
       "      <td>0.0</td>\n",
       "      <td>0.0</td>\n",
       "      <td>0.0</td>\n",
       "      <td>0.0</td>\n",
       "      <td>0.0</td>\n",
       "      <td>0.0</td>\n",
       "      <td>0.0</td>\n",
       "      <td>0.0</td>\n",
       "      <td>0.0</td>\n",
       "      <td>...</td>\n",
       "      <td>0.0</td>\n",
       "      <td>0.0</td>\n",
       "      <td>0.0</td>\n",
       "      <td>0.0</td>\n",
       "      <td>0.0</td>\n",
       "      <td>0.0</td>\n",
       "      <td>0.0</td>\n",
       "      <td>0.0</td>\n",
       "      <td>0.0</td>\n",
       "      <td>0.0</td>\n",
       "    </tr>\n",
       "    <tr>\n",
       "      <td>18</td>\n",
       "      <td>NaN</td>\n",
       "      <td>0.0</td>\n",
       "      <td>0.0</td>\n",
       "      <td>0.0</td>\n",
       "      <td>0.0</td>\n",
       "      <td>0.0</td>\n",
       "      <td>0.0</td>\n",
       "      <td>0.0</td>\n",
       "      <td>0.0</td>\n",
       "      <td>0.0</td>\n",
       "      <td>...</td>\n",
       "      <td>0.0</td>\n",
       "      <td>0.0</td>\n",
       "      <td>0.0</td>\n",
       "      <td>0.0</td>\n",
       "      <td>0.0</td>\n",
       "      <td>0.0</td>\n",
       "      <td>0.0</td>\n",
       "      <td>0.0</td>\n",
       "      <td>0.0</td>\n",
       "      <td>0.0</td>\n",
       "    </tr>\n",
       "  </tbody>\n",
       "</table>\n",
       "<p>5 rows × 1001 columns</p>\n",
       "</div>"
      ],
      "text/plain": [
       "   label    a  aba  abaix  abert  abr  aca  acerc  acess  acim  ...  vot  web  \\\n",
       "5    NaN  0.0  0.0    0.0    0.0  0.0  0.0    0.0    0.0   0.0  ...  0.0  0.0   \n",
       "7    NaN  0.0  0.0    0.0    0.0  0.0  0.0    0.0    0.0   0.0  ...  0.0  0.0   \n",
       "9    NaN  0.0  0.0    0.0    0.0  0.0  0.0    0.0    0.0   0.0  ...  0.0  0.0   \n",
       "11   NaN  0.0  0.0    0.0    0.0  0.0  0.0    0.0    0.0   0.0  ...  0.0  0.0   \n",
       "18   NaN  0.0  0.0    0.0    0.0  0.0  0.0    0.0    0.0   0.0  ...  0.0  0.0   \n",
       "\n",
       "    wif  word  www  wwwreleas  xavi  xml  yusk  zer  \n",
       "5   0.0   0.0  0.0        0.0   0.0  0.0   0.0  0.0  \n",
       "7   0.0   0.0  0.0        0.0   0.0  0.0   0.0  0.0  \n",
       "9   0.0   1.0  0.0        0.0   0.0  0.0   0.0  0.0  \n",
       "11  0.0   0.0  0.0        0.0   0.0  0.0   0.0  0.0  \n",
       "18  0.0   0.0  0.0        0.0   0.0  0.0   0.0  0.0  \n",
       "\n",
       "[5 rows x 1001 columns]"
      ]
     },
     "execution_count": 36,
     "metadata": {},
     "output_type": "execute_result"
    }
   ],
   "source": [
    "df_validacao_bow = df_ready[df_ready.label.isna()].copy()\n",
    "display(df_validacao_bow.info())\n",
    "df_validacao_bow.head()"
   ]
  },
  {
   "cell_type": "code",
   "execution_count": 37,
   "metadata": {},
   "outputs": [
    {
     "name": "stdout",
     "output_type": "stream",
     "text": [
      "<class 'pandas.core.frame.DataFrame'>\n",
      "Int64Index: 407 entries, 5 to 3006\n",
      "Columns: 1000 entries, a to zer\n",
      "dtypes: float64(1000)\n",
      "memory usage: 3.1 MB\n"
     ]
    },
    {
     "data": {
      "text/plain": [
       "None"
      ]
     },
     "metadata": {},
     "output_type": "display_data"
    },
    {
     "data": {
      "text/html": [
       "<div>\n",
       "<style scoped>\n",
       "    .dataframe tbody tr th:only-of-type {\n",
       "        vertical-align: middle;\n",
       "    }\n",
       "\n",
       "    .dataframe tbody tr th {\n",
       "        vertical-align: top;\n",
       "    }\n",
       "\n",
       "    .dataframe thead th {\n",
       "        text-align: right;\n",
       "    }\n",
       "</style>\n",
       "<table border=\"1\" class=\"dataframe\">\n",
       "  <thead>\n",
       "    <tr style=\"text-align: right;\">\n",
       "      <th></th>\n",
       "      <th>a</th>\n",
       "      <th>aba</th>\n",
       "      <th>abaix</th>\n",
       "      <th>abert</th>\n",
       "      <th>abr</th>\n",
       "      <th>aca</th>\n",
       "      <th>acerc</th>\n",
       "      <th>acess</th>\n",
       "      <th>acim</th>\n",
       "      <th>aco</th>\n",
       "      <th>...</th>\n",
       "      <th>vot</th>\n",
       "      <th>web</th>\n",
       "      <th>wif</th>\n",
       "      <th>word</th>\n",
       "      <th>www</th>\n",
       "      <th>wwwreleas</th>\n",
       "      <th>xavi</th>\n",
       "      <th>xml</th>\n",
       "      <th>yusk</th>\n",
       "      <th>zer</th>\n",
       "    </tr>\n",
       "  </thead>\n",
       "  <tbody>\n",
       "    <tr>\n",
       "      <td>5</td>\n",
       "      <td>0.0</td>\n",
       "      <td>0.0</td>\n",
       "      <td>0.0</td>\n",
       "      <td>0.0</td>\n",
       "      <td>0.0</td>\n",
       "      <td>0.0</td>\n",
       "      <td>0.0</td>\n",
       "      <td>0.0</td>\n",
       "      <td>0.0</td>\n",
       "      <td>0.0</td>\n",
       "      <td>...</td>\n",
       "      <td>0.0</td>\n",
       "      <td>0.0</td>\n",
       "      <td>0.0</td>\n",
       "      <td>0.0</td>\n",
       "      <td>0.0</td>\n",
       "      <td>0.0</td>\n",
       "      <td>0.0</td>\n",
       "      <td>0.0</td>\n",
       "      <td>0.0</td>\n",
       "      <td>0.0</td>\n",
       "    </tr>\n",
       "    <tr>\n",
       "      <td>7</td>\n",
       "      <td>0.0</td>\n",
       "      <td>0.0</td>\n",
       "      <td>0.0</td>\n",
       "      <td>0.0</td>\n",
       "      <td>0.0</td>\n",
       "      <td>0.0</td>\n",
       "      <td>0.0</td>\n",
       "      <td>0.0</td>\n",
       "      <td>0.0</td>\n",
       "      <td>0.0</td>\n",
       "      <td>...</td>\n",
       "      <td>0.0</td>\n",
       "      <td>0.0</td>\n",
       "      <td>0.0</td>\n",
       "      <td>0.0</td>\n",
       "      <td>0.0</td>\n",
       "      <td>0.0</td>\n",
       "      <td>0.0</td>\n",
       "      <td>0.0</td>\n",
       "      <td>0.0</td>\n",
       "      <td>0.0</td>\n",
       "    </tr>\n",
       "    <tr>\n",
       "      <td>9</td>\n",
       "      <td>0.0</td>\n",
       "      <td>0.0</td>\n",
       "      <td>0.0</td>\n",
       "      <td>0.0</td>\n",
       "      <td>0.0</td>\n",
       "      <td>0.0</td>\n",
       "      <td>0.0</td>\n",
       "      <td>0.0</td>\n",
       "      <td>0.0</td>\n",
       "      <td>0.0</td>\n",
       "      <td>...</td>\n",
       "      <td>0.0</td>\n",
       "      <td>0.0</td>\n",
       "      <td>0.0</td>\n",
       "      <td>1.0</td>\n",
       "      <td>0.0</td>\n",
       "      <td>0.0</td>\n",
       "      <td>0.0</td>\n",
       "      <td>0.0</td>\n",
       "      <td>0.0</td>\n",
       "      <td>0.0</td>\n",
       "    </tr>\n",
       "    <tr>\n",
       "      <td>11</td>\n",
       "      <td>0.0</td>\n",
       "      <td>0.0</td>\n",
       "      <td>0.0</td>\n",
       "      <td>0.0</td>\n",
       "      <td>0.0</td>\n",
       "      <td>0.0</td>\n",
       "      <td>0.0</td>\n",
       "      <td>0.0</td>\n",
       "      <td>0.0</td>\n",
       "      <td>0.0</td>\n",
       "      <td>...</td>\n",
       "      <td>0.0</td>\n",
       "      <td>0.0</td>\n",
       "      <td>0.0</td>\n",
       "      <td>0.0</td>\n",
       "      <td>0.0</td>\n",
       "      <td>0.0</td>\n",
       "      <td>0.0</td>\n",
       "      <td>0.0</td>\n",
       "      <td>0.0</td>\n",
       "      <td>0.0</td>\n",
       "    </tr>\n",
       "    <tr>\n",
       "      <td>18</td>\n",
       "      <td>0.0</td>\n",
       "      <td>0.0</td>\n",
       "      <td>0.0</td>\n",
       "      <td>0.0</td>\n",
       "      <td>0.0</td>\n",
       "      <td>0.0</td>\n",
       "      <td>0.0</td>\n",
       "      <td>0.0</td>\n",
       "      <td>0.0</td>\n",
       "      <td>0.0</td>\n",
       "      <td>...</td>\n",
       "      <td>0.0</td>\n",
       "      <td>0.0</td>\n",
       "      <td>0.0</td>\n",
       "      <td>0.0</td>\n",
       "      <td>0.0</td>\n",
       "      <td>0.0</td>\n",
       "      <td>0.0</td>\n",
       "      <td>0.0</td>\n",
       "      <td>0.0</td>\n",
       "      <td>0.0</td>\n",
       "    </tr>\n",
       "  </tbody>\n",
       "</table>\n",
       "<p>5 rows × 1000 columns</p>\n",
       "</div>"
      ],
      "text/plain": [
       "      a  aba  abaix  abert  abr  aca  acerc  acess  acim  aco  ...  vot  web  \\\n",
       "5   0.0  0.0    0.0    0.0  0.0  0.0    0.0    0.0   0.0  0.0  ...  0.0  0.0   \n",
       "7   0.0  0.0    0.0    0.0  0.0  0.0    0.0    0.0   0.0  0.0  ...  0.0  0.0   \n",
       "9   0.0  0.0    0.0    0.0  0.0  0.0    0.0    0.0   0.0  0.0  ...  0.0  0.0   \n",
       "11  0.0  0.0    0.0    0.0  0.0  0.0    0.0    0.0   0.0  0.0  ...  0.0  0.0   \n",
       "18  0.0  0.0    0.0    0.0  0.0  0.0    0.0    0.0   0.0  0.0  ...  0.0  0.0   \n",
       "\n",
       "    wif  word  www  wwwreleas  xavi  xml  yusk  zer  \n",
       "5   0.0   0.0  0.0        0.0   0.0  0.0   0.0  0.0  \n",
       "7   0.0   0.0  0.0        0.0   0.0  0.0   0.0  0.0  \n",
       "9   0.0   1.0  0.0        0.0   0.0  0.0   0.0  0.0  \n",
       "11  0.0   0.0  0.0        0.0   0.0  0.0   0.0  0.0  \n",
       "18  0.0   0.0  0.0        0.0   0.0  0.0   0.0  0.0  \n",
       "\n",
       "[5 rows x 1000 columns]"
      ]
     },
     "execution_count": 37,
     "metadata": {},
     "output_type": "execute_result"
    }
   ],
   "source": [
    "df_validacao_bow.drop(columns=['label'], inplace=True)\n",
    "display(df_validacao_bow.info())\n",
    "df_validacao_bow.head()"
   ]
  },
  {
   "cell_type": "code",
   "execution_count": 38,
   "metadata": {},
   "outputs": [
    {
     "name": "stdout",
     "output_type": "stream",
     "text": [
      "<class 'pandas.core.frame.DataFrame'>\n",
      "Int64Index: 2610 entries, 0 to 3016\n",
      "Columns: 1001 entries, label to zer\n",
      "dtypes: float64(1000), object(1)\n",
      "memory usage: 20.0+ MB\n"
     ]
    }
   ],
   "source": [
    "df_ready.dropna(inplace=True)\n",
    "df_ready.info()"
   ]
  },
  {
   "cell_type": "markdown",
   "metadata": {},
   "source": [
    "- Treino e teste"
   ]
  },
  {
   "cell_type": "code",
   "execution_count": 39,
   "metadata": {},
   "outputs": [
    {
     "name": "stdout",
     "output_type": "stream",
     "text": [
      "Treino: 1827\n",
      "Teste: 783\n"
     ]
    }
   ],
   "source": [
    "treino_bow, teste_bow = train_test_split(df_ready, test_size = 0.3, random_state=42, stratify=df_ready['label'])\n",
    "\n",
    "print(\"Treino:\", len(treino_bow))\n",
    "print(\"Teste:\", len(teste_bow))"
   ]
  },
  {
   "cell_type": "markdown",
   "metadata": {},
   "source": [
    "- Info treino bow"
   ]
  },
  {
   "cell_type": "code",
   "execution_count": 40,
   "metadata": {},
   "outputs": [
    {
     "name": "stdout",
     "output_type": "stream",
     "text": [
      "<class 'pandas.core.frame.DataFrame'>\n",
      "Int64Index: 1827 entries, 305 to 1303\n",
      "Columns: 1001 entries, label to zer\n",
      "dtypes: float64(1000), object(1)\n",
      "memory usage: 14.0+ MB\n"
     ]
    },
    {
     "data": {
      "text/plain": [
       "None"
      ]
     },
     "metadata": {},
     "output_type": "display_data"
    },
    {
     "data": {
      "text/html": [
       "<div>\n",
       "<style scoped>\n",
       "    .dataframe tbody tr th:only-of-type {\n",
       "        vertical-align: middle;\n",
       "    }\n",
       "\n",
       "    .dataframe tbody tr th {\n",
       "        vertical-align: top;\n",
       "    }\n",
       "\n",
       "    .dataframe thead th {\n",
       "        text-align: right;\n",
       "    }\n",
       "</style>\n",
       "<table border=\"1\" class=\"dataframe\">\n",
       "  <thead>\n",
       "    <tr style=\"text-align: right;\">\n",
       "      <th></th>\n",
       "      <th>label</th>\n",
       "      <th>a</th>\n",
       "      <th>aba</th>\n",
       "      <th>abaix</th>\n",
       "      <th>abert</th>\n",
       "      <th>abr</th>\n",
       "      <th>aca</th>\n",
       "      <th>acerc</th>\n",
       "      <th>acess</th>\n",
       "      <th>acim</th>\n",
       "      <th>...</th>\n",
       "      <th>vot</th>\n",
       "      <th>web</th>\n",
       "      <th>wif</th>\n",
       "      <th>word</th>\n",
       "      <th>www</th>\n",
       "      <th>wwwreleas</th>\n",
       "      <th>xavi</th>\n",
       "      <th>xml</th>\n",
       "      <th>yusk</th>\n",
       "      <th>zer</th>\n",
       "    </tr>\n",
       "  </thead>\n",
       "  <tbody>\n",
       "    <tr>\n",
       "      <td>305</td>\n",
       "      <td>0</td>\n",
       "      <td>0.0</td>\n",
       "      <td>0.0</td>\n",
       "      <td>0.0</td>\n",
       "      <td>0.0</td>\n",
       "      <td>0.0</td>\n",
       "      <td>0.0</td>\n",
       "      <td>0.0</td>\n",
       "      <td>0.0</td>\n",
       "      <td>0.0</td>\n",
       "      <td>...</td>\n",
       "      <td>0.0</td>\n",
       "      <td>0.0</td>\n",
       "      <td>0.0</td>\n",
       "      <td>0.0</td>\n",
       "      <td>0.0</td>\n",
       "      <td>0.0</td>\n",
       "      <td>0.0</td>\n",
       "      <td>0.0</td>\n",
       "      <td>0.0</td>\n",
       "      <td>0.0</td>\n",
       "    </tr>\n",
       "    <tr>\n",
       "      <td>766</td>\n",
       "      <td>1</td>\n",
       "      <td>0.0</td>\n",
       "      <td>0.0</td>\n",
       "      <td>0.0</td>\n",
       "      <td>0.0</td>\n",
       "      <td>0.0</td>\n",
       "      <td>0.0</td>\n",
       "      <td>0.0</td>\n",
       "      <td>0.0</td>\n",
       "      <td>0.0</td>\n",
       "      <td>...</td>\n",
       "      <td>0.0</td>\n",
       "      <td>0.0</td>\n",
       "      <td>0.0</td>\n",
       "      <td>0.0</td>\n",
       "      <td>0.0</td>\n",
       "      <td>0.0</td>\n",
       "      <td>0.0</td>\n",
       "      <td>0.0</td>\n",
       "      <td>0.0</td>\n",
       "      <td>0.0</td>\n",
       "    </tr>\n",
       "    <tr>\n",
       "      <td>1087</td>\n",
       "      <td>0</td>\n",
       "      <td>0.0</td>\n",
       "      <td>0.0</td>\n",
       "      <td>0.0</td>\n",
       "      <td>0.0</td>\n",
       "      <td>0.0</td>\n",
       "      <td>0.0</td>\n",
       "      <td>0.0</td>\n",
       "      <td>0.0</td>\n",
       "      <td>0.0</td>\n",
       "      <td>...</td>\n",
       "      <td>0.0</td>\n",
       "      <td>0.0</td>\n",
       "      <td>0.0</td>\n",
       "      <td>0.0</td>\n",
       "      <td>0.0</td>\n",
       "      <td>0.0</td>\n",
       "      <td>0.0</td>\n",
       "      <td>0.0</td>\n",
       "      <td>0.0</td>\n",
       "      <td>0.0</td>\n",
       "    </tr>\n",
       "    <tr>\n",
       "      <td>526</td>\n",
       "      <td>1</td>\n",
       "      <td>0.0</td>\n",
       "      <td>0.0</td>\n",
       "      <td>0.0</td>\n",
       "      <td>0.0</td>\n",
       "      <td>0.0</td>\n",
       "      <td>0.0</td>\n",
       "      <td>0.0</td>\n",
       "      <td>0.0</td>\n",
       "      <td>0.0</td>\n",
       "      <td>...</td>\n",
       "      <td>0.0</td>\n",
       "      <td>0.0</td>\n",
       "      <td>0.0</td>\n",
       "      <td>0.0</td>\n",
       "      <td>0.0</td>\n",
       "      <td>0.0</td>\n",
       "      <td>0.0</td>\n",
       "      <td>0.0</td>\n",
       "      <td>0.0</td>\n",
       "      <td>0.0</td>\n",
       "    </tr>\n",
       "    <tr>\n",
       "      <td>634</td>\n",
       "      <td>0</td>\n",
       "      <td>0.0</td>\n",
       "      <td>0.0</td>\n",
       "      <td>0.0</td>\n",
       "      <td>0.0</td>\n",
       "      <td>0.0</td>\n",
       "      <td>0.0</td>\n",
       "      <td>0.0</td>\n",
       "      <td>0.0</td>\n",
       "      <td>0.0</td>\n",
       "      <td>...</td>\n",
       "      <td>0.0</td>\n",
       "      <td>0.0</td>\n",
       "      <td>0.0</td>\n",
       "      <td>0.0</td>\n",
       "      <td>0.0</td>\n",
       "      <td>0.0</td>\n",
       "      <td>0.0</td>\n",
       "      <td>0.0</td>\n",
       "      <td>0.0</td>\n",
       "      <td>0.0</td>\n",
       "    </tr>\n",
       "  </tbody>\n",
       "</table>\n",
       "<p>5 rows × 1001 columns</p>\n",
       "</div>"
      ],
      "text/plain": [
       "     label    a  aba  abaix  abert  abr  aca  acerc  acess  acim  ...  vot  \\\n",
       "305      0  0.0  0.0    0.0    0.0  0.0  0.0    0.0    0.0   0.0  ...  0.0   \n",
       "766      1  0.0  0.0    0.0    0.0  0.0  0.0    0.0    0.0   0.0  ...  0.0   \n",
       "1087     0  0.0  0.0    0.0    0.0  0.0  0.0    0.0    0.0   0.0  ...  0.0   \n",
       "526      1  0.0  0.0    0.0    0.0  0.0  0.0    0.0    0.0   0.0  ...  0.0   \n",
       "634      0  0.0  0.0    0.0    0.0  0.0  0.0    0.0    0.0   0.0  ...  0.0   \n",
       "\n",
       "      web  wif  word  www  wwwreleas  xavi  xml  yusk  zer  \n",
       "305   0.0  0.0   0.0  0.0        0.0   0.0  0.0   0.0  0.0  \n",
       "766   0.0  0.0   0.0  0.0        0.0   0.0  0.0   0.0  0.0  \n",
       "1087  0.0  0.0   0.0  0.0        0.0   0.0  0.0   0.0  0.0  \n",
       "526   0.0  0.0   0.0  0.0        0.0   0.0  0.0   0.0  0.0  \n",
       "634   0.0  0.0   0.0  0.0        0.0   0.0  0.0   0.0  0.0  \n",
       "\n",
       "[5 rows x 1001 columns]"
      ]
     },
     "execution_count": 40,
     "metadata": {},
     "output_type": "execute_result"
    }
   ],
   "source": [
    "display(treino_bow.info())\n",
    "treino_bow.head()"
   ]
  },
  {
   "cell_type": "code",
   "execution_count": 41,
   "metadata": {},
   "outputs": [
    {
     "data": {
      "image/png": "[encoded data removed]",
      "text/plain": [
       "<Figure size 432x288 with 1 Axes>"
      ]
     },
     "metadata": {
      "needs_background": "light"
     },
     "output_type": "display_data"
    }
   ],
   "source": [
    "treino_bow.label.value_counts().plot.bar()\n",
    "plt.show()"
   ]
  },
  {
   "cell_type": "markdown",
   "metadata": {},
   "source": [
    "- Info teste bow"
   ]
  },
  {
   "cell_type": "code",
   "execution_count": 42,
   "metadata": {},
   "outputs": [
    {
     "name": "stdout",
     "output_type": "stream",
     "text": [
      "<class 'pandas.core.frame.DataFrame'>\n",
      "Int64Index: 783 entries, 1372 to 2054\n",
      "Columns: 1001 entries, label to zer\n",
      "dtypes: float64(1000), object(1)\n",
      "memory usage: 6.0+ MB\n"
     ]
    },
    {
     "data": {
      "text/plain": [
       "None"
      ]
     },
     "metadata": {},
     "output_type": "display_data"
    },
    {
     "data": {
      "text/html": [
       "<div>\n",
       "<style scoped>\n",
       "    .dataframe tbody tr th:only-of-type {\n",
       "        vertical-align: middle;\n",
       "    }\n",
       "\n",
       "    .dataframe tbody tr th {\n",
       "        vertical-align: top;\n",
       "    }\n",
       "\n",
       "    .dataframe thead th {\n",
       "        text-align: right;\n",
       "    }\n",
       "</style>\n",
       "<table border=\"1\" class=\"dataframe\">\n",
       "  <thead>\n",
       "    <tr style=\"text-align: right;\">\n",
       "      <th></th>\n",
       "      <th>label</th>\n",
       "      <th>a</th>\n",
       "      <th>aba</th>\n",
       "      <th>abaix</th>\n",
       "      <th>abert</th>\n",
       "      <th>abr</th>\n",
       "      <th>aca</th>\n",
       "      <th>acerc</th>\n",
       "      <th>acess</th>\n",
       "      <th>acim</th>\n",
       "      <th>...</th>\n",
       "      <th>vot</th>\n",
       "      <th>web</th>\n",
       "      <th>wif</th>\n",
       "      <th>word</th>\n",
       "      <th>www</th>\n",
       "      <th>wwwreleas</th>\n",
       "      <th>xavi</th>\n",
       "      <th>xml</th>\n",
       "      <th>yusk</th>\n",
       "      <th>zer</th>\n",
       "    </tr>\n",
       "  </thead>\n",
       "  <tbody>\n",
       "    <tr>\n",
       "      <td>1372</td>\n",
       "      <td>0</td>\n",
       "      <td>0.0</td>\n",
       "      <td>0.0</td>\n",
       "      <td>0.0</td>\n",
       "      <td>0.0</td>\n",
       "      <td>0.0</td>\n",
       "      <td>0.0</td>\n",
       "      <td>0.0</td>\n",
       "      <td>0.0</td>\n",
       "      <td>0.0</td>\n",
       "      <td>...</td>\n",
       "      <td>0.0</td>\n",
       "      <td>1.0</td>\n",
       "      <td>0.0</td>\n",
       "      <td>0.0</td>\n",
       "      <td>0.0</td>\n",
       "      <td>0.0</td>\n",
       "      <td>0.0</td>\n",
       "      <td>0.0</td>\n",
       "      <td>0.0</td>\n",
       "      <td>0.0</td>\n",
       "    </tr>\n",
       "    <tr>\n",
       "      <td>849</td>\n",
       "      <td>0</td>\n",
       "      <td>0.0</td>\n",
       "      <td>0.0</td>\n",
       "      <td>0.0</td>\n",
       "      <td>0.0</td>\n",
       "      <td>0.0</td>\n",
       "      <td>0.0</td>\n",
       "      <td>0.0</td>\n",
       "      <td>0.0</td>\n",
       "      <td>0.0</td>\n",
       "      <td>...</td>\n",
       "      <td>0.0</td>\n",
       "      <td>0.0</td>\n",
       "      <td>0.0</td>\n",
       "      <td>0.0</td>\n",
       "      <td>0.0</td>\n",
       "      <td>0.0</td>\n",
       "      <td>0.0</td>\n",
       "      <td>0.0</td>\n",
       "      <td>0.0</td>\n",
       "      <td>0.0</td>\n",
       "    </tr>\n",
       "    <tr>\n",
       "      <td>1375</td>\n",
       "      <td>0</td>\n",
       "      <td>0.0</td>\n",
       "      <td>0.0</td>\n",
       "      <td>0.0</td>\n",
       "      <td>0.0</td>\n",
       "      <td>0.0</td>\n",
       "      <td>0.0</td>\n",
       "      <td>0.0</td>\n",
       "      <td>0.0</td>\n",
       "      <td>0.0</td>\n",
       "      <td>...</td>\n",
       "      <td>0.0</td>\n",
       "      <td>0.0</td>\n",
       "      <td>0.0</td>\n",
       "      <td>0.0</td>\n",
       "      <td>0.0</td>\n",
       "      <td>0.0</td>\n",
       "      <td>0.0</td>\n",
       "      <td>0.0</td>\n",
       "      <td>0.0</td>\n",
       "      <td>0.0</td>\n",
       "    </tr>\n",
       "    <tr>\n",
       "      <td>535</td>\n",
       "      <td>1</td>\n",
       "      <td>0.0</td>\n",
       "      <td>0.0</td>\n",
       "      <td>0.0</td>\n",
       "      <td>0.0</td>\n",
       "      <td>0.0</td>\n",
       "      <td>0.0</td>\n",
       "      <td>0.0</td>\n",
       "      <td>0.0</td>\n",
       "      <td>0.0</td>\n",
       "      <td>...</td>\n",
       "      <td>0.0</td>\n",
       "      <td>0.0</td>\n",
       "      <td>0.0</td>\n",
       "      <td>0.0</td>\n",
       "      <td>0.0</td>\n",
       "      <td>0.0</td>\n",
       "      <td>0.0</td>\n",
       "      <td>0.0</td>\n",
       "      <td>0.0</td>\n",
       "      <td>0.0</td>\n",
       "    </tr>\n",
       "    <tr>\n",
       "      <td>385</td>\n",
       "      <td>1</td>\n",
       "      <td>0.0</td>\n",
       "      <td>0.0</td>\n",
       "      <td>0.0</td>\n",
       "      <td>0.0</td>\n",
       "      <td>0.0</td>\n",
       "      <td>0.0</td>\n",
       "      <td>0.0</td>\n",
       "      <td>0.0</td>\n",
       "      <td>0.0</td>\n",
       "      <td>...</td>\n",
       "      <td>0.0</td>\n",
       "      <td>0.0</td>\n",
       "      <td>0.0</td>\n",
       "      <td>0.0</td>\n",
       "      <td>0.0</td>\n",
       "      <td>0.0</td>\n",
       "      <td>0.0</td>\n",
       "      <td>0.0</td>\n",
       "      <td>0.0</td>\n",
       "      <td>0.0</td>\n",
       "    </tr>\n",
       "  </tbody>\n",
       "</table>\n",
       "<p>5 rows × 1001 columns</p>\n",
       "</div>"
      ],
      "text/plain": [
       "     label    a  aba  abaix  abert  abr  aca  acerc  acess  acim  ...  vot  \\\n",
       "1372     0  0.0  0.0    0.0    0.0  0.0  0.0    0.0    0.0   0.0  ...  0.0   \n",
       "849      0  0.0  0.0    0.0    0.0  0.0  0.0    0.0    0.0   0.0  ...  0.0   \n",
       "1375     0  0.0  0.0    0.0    0.0  0.0  0.0    0.0    0.0   0.0  ...  0.0   \n",
       "535      1  0.0  0.0    0.0    0.0  0.0  0.0    0.0    0.0   0.0  ...  0.0   \n",
       "385      1  0.0  0.0    0.0    0.0  0.0  0.0    0.0    0.0   0.0  ...  0.0   \n",
       "\n",
       "      web  wif  word  www  wwwreleas  xavi  xml  yusk  zer  \n",
       "1372  1.0  0.0   0.0  0.0        0.0   0.0  0.0   0.0  0.0  \n",
       "849   0.0  0.0   0.0  0.0        0.0   0.0  0.0   0.0  0.0  \n",
       "1375  0.0  0.0   0.0  0.0        0.0   0.0  0.0   0.0  0.0  \n",
       "535   0.0  0.0   0.0  0.0        0.0   0.0  0.0   0.0  0.0  \n",
       "385   0.0  0.0   0.0  0.0        0.0   0.0  0.0   0.0  0.0  \n",
       "\n",
       "[5 rows x 1001 columns]"
      ]
     },
     "execution_count": 42,
     "metadata": {},
     "output_type": "execute_result"
    }
   ],
   "source": [
    "display(teste_bow.info())\n",
    "teste_bow.head()"
   ]
  },
  {
   "cell_type": "code",
   "execution_count": 43,
   "metadata": {},
   "outputs": [
    {
     "data": {
      "image/png": "[encoded data removed]",
      "text/plain": [
       "<Figure size 432x288 with 1 Axes>"
      ]
     },
     "metadata": {
      "needs_background": "light"
     },
     "output_type": "display_data"
    }
   ],
   "source": [
    "teste_bow.label.value_counts().plot.bar()\n",
    "plt.show()"
   ]
  },
  {
   "cell_type": "markdown",
   "metadata": {},
   "source": [
    "### Exportando os datasets (BoW)\n",
    "\n",
    "- Validação"
   ]
  },
  {
   "cell_type": "code",
   "execution_count": 44,
   "metadata": {},
   "outputs": [],
   "source": [
    "df_validacao_bow.to_excel('../datasets/Chamados_Validação_BOW.xlsx', index=False)\n",
    "#df_validacao_bow.to_csv('../datasets/Chamados_Validação_BOW.csv', index=False)"
   ]
  },
  {
   "cell_type": "markdown",
   "metadata": {},
   "source": [
    "- Treino"
   ]
  },
  {
   "cell_type": "code",
   "execution_count": 45,
   "metadata": {},
   "outputs": [],
   "source": [
    "treino_bow.to_excel('../datasets/Chamados_Treino_BOW.xlsx', index=False)\n",
    "#treino_bow.to_csv('../datasets/Chamados_Treino_BOW.csv', index=False)"
   ]
  },
  {
   "cell_type": "markdown",
   "metadata": {},
   "source": [
    "- Teste"
   ]
  },
  {
   "cell_type": "code",
   "execution_count": 46,
   "metadata": {},
   "outputs": [],
   "source": [
    "teste_bow.to_excel('../datasets/Chamados_Teste_BOW.xlsx', index=False)\n",
    "#teste_bow.to_csv('../datasets/Chamados_Teste_BOW.csv', index=False)"
   ]
  }
 ],
 "metadata": {
  "colab": {
   "collapsed_sections": [],
   "name": "Trabalho PLN.ipynb",
   "provenance": []
  },
  "kernelspec": {
   "display_name": "Python 3",
   "language": "python",
   "name": "python3"
  },
  "language_info": {
   "codemirror_mode": {
    "name": "ipython",
    "version": 3
   },
   "file_extension": ".py",
   "mimetype": "text/x-python",
   "name": "python",
   "nbconvert_exporter": "python",
   "pygments_lexer": "ipython3",
   "version": "3.7.4"
  }
 },
 "nbformat": 4,
 "nbformat_minor": 1
}
