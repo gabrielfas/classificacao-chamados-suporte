{
 "cells": [
  {
   "cell_type": "markdown",
   "metadata": {
    "colab_type": "text",
    "id": "m-qj2Lcp6uCV"
   },
   "source": [
    "Ref principal: https://github.com/eduonix/nlptextclassification/blob/master/NLP%20for%20Text%20Classification%20(Jupyter%20Notebook).ipynb"
   ]
  },
  {
   "cell_type": "markdown",
   "metadata": {
    "colab_type": "text",
    "id": "v2iRSLTdKoAi"
   },
   "source": [
    "### Imports"
   ]
  },
  {
   "cell_type": "code",
   "execution_count": 1,
   "metadata": {
    "colab": {
     "base_uri": "https://localhost:8080/",
     "height": 34
    },
    "colab_type": "code",
    "id": "nmEFX57P3T1e",
    "outputId": "45e031f8-d149-4484-cabd-65d9d275cbaf"
   },
   "outputs": [],
   "source": [
    "import re\n",
    "import nltk\n",
    "import ftfy \n",
    "import numpy as np\n",
    "import pandas as pd\n",
    "import matplotlib.pyplot as plt\n",
    "from sklearn.preprocessing import LabelEncoder\n",
    "from sklearn.model_selection import train_test_split\n",
    "from nltk.tokenize import word_tokenize"
   ]
  },
  {
   "cell_type": "markdown",
   "metadata": {
    "colab_type": "text",
    "id": "X8Q-K9-jdfaa"
   },
   "source": [
    "### Carregar dataset"
   ]
  },
  {
   "cell_type": "code",
   "execution_count": 2,
   "metadata": {
    "colab": {
     "base_uri": "https://localhost:8080/",
     "height": 195
    },
    "colab_type": "code",
    "id": "rZhLbVh84MWx",
    "outputId": "3aaa71e6-a92c-4b08-9e79-1ea1c253283d"
   },
   "outputs": [
    {
     "data": {
      "text/html": [
       "<div>\n",
       "<style scoped>\n",
       "    .dataframe tbody tr th:only-of-type {\n",
       "        vertical-align: middle;\n",
       "    }\n",
       "\n",
       "    .dataframe tbody tr th {\n",
       "        vertical-align: top;\n",
       "    }\n",
       "\n",
       "    .dataframe thead th {\n",
       "        text-align: right;\n",
       "    }\n",
       "</style>\n",
       "<table border=\"1\" class=\"dataframe\">\n",
       "  <thead>\n",
       "    <tr style=\"text-align: right;\">\n",
       "      <th></th>\n",
       "      <th>Classificação</th>\n",
       "      <th>Assunto</th>\n",
       "      <th>Descricao</th>\n",
       "    </tr>\n",
       "  </thead>\n",
       "  <tbody>\n",
       "    <tr>\n",
       "      <th>0</th>\n",
       "      <td>Inc - Con</td>\n",
       "      <td>PROBLEMA DE CONECTIVIDADE</td>\n",
       "      <td>PROBLEMA DE CONECTIVIDADE</td>\n",
       "    </tr>\n",
       "    <tr>\n",
       "      <th>1</th>\n",
       "      <td>Inc - Con</td>\n",
       "      <td>PC SEM INTERNET</td>\n",
       "      <td>raquel do bag de dr renato informou que está c...</td>\n",
       "    </tr>\n",
       "    <tr>\n",
       "      <th>2</th>\n",
       "      <td>Inc - Con</td>\n",
       "      <td>PC SEM INTERNET</td>\n",
       "      <td>vanessa , gab dr carlos barros informou proble...</td>\n",
       "    </tr>\n",
       "    <tr>\n",
       "      <th>3</th>\n",
       "      <td>Inc - Con</td>\n",
       "      <td>COMPUTADOR SEM ACESSO A INTERNET</td>\n",
       "      <td>Usuário informa que o computador está sem aces...</td>\n",
       "    </tr>\n",
       "    <tr>\n",
       "      <th>4</th>\n",
       "      <td>Inc - Con</td>\n",
       "      <td>COMPUTADOR NÃO ESTÁ LOGANDO</td>\n",
       "      <td>COMPUTADOR NÃO ESTÁ LOGANDO.</td>\n",
       "    </tr>\n",
       "  </tbody>\n",
       "</table>\n",
       "</div>"
      ],
      "text/plain": [
       "  Classificação                           Assunto  \\\n",
       "0     Inc - Con         PROBLEMA DE CONECTIVIDADE   \n",
       "1     Inc - Con                   PC SEM INTERNET   \n",
       "2     Inc - Con                   PC SEM INTERNET   \n",
       "3     Inc - Con  COMPUTADOR SEM ACESSO A INTERNET   \n",
       "4     Inc - Con       COMPUTADOR NÃO ESTÁ LOGANDO   \n",
       "\n",
       "                                           Descricao  \n",
       "0                          PROBLEMA DE CONECTIVIDADE  \n",
       "1  raquel do bag de dr renato informou que está c...  \n",
       "2  vanessa , gab dr carlos barros informou proble...  \n",
       "3  Usuário informa que o computador está sem aces...  \n",
       "4                       COMPUTADOR NÃO ESTÁ LOGANDO.  "
      ]
     },
     "execution_count": 2,
     "metadata": {},
     "output_type": "execute_result"
    }
   ],
   "source": [
    "df = pd.read_excel('datasets/Chamados.xlsx')\n",
    "df.head()"
   ]
  },
  {
   "cell_type": "markdown",
   "metadata": {},
   "source": [
    "### Análise inicial"
   ]
  },
  {
   "cell_type": "code",
   "execution_count": 3,
   "metadata": {},
   "outputs": [
    {
     "name": "stdout",
     "output_type": "stream",
     "text": [
      "<class 'pandas.core.frame.DataFrame'>\n",
      "RangeIndex: 3195 entries, 0 to 3194\n",
      "Data columns (total 3 columns):\n",
      "Classificação    2788 non-null object\n",
      "Assunto          3195 non-null object\n",
      "Descricao        3195 non-null object\n",
      "dtypes: object(3)\n",
      "memory usage: 75.0+ KB\n"
     ]
    }
   ],
   "source": [
    "df.info()"
   ]
  },
  {
   "cell_type": "markdown",
   "metadata": {},
   "source": [
    "### Verificando a distribuição de classes"
   ]
  },
  {
   "cell_type": "code",
   "execution_count": 4,
   "metadata": {
    "colab": {
     "base_uri": "https://localhost:8080/",
     "height": 168
    },
    "colab_type": "code",
    "id": "Z30ak7z4IniV",
    "outputId": "79c52c86-35c8-4b86-e94f-4a258cef1e4d"
   },
   "outputs": [
    {
     "data": {
      "text/plain": [
       "Req - Equ    1194\n",
       "Req - Sis     962\n",
       "NaN           407\n",
       "Inc - Sis     284\n",
       "Inc - Equ     170\n",
       "Outros         71\n",
       "Inc - Con      55\n",
       "Req - Con      52\n",
       "Name: Classificação, dtype: int64"
      ]
     },
     "execution_count": 4,
     "metadata": {},
     "output_type": "execute_result"
    }
   ],
   "source": [
    "df['Classificação'].value_counts(dropna=False)"
   ]
  },
  {
   "cell_type": "markdown",
   "metadata": {},
   "source": [
    "- Deixando as classes de forma binária, apenas Equipamento e Sistema"
   ]
  },
  {
   "cell_type": "code",
   "execution_count": 5,
   "metadata": {},
   "outputs": [
    {
     "name": "stdout",
     "output_type": "stream",
     "text": [
      "<class 'pandas.core.frame.DataFrame'>\n",
      "Int64Index: 3017 entries, 55 to 3194\n",
      "Data columns (total 3 columns):\n",
      "Classificação    2610 non-null object\n",
      "Assunto          3017 non-null object\n",
      "Descricao        3017 non-null object\n",
      "dtypes: object(3)\n",
      "memory usage: 94.3+ KB\n"
     ]
    },
    {
     "data": {
      "text/plain": [
       "None"
      ]
     },
     "metadata": {},
     "output_type": "display_data"
    },
    {
     "data": {
      "text/plain": [
       "Req - Equ    1194\n",
       "Req - Sis     962\n",
       "NaN           407\n",
       "Inc - Sis     284\n",
       "Inc - Equ     170\n",
       "Name: Classificação, dtype: int64"
      ]
     },
     "execution_count": 5,
     "metadata": {},
     "output_type": "execute_result"
    }
   ],
   "source": [
    "df = df[(df['Classificação'] != 'Outros') & (df['Classificação'] != 'Inc - Con') & (df['Classificação'] != 'Req - Con')]\n",
    "display(df.info())\n",
    "df['Classificação'].value_counts(dropna=False)"
   ]
  },
  {
   "cell_type": "code",
   "execution_count": 6,
   "metadata": {},
   "outputs": [
    {
     "name": "stdout",
     "output_type": "stream",
     "text": [
      "<class 'pandas.core.frame.DataFrame'>\n",
      "Int64Index: 3017 entries, 55 to 3194\n",
      "Data columns (total 3 columns):\n",
      "Classificação    2610 non-null object\n",
      "Assunto          3017 non-null object\n",
      "Descricao        3017 non-null object\n",
      "dtypes: object(3)\n",
      "memory usage: 94.3+ KB\n"
     ]
    },
    {
     "data": {
      "text/plain": [
       "None"
      ]
     },
     "metadata": {},
     "output_type": "display_data"
    },
    {
     "data": {
      "text/plain": [
       "Equipamento    1364\n",
       "Sistema        1246\n",
       "NaN             407\n",
       "Name: Classificação, dtype: int64"
      ]
     },
     "execution_count": 6,
     "metadata": {},
     "output_type": "execute_result"
    }
   ],
   "source": [
    "df['Classificação'] = df.loc[df['Classificação'].notnull(),'Classificação'].apply(lambda c: 'Equipamento' if 'Equ' in c else 'Sistema')\n",
    "display(df.info())\n",
    "df['Classificação'].value_counts(dropna=False)"
   ]
  },
  {
   "cell_type": "markdown",
   "metadata": {
    "colab_type": "text",
    "id": "2oDh_OWndlLG"
   },
   "source": [
    "### Transformando os dados"
   ]
  },
  {
   "cell_type": "code",
   "execution_count": 7,
   "metadata": {
    "colab": {},
    "colab_type": "code",
    "id": "1CHjxln9dpb5"
   },
   "outputs": [
    {
     "data": {
      "text/plain": [
       "0.0    1364\n",
       "1.0    1246\n",
       "NaN     407\n",
       "Name: Classificação, dtype: int64"
      ]
     },
     "execution_count": 7,
     "metadata": {},
     "output_type": "execute_result"
    }
   ],
   "source": [
    "le = LabelEncoder()\n",
    "df.loc[df['Classificação'].notnull(),'Classificação'] = le.fit_transform(df.loc[df['Classificação'].notnull(),'Classificação'])\n",
    "df['Classificação'].value_counts(dropna=False)"
   ]
  },
  {
   "cell_type": "markdown",
   "metadata": {},
   "source": [
    "0 para equipamento e 1 para sistema\n",
    "\n",
    "### Convertendo caracteres para UTF-8"
   ]
  },
  {
   "cell_type": "code",
   "execution_count": 8,
   "metadata": {},
   "outputs": [
    {
     "data": {
      "text/plain": [
       "'<div>foi identificado um erro na coluna VALOR REALIZADO NO EXERCÍCIO do balanço orcamentario, receitas. foi identificado a inclusão de um valor estranho aquele vindo no arquivo de importação. segue arquivos para analise.</div>'"
      ]
     },
     "execution_count": 8,
     "metadata": {},
     "output_type": "execute_result"
    }
   ],
   "source": [
    "df['Descricao Atualizada'] = df['Descricao'].apply(lambda d: ' '.join(ftfy.fix_text(p) for p in d.split(' ')))\n",
    "df.iloc[268]['Descricao Atualizada']"
   ]
  },
  {
   "cell_type": "markdown",
   "metadata": {},
   "source": [
    "### Usando Regex para remoção de caracteres especiais"
   ]
  },
  {
   "cell_type": "code",
   "execution_count": 9,
   "metadata": {
    "colab": {},
    "colab_type": "code",
    "id": "nRHu7YrPemVD"
   },
   "outputs": [
    {
     "data": {
      "text/plain": [
       "55      coloquei para imprimir frente e verso querendo...\n",
       "56              usuário informa que o computador não liga\n",
       "57      usuária entrou em contato alegando que a impre...\n",
       "58       usuário informa que o excel não está funcionando\n",
       "59      usuário entrou em contato alegando que o compu...\n",
       "60                                    mouse sem funcionar\n",
       "61      usuária alega que o nobreak de sua maquina não...\n",
       "62      usuária solicita apoio para verificar computad...\n",
       "63      informo que se encontra queimada a fonte refer...\n",
       "64      um dos computadores do gabinete não quer funci...\n",
       "65                        inesperadamente a tela desligou\n",
       "66                        inesperadamente a tela desligou\n",
       "67                            computador não está ligando\n",
       "68                          problema ao imprimir etiqueta\n",
       "69      usuário informa que o computador não está ligando\n",
       "70        não consigo liberar a impressora para impressão\n",
       "71                       computador do restaurate nã loga\n",
       "72      as impressoras da dap adm numero e numero não ...\n",
       "73                                            pc não liga\n",
       "74                             monitor não gerando imagem\n",
       "75                    mensagem de erro ao tentar imprimir\n",
       "76                                          pc desligando\n",
       "77      ao abrir o sistema ergon para acessar as consu...\n",
       "78                                            pc não liga\n",
       "79                              impressora atolando papel\n",
       "80      a página do sigef entra em um looping infinito...\n",
       "81                                        nobreak bipando\n",
       "82                                        nobreak bipando\n",
       "83                            computador não está ligando\n",
       "84                         pc inicializar apropriadamente\n",
       "                              ...                        \n",
       "3165             apoio operacional justificativa de ponto\n",
       "3166                                   configurar scanner\n",
       "3167                o teclado de um pc está sem funcionar\n",
       "3168    existe uma critica na geração para o anexo num...\n",
       "3169    felipe pereira anexos qua numero de set numero...\n",
       "3170                                    apoio operacional\n",
       "3171                                configurar impressora\n",
       "3172           apoio operacional anexar processo ao email\n",
       "3173    no memorando numero numero existem dois anexos...\n",
       "3174                            problema de conectividade\n",
       "3175                            problema de conectividade\n",
       "3176    incluir as seguintes opções de fundamento lega...\n",
       "3177                              configuração de scanner\n",
       "3178                            problema de conectividade\n",
       "3179    ao consultar o envio do comprovante de publica...\n",
       "3180                       problema ao assinar informação\n",
       "3181                                         instalar pje\n",
       "3182                            al terar senha do usuário\n",
       "3183    cadastramento de arquivos no site portal da tr...\n",
       "3184    excluir tarja amarela do mutirão dap numero do...\n",
       "3185    solicita verificar e testar os equipamentos co...\n",
       "3186    bom dia prezado a venho por meio deste pedir a...\n",
       "3187    completar o texto valor no campo do anexo nume...\n",
       "3188     validar nota fiscal ebara numero estabilizadores\n",
       "3189     validar nota fiscal marcrosolution peças scanner\n",
       "3190    usuário estaa com duvida em uma critica no pro...\n",
       "3191    usuário estava querendo informações sobre a re...\n",
       "3192    é necessário instalar a extensão para inserir ...\n",
       "3193    usuária estava com duvida de qual valor coloca...\n",
       "3194    alt eração de operador cpf numero nome francis...\n",
       "Name: Descricao Atualizada, Length: 3017, dtype: object"
      ]
     },
     "execution_count": 9,
     "metadata": {},
     "output_type": "execute_result"
    }
   ],
   "source": [
    "#falta tratar data e algumas outras caracteristicas\n",
    "\n",
    "# tags html\n",
    "df['Descricao Atualizada'] = df['Descricao Atualizada'].str.replace(r'<[^>]*>', ' ').str.strip() #<[^>]*> <.*?>\n",
    "# email \n",
    "df['Descricao Atualizada'] = df['Descricao Atualizada'].str.replace(r'^.+@[^\\.].*\\.[a-z]{2,}$',\n",
    "                                 'email')\n",
    "# URLs \n",
    "df['Descricao Atualizada'] = df['Descricao Atualizada'].str.replace(r'^http\\://[a-zA-Z0-9\\-\\.]+\\.[a-zA-Z]{2,3}(/\\S*)?$',\n",
    "                                  'link')\n",
    "# cifrões de dinheiro \n",
    "df['Descricao Atualizada'] = df['Descricao Atualizada'].str.replace(r'£|\\$', 'cifrao') \n",
    "# número telefone\n",
    "df['Descricao Atualizada'] = df['Descricao Atualizada'].str.replace(r'^\\(?[\\d]{3}\\)?[\\s-]?[\\d]{3}[\\s-]?[\\d]{4}$',\n",
    "                                  'telefone') \n",
    "# números em geral\n",
    "df['Descricao Atualizada'] = df['Descricao Atualizada'].str.replace(r'\\d+(\\.\\d+)?', 'numero')\n",
    "# pontuação\n",
    "df['Descricao Atualizada'] = df['Descricao Atualizada'].str.replace(r'[^\\w\\d\\s]', ' ').str.strip()\n",
    "df['Descricao Atualizada'] = df['Descricao Atualizada'].str.replace(r'[_]', ' ')\n",
    "df['Descricao Atualizada'] = df['Descricao Atualizada'].str.replace(r'[º]', '')\n",
    "# dois espaços ou mais\n",
    "df['Descricao Atualizada'] = df['Descricao Atualizada'].str.replace(r'\\s+', ' ')\n",
    "\n",
    "df['Descricao Atualizada'] = df['Descricao Atualizada'].str.replace(r'^\\s+|\\s+?$', ' ')\n",
    "# minusculo\n",
    "df['Descricao Atualizada'] = df['Descricao Atualizada'].str.lower()\n",
    "df['Descricao Atualizada']"
   ]
  },
  {
   "cell_type": "code",
   "execution_count": 10,
   "metadata": {},
   "outputs": [
    {
     "data": {
      "text/plain": [
       "'foi identificado um erro na coluna valor realizado no exercício do balanço orcamentario receitas foi identificado a inclusão de um valor estranho aquele vindo no arquivo de importação segue arquivos para analise'"
      ]
     },
     "execution_count": 10,
     "metadata": {},
     "output_type": "execute_result"
    }
   ],
   "source": [
    "df.iloc[268]['Descricao Atualizada']"
   ]
  },
  {
   "cell_type": "code",
   "execution_count": 11,
   "metadata": {},
   "outputs": [
    {
     "name": "stderr",
     "output_type": "stream",
     "text": [
      "C:\\Users\\06827531490\\AppData\\Local\\Continuum\\anaconda3\\lib\\site-packages\\ipykernel_launcher.py:2: FutureWarning: The signature of `Series.to_csv` was aligned to that of `DataFrame.to_csv`, and argument 'header' will change its default value from False to True: please pass an explicit value to suppress this warning.\n",
      "  \n"
     ]
    }
   ],
   "source": [
    "# COMPARAR COM O ORIGINAL\n",
    "df['Descricao Atualizada'].to_csv('teste.csv')"
   ]
  },
  {
   "cell_type": "markdown",
   "metadata": {},
   "source": [
    "- Remover StopWords"
   ]
  },
  {
   "cell_type": "code",
   "execution_count": 12,
   "metadata": {
    "colab": {
     "base_uri": "https://localhost:8080/",
     "height": 1000
    },
    "colab_type": "code",
    "id": "skFxEXYgqQZF",
    "outputId": "39090bb4-82e2-4733-b9ce-13511c4d8d3e"
   },
   "outputs": [
    {
     "name": "stderr",
     "output_type": "stream",
     "text": [
      "[nltk_data] Downloading package stopwords to\n",
      "[nltk_data]     C:\\Users\\06827531490\\AppData\\Roaming\\nltk_data...\n",
      "[nltk_data]   Package stopwords is already up-to-date!\n"
     ]
    },
    {
     "data": {
      "text/plain": [
       "'identificado erro coluna valor realizado exercício balanço orcamentario receitas identificado inclusão valor estranho vindo arquivo importação segue arquivos analise'"
      ]
     },
     "execution_count": 12,
     "metadata": {},
     "output_type": "execute_result"
    }
   ],
   "source": [
    "nltk.download('stopwords')\n",
    "pt_stopwords = set(nltk.corpus.stopwords.words(\"portuguese\"))\n",
    "\n",
    "df['Descricao Atualizada'] = df['Descricao Atualizada'].apply(lambda d: ' '.join(term for term in d.split() if term not in pt_stopwords))\n",
    "df.iloc[268]['Descricao Atualizada']                                                            "
   ]
  },
  {
   "cell_type": "markdown",
   "metadata": {},
   "source": [
    "- Stemming"
   ]
  },
  {
   "cell_type": "code",
   "execution_count": 13,
   "metadata": {
    "colab": {
     "base_uri": "https://localhost:8080/",
     "height": 1000
    },
    "colab_type": "code",
    "id": "hmND_uYDv6-G",
    "outputId": "5378edd6-e182-4c2c-f536-1d0c98f7260b"
   },
   "outputs": [
    {
     "name": "stderr",
     "output_type": "stream",
     "text": [
      "[nltk_data] Downloading package rslp to\n",
      "[nltk_data]     C:\\Users\\06827531490\\AppData\\Roaming\\nltk_data...\n",
      "[nltk_data]   Package rslp is already up-to-date!\n"
     ]
    },
    {
     "data": {
      "text/plain": [
       "'identific err colun val realiz exercíci balanç orcamentari receit identific inclus val estranh vind arqu import seg arqu analis'"
      ]
     },
     "execution_count": 13,
     "metadata": {},
     "output_type": "execute_result"
    }
   ],
   "source": [
    "nltk.download('rslp')\n",
    "stemmer = nltk.stem.RSLPStemmer()\n",
    "\n",
    "df['Descricao Atualizada'] = df['Descricao Atualizada'].apply(lambda x: ' '.join(stemmer.stem(term) for term in x.split()))\n",
    "df.iloc[268]['Descricao Atualizada']"
   ]
  },
  {
   "cell_type": "markdown",
   "metadata": {},
   "source": [
    "### Criação dos datasets"
   ]
  },
  {
   "cell_type": "code",
   "execution_count": 35,
   "metadata": {
    "colab": {
     "base_uri": "https://localhost:8080/",
     "height": 1000
    },
    "colab_type": "code",
    "id": "Cdcgtd4t3dMU",
    "outputId": "7fa57806-97ad-4e66-de76-a93a23bf6cea"
   },
   "outputs": [
    {
     "data": {
      "text/html": [
       "<div>\n",
       "<style scoped>\n",
       "    .dataframe tbody tr th:only-of-type {\n",
       "        vertical-align: middle;\n",
       "    }\n",
       "\n",
       "    .dataframe tbody tr th {\n",
       "        vertical-align: top;\n",
       "    }\n",
       "\n",
       "    .dataframe thead th {\n",
       "        text-align: right;\n",
       "    }\n",
       "</style>\n",
       "<table border=\"1\" class=\"dataframe\">\n",
       "  <thead>\n",
       "    <tr style=\"text-align: right;\">\n",
       "      <th></th>\n",
       "      <th>Classificação</th>\n",
       "      <th>Descricao Atualizada</th>\n",
       "    </tr>\n",
       "  </thead>\n",
       "  <tbody>\n",
       "    <tr>\n",
       "      <th>55</th>\n",
       "      <td>0</td>\n",
       "      <td>coloq imprim frent vers quer econom papel agor...</td>\n",
       "    </tr>\n",
       "    <tr>\n",
       "      <th>56</th>\n",
       "      <td>0</td>\n",
       "      <td>usu inform comput lig</td>\n",
       "    </tr>\n",
       "    <tr>\n",
       "      <th>57</th>\n",
       "      <td>0</td>\n",
       "      <td>usuár entr contat aleg impres local recepç dam...</td>\n",
       "    </tr>\n",
       "    <tr>\n",
       "      <th>58</th>\n",
       "      <td>0</td>\n",
       "      <td>usu inform excel funcion</td>\n",
       "    </tr>\n",
       "    <tr>\n",
       "      <th>59</th>\n",
       "      <td>0</td>\n",
       "      <td>usu entr contat aleg comput lig entretant brea...</td>\n",
       "    </tr>\n",
       "  </tbody>\n",
       "</table>\n",
       "</div>"
      ],
      "text/plain": [
       "   Classificação                               Descricao Atualizada\n",
       "55             0  coloq imprim frent vers quer econom papel agor...\n",
       "56             0                              usu inform comput lig\n",
       "57             0  usuár entr contat aleg impres local recepç dam...\n",
       "58             0                           usu inform excel funcion\n",
       "59             0  usu entr contat aleg comput lig entretant brea..."
      ]
     },
     "execution_count": 35,
     "metadata": {},
     "output_type": "execute_result"
    }
   ],
   "source": [
    "df_features = df[['Classificação', 'Descricao Atualizada']].copy()\n",
    "df_features.head()"
   ]
  },
  {
   "cell_type": "markdown",
   "metadata": {},
   "source": [
    "- Dataset de validação"
   ]
  },
  {
   "cell_type": "code",
   "execution_count": 36,
   "metadata": {},
   "outputs": [
    {
     "name": "stdout",
     "output_type": "stream",
     "text": [
      "<class 'pandas.core.frame.DataFrame'>\n",
      "Int64Index: 407 entries, 2788 to 3194\n",
      "Data columns (total 1 columns):\n",
      "Descricao Atualizada    407 non-null object\n",
      "dtypes: object(1)\n",
      "memory usage: 6.4+ KB\n"
     ]
    },
    {
     "data": {
      "text/plain": [
       "None"
      ]
     },
     "metadata": {},
     "output_type": "display_data"
    },
    {
     "data": {
      "text/html": [
       "<div>\n",
       "<style scoped>\n",
       "    .dataframe tbody tr th:only-of-type {\n",
       "        vertical-align: middle;\n",
       "    }\n",
       "\n",
       "    .dataframe tbody tr th {\n",
       "        vertical-align: top;\n",
       "    }\n",
       "\n",
       "    .dataframe thead th {\n",
       "        text-align: right;\n",
       "    }\n",
       "</style>\n",
       "<table border=\"1\" class=\"dataframe\">\n",
       "  <thead>\n",
       "    <tr style=\"text-align: right;\">\n",
       "      <th></th>\n",
       "      <th>Descricao Atualizada</th>\n",
       "    </tr>\n",
       "  </thead>\n",
       "  <tbody>\n",
       "    <tr>\n",
       "      <th>2788</th>\n",
       "      <td>dev cumpr estil solicit acess past secret gera...</td>\n",
       "    </tr>\n",
       "    <tr>\n",
       "      <th>2789</th>\n",
       "      <td>senh dire cient determin impost cort cont espe...</td>\n",
       "    </tr>\n",
       "    <tr>\n",
       "      <th>2790</th>\n",
       "      <td>senh dire cient determin impost cort cont espe...</td>\n",
       "    </tr>\n",
       "    <tr>\n",
       "      <th>2791</th>\n",
       "      <td>cadastr diári ofic tce dat public numer numer ...</td>\n",
       "    </tr>\n",
       "    <tr>\n",
       "      <th>2792</th>\n",
       "      <td>solicit verific possibil cri cham técn recorr ...</td>\n",
       "    </tr>\n",
       "  </tbody>\n",
       "</table>\n",
       "</div>"
      ],
      "text/plain": [
       "                                   Descricao Atualizada\n",
       "2788  dev cumpr estil solicit acess past secret gera...\n",
       "2789  senh dire cient determin impost cort cont espe...\n",
       "2790  senh dire cient determin impost cort cont espe...\n",
       "2791  cadastr diári ofic tce dat public numer numer ...\n",
       "2792  solicit verific possibil cri cham técn recorr ..."
      ]
     },
     "execution_count": 36,
     "metadata": {},
     "output_type": "execute_result"
    }
   ],
   "source": [
    "df_validacao = df_features[df_features['Classificação'].isnull()].drop(columns='Classificação').copy()\n",
    "display(df_validacao.info())\n",
    "df_validacao.head()"
   ]
  },
  {
   "cell_type": "markdown",
   "metadata": {},
   "source": [
    "- Dataset de treino e teste"
   ]
  },
  {
   "cell_type": "code",
   "execution_count": 37,
   "metadata": {},
   "outputs": [
    {
     "name": "stdout",
     "output_type": "stream",
     "text": [
      "<class 'pandas.core.frame.DataFrame'>\n",
      "Int64Index: 2610 entries, 55 to 2787\n",
      "Data columns (total 2 columns):\n",
      "Classificação           2610 non-null int64\n",
      "Descricao Atualizada    2610 non-null object\n",
      "dtypes: int64(1), object(1)\n",
      "memory usage: 61.2+ KB\n"
     ]
    }
   ],
   "source": [
    "df_features.dropna(inplace=True)\n",
    "df_features['Classificação'] = df_features['Classificação'].astype('int64')\n",
    "df_features.info()"
   ]
  },
  {
   "cell_type": "markdown",
   "metadata": {},
   "source": [
    "- Separando os datasets de treino e teste"
   ]
  },
  {
   "cell_type": "code",
   "execution_count": 38,
   "metadata": {
    "colab": {
     "base_uri": "https://localhost:8080/",
     "height": 50
    },
    "colab_type": "code",
    "id": "ZQ_pHZGJ3weF",
    "outputId": "8e148755-c5b1-4cb4-d421-0c8a48bf82e0"
   },
   "outputs": [
    {
     "name": "stdout",
     "output_type": "stream",
     "text": [
      "Treino: 1957\n",
      "Teste: 653\n"
     ]
    }
   ],
   "source": [
    "treino, teste = train_test_split(df_features, test_size = 0.25, random_state=42, stratify=df_features['Classificação'])\n",
    "\n",
    "print(\"Treino:\", len(treino))\n",
    "print(\"Teste:\", len(teste))"
   ]
  },
  {
   "cell_type": "markdown",
   "metadata": {},
   "source": [
    "- Info do treino"
   ]
  },
  {
   "cell_type": "code",
   "execution_count": 39,
   "metadata": {},
   "outputs": [
    {
     "name": "stdout",
     "output_type": "stream",
     "text": [
      "<class 'pandas.core.frame.DataFrame'>\n",
      "Int64Index: 1957 entries, 966 to 1052\n",
      "Data columns (total 2 columns):\n",
      "Classificação           1957 non-null int64\n",
      "Descricao Atualizada    1957 non-null object\n",
      "dtypes: int64(1), object(1)\n",
      "memory usage: 45.9+ KB\n"
     ]
    },
    {
     "data": {
      "text/plain": [
       "None"
      ]
     },
     "metadata": {},
     "output_type": "display_data"
    },
    {
     "data": {
      "text/html": [
       "<div>\n",
       "<style scoped>\n",
       "    .dataframe tbody tr th:only-of-type {\n",
       "        vertical-align: middle;\n",
       "    }\n",
       "\n",
       "    .dataframe tbody tr th {\n",
       "        vertical-align: top;\n",
       "    }\n",
       "\n",
       "    .dataframe thead th {\n",
       "        text-align: right;\n",
       "    }\n",
       "</style>\n",
       "<table border=\"1\" class=\"dataframe\">\n",
       "  <thead>\n",
       "    <tr style=\"text-align: right;\">\n",
       "      <th></th>\n",
       "      <th>Classificação</th>\n",
       "      <th>Descricao Atualizada</th>\n",
       "    </tr>\n",
       "  </thead>\n",
       "  <tbody>\n",
       "    <tr>\n",
       "      <th>966</th>\n",
       "      <td>0</td>\n",
       "      <td>fix organiz cab tomb numer</td>\n",
       "    </tr>\n",
       "    <tr>\n",
       "      <th>2036</th>\n",
       "      <td>1</td>\n",
       "      <td>usu solicit auxili preench sispatr</td>\n",
       "    </tr>\n",
       "    <tr>\n",
       "      <th>2660</th>\n",
       "      <td>1</td>\n",
       "      <td>configur ergon</td>\n",
       "    </tr>\n",
       "    <tr>\n",
       "      <th>2299</th>\n",
       "      <td>1</td>\n",
       "      <td>local decis acórd process public ont visualiz ...</td>\n",
       "    </tr>\n",
       "    <tr>\n",
       "      <th>292</th>\n",
       "      <td>1</td>\n",
       "      <td>al ter tip process process envi via port ges m...</td>\n",
       "    </tr>\n",
       "  </tbody>\n",
       "</table>\n",
       "</div>"
      ],
      "text/plain": [
       "      Classificação                               Descricao Atualizada\n",
       "966               0                         fix organiz cab tomb numer\n",
       "2036              1                 usu solicit auxili preench sispatr\n",
       "2660              1                                     configur ergon\n",
       "2299              1  local decis acórd process public ont visualiz ...\n",
       "292               1  al ter tip process process envi via port ges m..."
      ]
     },
     "execution_count": 39,
     "metadata": {},
     "output_type": "execute_result"
    }
   ],
   "source": [
    "display(treino.info())\n",
    "treino.head()"
   ]
  },
  {
   "cell_type": "code",
   "execution_count": 41,
   "metadata": {},
   "outputs": [
    {
     "data": {
      "image/png": "[encoded data removed]",
      "text/plain": [
       "<Figure size 432x288 with 1 Axes>"
      ]
     },
     "metadata": {
      "needs_background": "light"
     },
     "output_type": "display_data"
    }
   ],
   "source": [
    "treino.Classificação.value_counts().plot.bar()\n",
    "plt.show()"
   ]
  },
  {
   "cell_type": "markdown",
   "metadata": {},
   "source": [
    "- Info do teste"
   ]
  },
  {
   "cell_type": "code",
   "execution_count": 42,
   "metadata": {},
   "outputs": [
    {
     "name": "stdout",
     "output_type": "stream",
     "text": [
      "<class 'pandas.core.frame.DataFrame'>\n",
      "Int64Index: 653 entries, 2113 to 1246\n",
      "Data columns (total 2 columns):\n",
      "Classificação           653 non-null int64\n",
      "Descricao Atualizada    653 non-null object\n",
      "dtypes: int64(1), object(1)\n",
      "memory usage: 15.3+ KB\n"
     ]
    },
    {
     "data": {
      "text/plain": [
       "None"
      ]
     },
     "metadata": {},
     "output_type": "display_data"
    },
    {
     "data": {
      "text/html": [
       "<div>\n",
       "<style scoped>\n",
       "    .dataframe tbody tr th:only-of-type {\n",
       "        vertical-align: middle;\n",
       "    }\n",
       "\n",
       "    .dataframe tbody tr th {\n",
       "        vertical-align: top;\n",
       "    }\n",
       "\n",
       "    .dataframe thead th {\n",
       "        text-align: right;\n",
       "    }\n",
       "</style>\n",
       "<table border=\"1\" class=\"dataframe\">\n",
       "  <thead>\n",
       "    <tr style=\"text-align: right;\">\n",
       "      <th></th>\n",
       "      <th>Classificação</th>\n",
       "      <th>Descricao Atualizada</th>\n",
       "    </tr>\n",
       "  </thead>\n",
       "  <tbody>\n",
       "    <tr>\n",
       "      <th>2113</th>\n",
       "      <td>1</td>\n",
       "      <td>numer cord cumpr pres solic melh ferrament tce...</td>\n",
       "    </tr>\n",
       "    <tr>\n",
       "      <th>1614</th>\n",
       "      <td>0</td>\n",
       "      <td>tomb moni</td>\n",
       "    </tr>\n",
       "    <tr>\n",
       "      <th>284</th>\n",
       "      <td>1</td>\n",
       "      <td>identific numer registr anex numer desp duplic...</td>\n",
       "    </tr>\n",
       "    <tr>\n",
       "      <th>2505</th>\n",
       "      <td>1</td>\n",
       "      <td>usu solicit auxili alt er senh</td>\n",
       "    </tr>\n",
       "    <tr>\n",
       "      <th>2517</th>\n",
       "      <td>1</td>\n",
       "      <td>consórci públic intermunicip rio grand nort cn...</td>\n",
       "    </tr>\n",
       "  </tbody>\n",
       "</table>\n",
       "</div>"
      ],
      "text/plain": [
       "      Classificação                               Descricao Atualizada\n",
       "2113              1  numer cord cumpr pres solic melh ferrament tce...\n",
       "1614              0                                          tomb moni\n",
       "284               1  identific numer registr anex numer desp duplic...\n",
       "2505              1                     usu solicit auxili alt er senh\n",
       "2517              1  consórci públic intermunicip rio grand nort cn..."
      ]
     },
     "execution_count": 42,
     "metadata": {},
     "output_type": "execute_result"
    }
   ],
   "source": [
    "display(teste.info())\n",
    "teste.head()"
   ]
  },
  {
   "cell_type": "code",
   "execution_count": 43,
   "metadata": {},
   "outputs": [
    {
     "data": {
      "image/png": "[encoded data removed]",
      "text/plain": [
       "<Figure size 432x288 with 1 Axes>"
      ]
     },
     "metadata": {
      "needs_background": "light"
     },
     "output_type": "display_data"
    }
   ],
   "source": [
    "teste.Classificação.value_counts().plot.bar()\n",
    "plt.show()"
   ]
  },
  {
   "cell_type": "markdown",
   "metadata": {},
   "source": [
    "### Criando os datasets em CSV\n",
    "\n",
    "- Arquivo de validação"
   ]
  },
  {
   "cell_type": "code",
   "execution_count": 44,
   "metadata": {},
   "outputs": [],
   "source": [
    "df_validacao.to_excel('datasets/Chamados_Validação.xlsx', index=False)\n",
    "#df_validacao.to_csv('datasets/Chamados_Validação.csv', index=False)"
   ]
  },
  {
   "cell_type": "markdown",
   "metadata": {},
   "source": [
    "- Arquivo de treino"
   ]
  },
  {
   "cell_type": "code",
   "execution_count": 45,
   "metadata": {},
   "outputs": [],
   "source": [
    "treino.to_excel('datasets/Chamados_Treino.xlsx', index=False)\n",
    "#treino.to_csv('datasets/Chamados_Treino.csv', index=False)"
   ]
  },
  {
   "cell_type": "markdown",
   "metadata": {},
   "source": [
    "- Arquivo de teste"
   ]
  },
  {
   "cell_type": "code",
   "execution_count": 46,
   "metadata": {},
   "outputs": [],
   "source": [
    "teste.to_excel('datasets/Chamados_Teste.xlsx', index=False)\n",
    "#teste.to_csv('datasets/Chamados_Teste.csv', index=False)"
   ]
  }
 ],
 "metadata": {
  "colab": {
   "collapsed_sections": [],
   "name": "Trabalho PLN.ipynb",
   "provenance": []
  },
  "kernelspec": {
   "display_name": "Python 3",
   "language": "python",
   "name": "python3"
  },
  "language_info": {
   "codemirror_mode": {
    "name": "ipython",
    "version": 3
   },
   "file_extension": ".py",
   "mimetype": "text/x-python",
   "name": "python",
   "nbconvert_exporter": "python",
   "pygments_lexer": "ipython3",
   "version": "3.7.3"
  }
 },
 "nbformat": 4,
 "nbformat_minor": 1
}
