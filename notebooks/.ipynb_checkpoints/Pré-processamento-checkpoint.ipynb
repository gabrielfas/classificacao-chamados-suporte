{
 "cells": [
  {
   "cell_type": "markdown",
   "metadata": {
    "colab_type": "text",
    "id": "m-qj2Lcp6uCV"
   },
   "source": [
    "Ref principal: https://github.com/eduonix/nlptextclassification/blob/master/NLP%20for%20Text%20Classification%20(Jupyter%20Notebook).ipynb"
   ]
  },
  {
   "cell_type": "markdown",
   "metadata": {
    "colab_type": "text",
    "id": "v2iRSLTdKoAi"
   },
   "source": [
    "### Imports"
   ]
  },
  {
   "cell_type": "code",
   "execution_count": 5,
   "metadata": {
    "colab": {
     "base_uri": "https://localhost:8080/",
     "height": 34
    },
    "colab_type": "code",
    "id": "nmEFX57P3T1e",
    "outputId": "45e031f8-d149-4484-cabd-65d9d275cbaf"
   },
   "outputs": [],
   "source": [
    "import re\n",
    "import nltk\n",
    "import ftfy \n",
    "import numpy as np\n",
    "import pandas as pd\n",
    "import matplotlib.pyplot as plt\n",
    "from sklearn.preprocessing import LabelEncoder\n",
    "from sklearn.model_selection import train_test_split\n",
    "from nltk.tokenize import word_tokenize"
   ]
  },
  {
   "cell_type": "markdown",
   "metadata": {
    "colab_type": "text",
    "id": "X8Q-K9-jdfaa"
   },
   "source": [
    "### Carregar dataset"
   ]
  },
  {
   "cell_type": "code",
   "execution_count": 6,
   "metadata": {
    "colab": {
     "base_uri": "https://localhost:8080/",
     "height": 195
    },
    "colab_type": "code",
    "id": "rZhLbVh84MWx",
    "outputId": "3aaa71e6-a92c-4b08-9e79-1ea1c253283d"
   },
   "outputs": [
    {
     "data": {
      "text/html": [
       "<div>\n",
       "<style scoped>\n",
       "    .dataframe tbody tr th:only-of-type {\n",
       "        vertical-align: middle;\n",
       "    }\n",
       "\n",
       "    .dataframe tbody tr th {\n",
       "        vertical-align: top;\n",
       "    }\n",
       "\n",
       "    .dataframe thead th {\n",
       "        text-align: right;\n",
       "    }\n",
       "</style>\n",
       "<table border=\"1\" class=\"dataframe\">\n",
       "  <thead>\n",
       "    <tr style=\"text-align: right;\">\n",
       "      <th></th>\n",
       "      <th>Classificação</th>\n",
       "      <th>Assunto</th>\n",
       "      <th>Descricao</th>\n",
       "    </tr>\n",
       "  </thead>\n",
       "  <tbody>\n",
       "    <tr>\n",
       "      <th>0</th>\n",
       "      <td>Inc - Con</td>\n",
       "      <td>PROBLEMA DE CONECTIVIDADE</td>\n",
       "      <td>PROBLEMA DE CONECTIVIDADE</td>\n",
       "    </tr>\n",
       "    <tr>\n",
       "      <th>1</th>\n",
       "      <td>Inc - Con</td>\n",
       "      <td>PC SEM INTERNET</td>\n",
       "      <td>raquel do bag de dr renato informou que está c...</td>\n",
       "    </tr>\n",
       "    <tr>\n",
       "      <th>2</th>\n",
       "      <td>Inc - Con</td>\n",
       "      <td>PC SEM INTERNET</td>\n",
       "      <td>vanessa , gab dr carlos barros informou proble...</td>\n",
       "    </tr>\n",
       "    <tr>\n",
       "      <th>3</th>\n",
       "      <td>Inc - Con</td>\n",
       "      <td>COMPUTADOR SEM ACESSO A INTERNET</td>\n",
       "      <td>Usuário informa que o computador está sem aces...</td>\n",
       "    </tr>\n",
       "    <tr>\n",
       "      <th>4</th>\n",
       "      <td>Inc - Con</td>\n",
       "      <td>COMPUTADOR NÃO ESTÁ LOGANDO</td>\n",
       "      <td>COMPUTADOR NÃO ESTÁ LOGANDO.</td>\n",
       "    </tr>\n",
       "  </tbody>\n",
       "</table>\n",
       "</div>"
      ],
      "text/plain": [
       "  Classificação                           Assunto  \\\n",
       "0     Inc - Con         PROBLEMA DE CONECTIVIDADE   \n",
       "1     Inc - Con                   PC SEM INTERNET   \n",
       "2     Inc - Con                   PC SEM INTERNET   \n",
       "3     Inc - Con  COMPUTADOR SEM ACESSO A INTERNET   \n",
       "4     Inc - Con       COMPUTADOR NÃO ESTÁ LOGANDO   \n",
       "\n",
       "                                           Descricao  \n",
       "0                          PROBLEMA DE CONECTIVIDADE  \n",
       "1  raquel do bag de dr renato informou que está c...  \n",
       "2  vanessa , gab dr carlos barros informou proble...  \n",
       "3  Usuário informa que o computador está sem aces...  \n",
       "4                       COMPUTADOR NÃO ESTÁ LOGANDO.  "
      ]
     },
     "execution_count": 6,
     "metadata": {},
     "output_type": "execute_result"
    }
   ],
   "source": [
    "df = pd.read_excel('../datasets/Chamados.xlsx')\n",
    "df.head()"
   ]
  },
  {
   "cell_type": "markdown",
   "metadata": {},
   "source": [
    "### Análise inicial"
   ]
  },
  {
   "cell_type": "code",
   "execution_count": 7,
   "metadata": {},
   "outputs": [
    {
     "name": "stdout",
     "output_type": "stream",
     "text": [
      "<class 'pandas.core.frame.DataFrame'>\n",
      "RangeIndex: 3195 entries, 0 to 3194\n",
      "Data columns (total 3 columns):\n",
      "Classificação    2788 non-null object\n",
      "Assunto          3195 non-null object\n",
      "Descricao        3195 non-null object\n",
      "dtypes: object(3)\n",
      "memory usage: 75.0+ KB\n"
     ]
    }
   ],
   "source": [
    "df.info()"
   ]
  },
  {
   "cell_type": "markdown",
   "metadata": {},
   "source": [
    "### Verificando a distribuição de classes"
   ]
  },
  {
   "cell_type": "code",
   "execution_count": 8,
   "metadata": {
    "colab": {
     "base_uri": "https://localhost:8080/",
     "height": 168
    },
    "colab_type": "code",
    "id": "Z30ak7z4IniV",
    "outputId": "79c52c86-35c8-4b86-e94f-4a258cef1e4d"
   },
   "outputs": [
    {
     "data": {
      "text/plain": [
       "Req - Equ    1194\n",
       "Req - Sis     962\n",
       "NaN           407\n",
       "Inc - Sis     284\n",
       "Inc - Equ     170\n",
       "Outros         71\n",
       "Inc - Con      55\n",
       "Req - Con      52\n",
       "Name: Classificação, dtype: int64"
      ]
     },
     "execution_count": 8,
     "metadata": {},
     "output_type": "execute_result"
    }
   ],
   "source": [
    "df['Classificação'].value_counts(dropna=False)"
   ]
  },
  {
   "cell_type": "markdown",
   "metadata": {},
   "source": [
    "- Deixando as classes de forma binária, apenas Equipamento e Sistema"
   ]
  },
  {
   "cell_type": "code",
   "execution_count": 9,
   "metadata": {},
   "outputs": [
    {
     "name": "stdout",
     "output_type": "stream",
     "text": [
      "<class 'pandas.core.frame.DataFrame'>\n",
      "Int64Index: 3017 entries, 55 to 3194\n",
      "Data columns (total 3 columns):\n",
      "Classificação    2610 non-null object\n",
      "Assunto          3017 non-null object\n",
      "Descricao        3017 non-null object\n",
      "dtypes: object(3)\n",
      "memory usage: 94.3+ KB\n"
     ]
    },
    {
     "data": {
      "text/plain": [
       "None"
      ]
     },
     "metadata": {},
     "output_type": "display_data"
    },
    {
     "data": {
      "text/plain": [
       "Req - Equ    1194\n",
       "Req - Sis     962\n",
       "NaN           407\n",
       "Inc - Sis     284\n",
       "Inc - Equ     170\n",
       "Name: Classificação, dtype: int64"
      ]
     },
     "execution_count": 9,
     "metadata": {},
     "output_type": "execute_result"
    }
   ],
   "source": [
    "df = df[(df['Classificação'] != 'Outros') & (df['Classificação'] != 'Inc - Con') & (df['Classificação'] != 'Req - Con')]\n",
    "display(df.info())\n",
    "df['Classificação'].value_counts(dropna=False)"
   ]
  },
  {
   "cell_type": "code",
   "execution_count": 10,
   "metadata": {},
   "outputs": [
    {
     "name": "stdout",
     "output_type": "stream",
     "text": [
      "<class 'pandas.core.frame.DataFrame'>\n",
      "Int64Index: 3017 entries, 55 to 3194\n",
      "Data columns (total 3 columns):\n",
      "Classificação    2610 non-null object\n",
      "Assunto          3017 non-null object\n",
      "Descricao        3017 non-null object\n",
      "dtypes: object(3)\n",
      "memory usage: 94.3+ KB\n"
     ]
    },
    {
     "data": {
      "text/plain": [
       "None"
      ]
     },
     "metadata": {},
     "output_type": "display_data"
    },
    {
     "data": {
      "text/plain": [
       "Equipamento    1364\n",
       "Sistema        1246\n",
       "NaN             407\n",
       "Name: Classificação, dtype: int64"
      ]
     },
     "execution_count": 10,
     "metadata": {},
     "output_type": "execute_result"
    }
   ],
   "source": [
    "df['Classificação'] = df.loc[df['Classificação'].notnull(),'Classificação'].apply(lambda c: 'Equipamento' if 'Equ' in c else 'Sistema')\n",
    "display(df.info())\n",
    "df['Classificação'].value_counts(dropna=False)"
   ]
  },
  {
   "cell_type": "markdown",
   "metadata": {
    "colab_type": "text",
    "id": "2oDh_OWndlLG"
   },
   "source": [
    "### Transformando os dados"
   ]
  },
  {
   "cell_type": "code",
   "execution_count": 11,
   "metadata": {
    "colab": {},
    "colab_type": "code",
    "id": "1CHjxln9dpb5"
   },
   "outputs": [
    {
     "data": {
      "text/plain": [
       "0.0    1364\n",
       "1.0    1246\n",
       "NaN     407\n",
       "Name: Classificação, dtype: int64"
      ]
     },
     "execution_count": 11,
     "metadata": {},
     "output_type": "execute_result"
    }
   ],
   "source": [
    "le = LabelEncoder()\n",
    "df.loc[df['Classificação'].notnull(),'Classificação'] = le.fit_transform(df.loc[df['Classificação'].notnull(),'Classificação'])\n",
    "df['Classificação'].value_counts(dropna=False)"
   ]
  },
  {
   "cell_type": "markdown",
   "metadata": {},
   "source": [
    "0 para equipamento e 1 para sistema\n",
    "\n",
    "### Convertendo caracteres para UTF-8"
   ]
  },
  {
   "cell_type": "code",
   "execution_count": 12,
   "metadata": {},
   "outputs": [
    {
     "data": {
      "text/plain": [
       "'<div>foi identificado um erro na coluna VALOR REALIZADO NO EXERCÍCIO do balanço orcamentario, receitas. foi identificado a inclusão de um valor estranho aquele vindo no arquivo de importação. segue arquivos para analise.</div>'"
      ]
     },
     "execution_count": 12,
     "metadata": {},
     "output_type": "execute_result"
    }
   ],
   "source": [
    "df['Descricao Atualizada'] = df['Descricao'].apply(lambda d: ' '.join(ftfy.fix_text(p) for p in d.split(' ')))\n",
    "df.iloc[268]['Descricao Atualizada']"
   ]
  },
  {
   "cell_type": "markdown",
   "metadata": {},
   "source": [
    "### Usando Regex para remoção de caracteres especiais"
   ]
  },
  {
   "cell_type": "code",
   "execution_count": 13,
   "metadata": {
    "colab": {},
    "colab_type": "code",
    "id": "nRHu7YrPemVD"
   },
   "outputs": [
    {
     "data": {
      "text/plain": [
       "55      coloquei para imprimir frente e verso querendo...\n",
       "56              usuário informa que o computador não liga\n",
       "57      usuária entrou em contato alegando que a impre...\n",
       "58       usuário informa que o excel não está funcionando\n",
       "59      usuário entrou em contato alegando que o compu...\n",
       "60                                    mouse sem funcionar\n",
       "61      usuária alega que o nobreak de sua maquina não...\n",
       "62      usuária solicita apoio para verificar computad...\n",
       "63      informo que se encontra queimada a fonte refer...\n",
       "64      um dos computadores do gabinete não quer funci...\n",
       "65                        inesperadamente a tela desligou\n",
       "66                        inesperadamente a tela desligou\n",
       "67                            computador não está ligando\n",
       "68                          problema ao imprimir etiqueta\n",
       "69      usuário informa que o computador não está ligando\n",
       "70        não consigo liberar a impressora para impressão\n",
       "71                       computador do restaurate nã loga\n",
       "72      as impressoras da dap adm numero e numero não ...\n",
       "73                                            pc não liga\n",
       "74                             monitor não gerando imagem\n",
       "75                    mensagem de erro ao tentar imprimir\n",
       "76                                          pc desligando\n",
       "77      ao abrir o sistema ergon para acessar as consu...\n",
       "78                                            pc não liga\n",
       "79                              impressora atolando papel\n",
       "80      a página do sigef entra em um looping infinito...\n",
       "81                                        nobreak bipando\n",
       "82                                        nobreak bipando\n",
       "83                            computador não está ligando\n",
       "84                         pc inicializar apropriadamente\n",
       "                              ...                        \n",
       "3165             apoio operacional justificativa de ponto\n",
       "3166                                   configurar scanner\n",
       "3167                o teclado de um pc está sem funcionar\n",
       "3168    existe uma critica na geração para o anexo num...\n",
       "3169    felipe pereira anexos qua numero de set numero...\n",
       "3170                                    apoio operacional\n",
       "3171                                configurar impressora\n",
       "3172           apoio operacional anexar processo ao email\n",
       "3173    no memorando numero numero existem dois anexos...\n",
       "3174                            problema de conectividade\n",
       "3175                            problema de conectividade\n",
       "3176    incluir as seguintes opções de fundamento lega...\n",
       "3177                              configuração de scanner\n",
       "3178                            problema de conectividade\n",
       "3179    ao consultar o envio do comprovante de publica...\n",
       "3180                       problema ao assinar informação\n",
       "3181                                         instalar pje\n",
       "3182                            al terar senha do usuário\n",
       "3183    cadastramento de arquivos no site portal da tr...\n",
       "3184    excluir tarja amarela do mutirão dap numero do...\n",
       "3185    solicita verificar e testar os equipamentos co...\n",
       "3186    bom dia prezado a venho por meio deste pedir a...\n",
       "3187    completar o texto valor no campo do anexo nume...\n",
       "3188     validar nota fiscal ebara numero estabilizadores\n",
       "3189     validar nota fiscal marcrosolution peças scanner\n",
       "3190    usuário estaa com duvida em uma critica no pro...\n",
       "3191    usuário estava querendo informações sobre a re...\n",
       "3192    é necessário instalar a extensão para inserir ...\n",
       "3193    usuária estava com duvida de qual valor coloca...\n",
       "3194    alt eração de operador cpf numero nome francis...\n",
       "Name: Descricao Atualizada, Length: 3017, dtype: object"
      ]
     },
     "execution_count": 13,
     "metadata": {},
     "output_type": "execute_result"
    }
   ],
   "source": [
    "#falta tratar data e algumas outras caracteristicas\n",
    "\n",
    "# tags html\n",
    "df['Descricao Atualizada'] = df['Descricao Atualizada'].str.replace(r'<[^>]*>', ' ').str.strip() #<[^>]*> <.*?>\n",
    "# email \n",
    "df['Descricao Atualizada'] = df['Descricao Atualizada'].str.replace(r'^.+@[^\\.].*\\.[a-z]{2,}$',\n",
    "                                 'email')\n",
    "# URLs \n",
    "df['Descricao Atualizada'] = df['Descricao Atualizada'].str.replace(r'^http\\://[a-zA-Z0-9\\-\\.]+\\.[a-zA-Z]{2,3}(/\\S*)?$',\n",
    "                                  'link')\n",
    "# cifrões de dinheiro \n",
    "df['Descricao Atualizada'] = df['Descricao Atualizada'].str.replace(r'£|\\$', 'cifrao') \n",
    "# número telefone\n",
    "df['Descricao Atualizada'] = df['Descricao Atualizada'].str.replace(r'^\\(?[\\d]{3}\\)?[\\s-]?[\\d]{3}[\\s-]?[\\d]{4}$',\n",
    "                                  'telefone') \n",
    "# números em geral\n",
    "df['Descricao Atualizada'] = df['Descricao Atualizada'].str.replace(r'\\d+(\\.\\d+)?', 'numero')\n",
    "# pontuação\n",
    "df['Descricao Atualizada'] = df['Descricao Atualizada'].str.replace(r'[^\\w\\d\\s]', ' ').str.strip()\n",
    "df['Descricao Atualizada'] = df['Descricao Atualizada'].str.replace(r'[_]', ' ')\n",
    "df['Descricao Atualizada'] = df['Descricao Atualizada'].str.replace(r'[º]', '')\n",
    "# dois espaços ou mais\n",
    "df['Descricao Atualizada'] = df['Descricao Atualizada'].str.replace(r'\\s+', ' ')\n",
    "\n",
    "df['Descricao Atualizada'] = df['Descricao Atualizada'].str.replace(r'^\\s+|\\s+?$', ' ')\n",
    "# minusculo\n",
    "df['Descricao Atualizada'] = df['Descricao Atualizada'].str.lower()\n",
    "df['Descricao Atualizada']"
   ]
  },
  {
   "cell_type": "code",
   "execution_count": 14,
   "metadata": {},
   "outputs": [
    {
     "data": {
      "text/plain": [
       "'foi identificado um erro na coluna valor realizado no exercício do balanço orcamentario receitas foi identificado a inclusão de um valor estranho aquele vindo no arquivo de importação segue arquivos para analise'"
      ]
     },
     "execution_count": 14,
     "metadata": {},
     "output_type": "execute_result"
    }
   ],
   "source": [
    "df.iloc[268]['Descricao Atualizada']"
   ]
  },
  {
   "cell_type": "code",
   "execution_count": 15,
   "metadata": {},
   "outputs": [
    {
     "name": "stderr",
     "output_type": "stream",
     "text": [
      "C:\\Users\\06827531490\\AppData\\Local\\Continuum\\anaconda3\\lib\\site-packages\\ipykernel_launcher.py:2: FutureWarning: The signature of `Series.to_csv` was aligned to that of `DataFrame.to_csv`, and argument 'header' will change its default value from False to True: please pass an explicit value to suppress this warning.\n",
      "  \n"
     ]
    }
   ],
   "source": [
    "# COMPARAR COM O ORIGINAL\n",
    "df['Descricao Atualizada'].to_csv('teste.csv')"
   ]
  },
  {
   "cell_type": "markdown",
   "metadata": {},
   "source": [
    "- Remover StopWords"
   ]
  },
  {
   "cell_type": "code",
   "execution_count": 16,
   "metadata": {
    "colab": {
     "base_uri": "https://localhost:8080/",
     "height": 1000
    },
    "colab_type": "code",
    "id": "skFxEXYgqQZF",
    "outputId": "39090bb4-82e2-4733-b9ce-13511c4d8d3e"
   },
   "outputs": [
    {
     "name": "stderr",
     "output_type": "stream",
     "text": [
      "[nltk_data] Downloading package stopwords to\n",
      "[nltk_data]     C:\\Users\\06827531490\\AppData\\Roaming\\nltk_data...\n",
      "[nltk_data]   Package stopwords is already up-to-date!\n"
     ]
    },
    {
     "data": {
      "text/plain": [
       "'identificado erro coluna valor realizado exercício balanço orcamentario receitas identificado inclusão valor estranho vindo arquivo importação segue arquivos analise'"
      ]
     },
     "execution_count": 16,
     "metadata": {},
     "output_type": "execute_result"
    }
   ],
   "source": [
    "nltk.download('stopwords')\n",
    "pt_stopwords = set(nltk.corpus.stopwords.words(\"portuguese\"))\n",
    "\n",
    "df['Descricao Atualizada'] = df['Descricao Atualizada'].apply(lambda d: ' '.join(term for term in d.split() if term not in pt_stopwords))\n",
    "df.iloc[268]['Descricao Atualizada']                                                            "
   ]
  },
  {
   "cell_type": "markdown",
   "metadata": {},
   "source": [
    "- Stemming"
   ]
  },
  {
   "cell_type": "code",
   "execution_count": 17,
   "metadata": {
    "colab": {
     "base_uri": "https://localhost:8080/",
     "height": 1000
    },
    "colab_type": "code",
    "id": "hmND_uYDv6-G",
    "outputId": "5378edd6-e182-4c2c-f536-1d0c98f7260b"
   },
   "outputs": [
    {
     "name": "stderr",
     "output_type": "stream",
     "text": [
      "[nltk_data] Downloading package rslp to\n",
      "[nltk_data]     C:\\Users\\06827531490\\AppData\\Roaming\\nltk_data...\n",
      "[nltk_data]   Package rslp is already up-to-date!\n"
     ]
    },
    {
     "data": {
      "text/plain": [
       "'identific err colun val realiz exercíci balanç orcamentari receit identific inclus val estranh vind arqu import seg arqu analis'"
      ]
     },
     "execution_count": 17,
     "metadata": {},
     "output_type": "execute_result"
    }
   ],
   "source": [
    "nltk.download('rslp')\n",
    "stemmer = nltk.stem.RSLPStemmer()\n",
    "\n",
    "df['Descricao Atualizada'] = df['Descricao Atualizada'].apply(lambda x: ' '.join(stemmer.stem(term) for term in x.split()))\n",
    "df.iloc[268]['Descricao Atualizada']"
   ]
  },
  {
   "cell_type": "markdown",
   "metadata": {},
   "source": [
    "### Feature Engineering"
   ]
  },
  {
   "cell_type": "code",
   "execution_count": 18,
   "metadata": {},
   "outputs": [
    {
     "name": "stderr",
     "output_type": "stream",
     "text": [
      "[nltk_data] Downloading package punkt to\n",
      "[nltk_data]     C:\\Users\\06827531490\\AppData\\Roaming\\nltk_data...\n",
      "[nltk_data]   Package punkt is already up-to-date!\n"
     ]
    }
   ],
   "source": [
    "nltk.download('punkt')\n",
    "\n",
    "def tokenizar(dados):\n",
    "    todas_palavras = []\n",
    "    for descricao in dados:\n",
    "        palavras = word_tokenize(descricao)\n",
    "        for p in palavras:\n",
    "            todas_palavras.append(p)\n",
    "    return todas_palavras"
   ]
  },
  {
   "cell_type": "code",
   "execution_count": 19,
   "metadata": {},
   "outputs": [
    {
     "name": "stdout",
     "output_type": "stream",
     "text": [
      "Total de palavras: 3177\n",
      "Mais comuns: [('numer', 3039), ('solicit', 661), ('process', 657), ('inform', 432), ('configur', 420)]\n"
     ]
    }
   ],
   "source": [
    "todas_palavras = tokenizar(df['Descricao Atualizada'].values)\n",
    "        \n",
    "freq_palavras = nltk.FreqDist(todas_palavras)\n",
    "\n",
    "print('Total de palavras: {}'.format(len(freq_palavras)))\n",
    "print('Mais comuns: {}'.format(freq_palavras.most_common(5)))"
   ]
  },
  {
   "cell_type": "code",
   "execution_count": 20,
   "metadata": {},
   "outputs": [
    {
     "name": "stdout",
     "output_type": "stream",
     "text": [
      "['numer', 'solicit', 'process', 'inform', 'configur', 'cadastr', 'usu', 'anex', 'tce', 'instal', 'comput', 'tomb', 'envi', 'set', 'nom', 'sistem', 'acess', 'err', 'realiz', 'senh', 'impres', 'n', 'serv', 'cpf', 'cont', 'si', 'alt', 'arqu', 'problem', 'cumpr', 'consult', 'public', 'port', 'moni', 'dest', 'dev', 'dia', 'funcional', 'áre', 'ser', 'registr', 'apoi', 'diret', 'oper', 'dap', 'verific', 'notebook', 'dat', 'atual', 'restrit', 'conform', 'operac', 'ter', 'aprov', 'pont', 'códig', 'cri', 'test', 'dad', 'refer', 'solic', 'past', 'rn', 'eraç', 'nov', 'scann', 'sal', 'através', 'control', 'document', 'ges', 'estil', 'tent', 'venh', 'ord', 'equip', 'apresent', 'digit', 'al', 'bimestr', 'receit', 'trabalh', 'aparec', 'camp', 'necess', 'relatóri', 'ano', 'lig', 'silv', 'pessoal', 'exist', 'pesso', 'sobr', 'ger', 'tod', 'atend', 'cab', 'seguint', 'númer', 'dire', 'cient', 'pc', 'inclu', 'er', 'tel', 'ato', 'auxili', 'val', 'usuár', 'gerenci', 'tc', 'respons', 'trein', 'diári', 'homolog', 'ativ', 'informá', 'encontr', 'pod', 'possível', 'cord', 'hom', 'local', 'event', 'ergon', 'anális', 'decis', 'clon', 'eletrôn', 'substitu', 'sit', 'desd', 'desp', 'provid', 'extern', 'excel', 'memor', 'fiscal', 'cort', 'nobreak', 'cham', 'administr', 'ofic', 'entr', 'contat', 'assin', 'protest', 'relacion', 'web', 'técn', 'hor', 'tip', 'exclus', 'conselh', 'matrícul', 'mens', 'carg', 'part', 'form', 'tabel', 'prefeit', 'coorden', 'marc', 'detect', 'seg', 'cas', 'imprim', 'lot', 'nest', 'duvid', 'justific', 'certific', 'est', 'identific', 'cost', 'dispon', 'cit', 'vist', 'prez', 'consegu', 'mar', 'requer', 'utiliz', 'mesm', 'poi', 'visual', 'list', 'fs', 'const', 'send', 'monocrá', 'determin', 'ped', 'appweb', 'email', 'pres', 'outr', 'banc', 'faz', 'retorn', 'resoluç', 'lan', 'organiz', 'algum', 'geral', 'órg', 'estagiár', 'págin', 'ocorr', 'opç', 'dp', 'exercíci', 'voss', 'fix', 'comun', 'consig', 'mail', 'inser', 'func', 'tend', 'comarc', 'exclu', 'cert', 'após', 'receb', 'siop', 'municípi', 'pag', 'municip', 'disponibil', 'estagi', 'prest', 'dess', 'perfil', 'iissqlnumer', 'abaix', 'serviç', 'porém', 'oliv', 'açã', 'relat', 'lim', 'funcion', 'imag', 'abr', 'not', 'model', 'possu', 'seguranç', 'procur', 'ana', 'med', 'gabinet', 'planilh', 'corret', 'correç', 'man', 'preench', 'sant', 'anteri', 'públic', 'dúv', 'atalh', 'reun', 'agradec', 'audi', 'quant', 'aplic', 'clic', 'din', 'tramit', 'inclus', 'espec', 'token', 'diverg', 'feit', 'fic', 'proced', 'segu', 'tribun', 'relaç', 'ferrament', 'icpbrav', 'biometr', 'fim', 'aleg', 'apen', 'ond', 'red', 'pass', 'coloc', 'apens', 'bem', 'vez', 'encaminh', 'dam', 'via', 'uso', 'precis', 'demand', 'permiss', 'program', 'escol', 'orient', 'lei', 'trat', 'mut', 'bom', 'assinat', 'colet', 'jurisdicion', 'intern', 'analis', 'assim', 'and', 'expedi', 'respost', 'ambi', 'v', 'sa', 'mous', 'br', 'cuj', 'retir', 'contrat', 'colun', 'so', 'sab', 'consider', 'ietab', 'presid', 'gom', 'ben', 'posi', 'adob', 'bas', 'permit', 'indic', 'secret', 'obrig', 'fernand', 'renov', 'auditóri', 'produç', 'print', 'estabiliz', 'emit', 'pdf', 'aba', 'valid', 'gost', 'josé', 'licit', 'ent', 'ver', 'import', 'moment', 'aind', 'efetu', 'design', 'entreg', 'complement', 'proc', 'config', 'ajust', 'impost', 'gov', 'pend', 'edit', 'suport', 'associ', 'comprov', 'mei', 'atribu', 'acord', 'atenç', 'ouvid', 'períod', 'http', 'plen', 'numeroh', 'coordenad', 'poss', 'sim', 'deslig', 'liber', 'segund', 'sent', 'troc', 'dag', 'sql', 'distribu', 'dív', 'gest', 'vot', 'execuç', 'orig', 'rio', 'curs', 'avali', 'bloquei', 'cunh', 'conced', 'pleit', 'disponi', 'vers', 'boa', 'situ', 'vincul', 'paut', 'favor', 'grand', 'doi', 'autor', 'esclarec', 'mudanç', 'cancel', 'produt', 'alv', 'term', 'estaçã', 'términ', 'recepç', 'log', 'inic', 'catrac', 'temp', 'legil', 'tard', 's', 'doe', 'venc', 'destin', 'extens', 'deduç', 'unidad', 'api', 'mat', 'art', 'indef', 'adm', 'demal', 'conseg', 'observ', 'acim', 'di', 'nao', 'mostr', 'implement', 'prim', 'total', 'dar', 'instituc', 'sess', 'manutenç', 'pacot', 'substitut', 'font', 'impress', 'pra', 'adicion', 'leit', 'i', 'it', 'result', 'rgf', 'limit', 'final', 'backup', 'abert', 'sid', 'comunic', 'audit', 'anderson', 'mes', 'ref', 'dispens', 'junt', 'releas', 'rcifra', 'link', 'conclu', 'ra', 'sext', 'sispatr', 'dispos', 'mai', 'ferr', 'nort', 'atest', 'qatc', 'míd', 'souz', 'funç', 'corrig', 'tal', 'dae', 'agradeç', 'govern', 'possibil', 'internet', 'ii', 'siaianalis', 'recib', 'particip', 'cad', 'padr', 'interess', 'wwwreleas', 'melh', 'barr', 'break', 'maquin', 'softw', 'presenç', 'endereç', 'exib', 'falh', 'automatic', 'id', 'gentil', 'entant', 'especific', 'ata', 'the', 'aguard', 'sob', 'emiss', 'falt', 'motiv', 'porqu', 'atencios', 'dant', 'cristin', 'inici', 'fornec', 'hoj', 'enc', 'prést', 'q', 'detalh', 'offic', 'paul', 'xavi', 'beatriz', 'ofert', 'quest', 'adot', 'luci', 'acompanh', 'c', 'máquin', 'mal', 'lin', 'exempl', 'institut', 'empr', 'usuari', 'resolv', 'mê', 'reenvi', 'posteri', 'empenh', 'declar', 'lrf', 'advog', 'amand', 'export', 'question', 'smartphon', 'limp', 'iii', 'ar', 'anexonumer', 'moral', 'diár', 'incis', 'praz', 'alme', 'respond', 'estranh', 'contabil', 'naveg', 'tv', 'asp', 'celul', 'físic', 'correspond', 'joã', 'qual', 'sempr', 'pendenc', 'surg', 'necessár', 'objet', 'relatori', 'are', 'carvalh', 'upload', 'irregular', 'crít', 'recuper', 'client', 'fund', 'câm', 'notific', 'saúd', 'antig', 'bolet', 'desenvolv', 'qualqu', 'gp', 'conteúd', 'd', 'méd', 'protocol', 'alexandr', 'nasc', 'pergunt', 'correged', 'rotin', 'srv', 'fsnumer', 'oportun', 'carl', 'araúj', 'inserç', 'rodrig', 'regular', 'rib', 'mour', 'adic', 'gabriel', 'quer', 'ob', 'pje', 'salv', 'us', 'ocorrenc', 'hardw', 'ícon', 'soment', 'despach', 'sucess', 'statu', 'prepar', 'duplic', 'módul', 'text', 'inscr', 'corr', 'hav', 'dentr', 'diaz', 'chav', 'diss', 'melhor', 'www', 'wif', 'feir', 'acsoc', 'eduard', 'remoç', 'vim', 'bezerr', 'lrfserv', 'soc', 'legal', 'específ', 'format', 'justiç', 'seç', 'projet', 'prov', 'bip', 'necessit', 'trav', 'tecl', 'word', 'nenhum', 'exced', 'googl', 'mand', 'microsoft', 'residenc', 'att', 'acus', 'rela', 'modific', 'imped', 'seman', 'reset', 'transpar', 'devolv', 'real', 'descr', 'formul', 'debit', 'modul', 'inconsist', 'verd', 'dua', 'cumpriment', 'duart', 'tamanh', 'cruz', 'aquis', 'judici', 'almoxarif', 'peç', 'fsdin', 'script', 'cheg', 'glob', 'colabor', 'setembr', 'nogu', 'histór', 'providenci', 'notíc', 'tant', 'mari', 'inidône', 'feder', 'corre', 'títul', 'barb', 'educ', 'tarj', 'b', 'norm', 'etiquet', 'folh', 'hp', 'conect', 'reinici', 'mod', 'trimestr', 'realoc', 'valu', 'difer', 'minut', 'expost', 'fat', 'anual', 'natal', 'anot', 'constat', 'amarel', 'pm', 'outubr', 'tceadmin', 'diz', 'deix', 'futur', 'cartóri', 'agost', 'ont', 'superi', 'elabor', 'cóp', 'confer', 'nega', 'titul', 'agend', 'qa', 'dur', 'alert', 'ja', 'ton', 'admin', 'sra', 'proje', 'auxíli', 'defeit', 'microfon', 'ind', 'ricart', 'publ', 'azeved', 'civil', 'preven', 'grup', 'escolh', 'rafael', 'férias', 'antoni', 'roch', 'mel', 'judiciár', 'var', 'ad', 'fge', 'mirand', 'artig', 'gerenc', 'diógen', 'gccorr', 'monocra', 'entretant', 'carreg', 'cart', 'saíd', 'ns', 'ram', 'driv', 'tr', 'volt', 'or', 'divers', 'linh', 'pagin', 'com', 'natur', 'quantit', 'débit', 'verifiq', 'legisl', 'to', 'rel', 'prossegu', 'dand', 'balanç', 'continu', 'supr', 'respec', 'exe', 'idinformaca', 'idcomposicaopautanumer', 'fern', 'recorr', 'afim', 'mim', 'compr', 'virtud', 'igual', 'pet', 'bi', 'selec', 'lo', 'amar', 'apo', 'secex', 'aqu', 'recent', 'iegm', 'exig', 'tempor', 'orç', 'radi', 'ant', 'on', 'obje', 'trê', 'adem', 'chef', 'cell', 'vide', 'comiss', 'danific', 'maxxipow', 'andré', 'respeit', 'numeroª', 'sirv', 'assunt', 'separ', 'terceir', 'sr', 'além', 'semelh', 'iann', 'comparec', 'traz', 'licitatóri', 'horár', 'ig', 'agil', 'quadrimestr', 'apont', 'agor', 'visit', 'impossibilit', 'up', 'numerov', 'la', 'calcul', 'reconhec', 'of', 'informaco', 'descrit', 'sheyl', 'yusk', 'bol', 'report', 'bast', 'fech', 'rre', 'fiz', 'daquel', 'julg', 'vai', 'inferi', 'parcel', 'terc', 'emb', 'somatóri', 'defini', 'xml', 'ip', 'compet', 'chrom', 'mant', 'capacit', 'admiss', 'ambos', 'alin', 'liquid', 'automá', 'atu', 'convers', 'dificuldad', 'iníci', 'aut', 'execut', 'renat', 'menos', 'sugir', 'retific', 'recurs', 'capt', 'marcel', 'govrn', 'app', 'procurad', 'remanej', 'fgo', 'rutêni', 'transfer', 'assessor', 'queiroz', 'jos', 'acerc', 'etc', 'hotfix', 'fil', 'concentr', 'conhec', 'antôni', 'obt', 'ttrabalh', 'cidad', 'implant', 'vinic', 'revis', 'síti', 'copi', 'subseç', 'regin', 'ness', 'autoriz', 'jadson', 'desapens', 'requisit', 'fich', 'efet', 'compar', 'fundament', 'nf', 'previst', 'brit', 'últ', 'per', 'estad', 'seridó', 'vermelh', 'urg', 'assess', 'remet', 'pen', 'doc', 'fot', 'acontec', 'baix', 'admit', 'adequ', 'arearestrit', 'previd', 'mor', 'an', 'selecion', 'possibilit', 'layout', 'cogep', 'busc', 'localiz', 'princip', 'percent', 'zer', 'mencion']\n"
     ]
    }
   ],
   "source": [
    "features_palavras = list(dict(sorted(freq_palavras.items(), key=lambda c: c[1], reverse=True)).keys())[:1000]\n",
    "print(features_palavras)"
   ]
  },
  {
   "cell_type": "code",
   "execution_count": 21,
   "metadata": {},
   "outputs": [],
   "source": [
    "def find_features(descricao):\n",
    "    palavras_descricao = word_tokenize(descricao)\n",
    "    features = {palavra:(palavra in palavras_descricao) for palavra in features_palavras}\n",
    "    return features"
   ]
  },
  {
   "cell_type": "code",
   "execution_count": 22,
   "metadata": {},
   "outputs": [],
   "source": [
    "chamados = list(zip(df['Descricao Atualizada'], \n",
    "                    df['Classificação']))"
   ]
  },
  {
   "cell_type": "code",
   "execution_count": 23,
   "metadata": {},
   "outputs": [],
   "source": [
    "seed = 1\n",
    "np.random.seed = seed\n",
    "np.random.shuffle(chamados)\n",
    "\n",
    "featuresets = [(find_features(texto), classe) for (texto, classe) in chamados]"
   ]
  },
  {
   "cell_type": "code",
   "execution_count": 24,
   "metadata": {},
   "outputs": [
    {
     "data": {
      "text/plain": [
       "array([{'numer': False, 'solicit': False, 'process': False, 'inform': False, 'configur': False, 'cadastr': False, 'usu': False, 'anex': False, 'tce': False, 'instal': False, 'comput': False, 'tomb': False, 'envi': False, 'set': False, 'nom': False, 'sistem': False, 'acess': False, 'err': False, 'realiz': False, 'senh': False, 'impres': False, 'n': False, 'serv': False, 'cpf': False, 'cont': False, 'si': False, 'alt': False, 'arqu': False, 'problem': False, 'cumpr': False, 'consult': False, 'public': False, 'port': False, 'moni': False, 'dest': False, 'dev': False, 'dia': False, 'funcional': False, 'áre': False, 'ser': False, 'registr': False, 'apoi': False, 'diret': False, 'oper': False, 'dap': False, 'verific': True, 'notebook': False, 'dat': False, 'atual': False, 'restrit': False, 'conform': False, 'operac': False, 'ter': False, 'aprov': False, 'pont': False, 'códig': False, 'cri': False, 'test': False, 'dad': False, 'refer': False, 'solic': False, 'past': False, 'rn': False, 'eraç': False, 'nov': False, 'scann': False, 'sal': False, 'através': False, 'control': False, 'document': False, 'ges': False, 'estil': False, 'tent': False, 'venh': False, 'ord': False, 'equip': False, 'apresent': False, 'digit': False, 'al': False, 'bimestr': False, 'receit': False, 'trabalh': False, 'aparec': False, 'camp': False, 'necess': False, 'relatóri': False, 'ano': False, 'lig': False, 'silv': False, 'pessoal': False, 'exist': False, 'pesso': False, 'sobr': False, 'ger': False, 'tod': False, 'atend': False, 'cab': False, 'seguint': False, 'númer': False, 'dire': False, 'cient': False, 'pc': False, 'inclu': False, 'er': False, 'tel': False, 'ato': False, 'auxili': False, 'val': False, 'usuár': False, 'gerenci': False, 'tc': False, 'respons': False, 'trein': False, 'diári': False, 'homolog': False, 'ativ': False, 'informá': False, 'encontr': False, 'pod': False, 'possível': False, 'cord': False, 'hom': False, 'local': False, 'event': False, 'ergon': False, 'anális': False, 'decis': False, 'clon': False, 'eletrôn': False, 'substitu': False, 'sit': False, 'desd': False, 'desp': False, 'provid': False, 'extern': False, 'excel': False, 'memor': False, 'fiscal': False, 'cort': False, 'nobreak': True, 'cham': False, 'administr': False, 'ofic': False, 'entr': False, 'contat': False, 'assin': False, 'protest': False, 'relacion': False, 'web': False, 'técn': False, 'hor': False, 'tip': False, 'exclus': False, 'conselh': False, 'matrícul': False, 'mens': False, 'carg': False, 'part': False, 'form': False, 'tabel': False, 'prefeit': False, 'coorden': False, 'marc': False, 'detect': False, 'seg': False, 'cas': False, 'imprim': False, 'lot': False, 'nest': False, 'duvid': False, 'justific': False, 'certific': False, 'est': False, 'identific': False, 'cost': False, 'dispon': False, 'cit': False, 'vist': False, 'prez': False, 'consegu': False, 'mar': False, 'requer': False, 'utiliz': False, 'mesm': False, 'poi': False, 'visual': False, 'list': False, 'fs': False, 'const': False, 'send': False, 'monocrá': False, 'determin': False, 'ped': False, 'appweb': False, 'email': False, 'pres': False, 'outr': False, 'banc': False, 'faz': False, 'retorn': False, 'resoluç': False, 'lan': False, 'organiz': False, 'algum': False, 'geral': False, 'órg': False, 'estagiár': False, 'págin': False, 'ocorr': False, 'opç': False, 'dp': False, 'exercíci': False, 'voss': False, 'fix': False, 'comun': False, 'consig': False, 'mail': False, 'inser': False, 'func': False, 'tend': False, 'comarc': False, 'exclu': False, 'cert': False, 'após': False, 'receb': False, 'siop': False, 'municípi': False, 'pag': False, 'municip': False, 'disponibil': False, 'estagi': False, 'prest': False, 'dess': False, 'perfil': False, 'iissqlnumer': False, 'abaix': False, 'serviç': False, 'porém': False, 'oliv': False, 'açã': False, 'relat': False, 'lim': False, 'funcion': False, 'imag': False, 'abr': False, 'not': False, 'model': False, 'possu': False, 'seguranç': False, 'procur': False, 'ana': False, 'med': False, 'gabinet': False, 'planilh': False, 'corret': False, 'correç': False, 'man': False, 'preench': False, 'sant': False, 'anteri': False, 'públic': False, 'dúv': False, 'atalh': False, 'reun': False, 'agradec': False, 'audi': False, 'quant': False, 'aplic': False, 'clic': False, 'din': False, 'tramit': False, 'inclus': False, 'espec': False, 'token': False, 'diverg': False, 'feit': False, 'fic': False, 'proced': False, 'segu': False, 'tribun': False, 'relaç': False, 'ferrament': False, 'icpbrav': False, 'biometr': False, 'fim': False, 'aleg': False, 'apen': False, 'ond': False, 'red': False, 'pass': False, 'coloc': False, 'apens': False, 'bem': False, 'vez': False, 'encaminh': False, 'dam': False, 'via': False, 'uso': False, 'precis': False, 'demand': False, 'permiss': False, 'program': False, 'escol': False, 'orient': False, 'lei': False, 'trat': False, 'mut': False, 'bom': False, 'assinat': False, 'colet': False, 'jurisdicion': False, 'intern': False, 'analis': False, 'assim': False, 'and': False, 'expedi': False, 'respost': False, 'ambi': False, 'v': False, 'sa': False, 'mous': False, 'br': False, 'cuj': False, 'retir': False, 'contrat': False, 'colun': False, 'so': False, 'sab': False, 'consider': False, 'ietab': False, 'presid': False, 'gom': False, 'ben': False, 'posi': False, 'adob': False, 'bas': False, 'permit': False, 'indic': False, 'secret': False, 'obrig': False, 'fernand': False, 'renov': False, 'auditóri': False, 'produç': False, 'print': False, 'estabiliz': False, 'emit': False, 'pdf': False, 'aba': False, 'valid': False, 'gost': False, 'josé': False, 'licit': False, 'ent': False, 'ver': False, 'import': False, 'moment': False, 'aind': False, 'efetu': False, 'design': False, 'entreg': False, 'complement': False, 'proc': False, 'config': False, 'ajust': False, 'impost': False, 'gov': False, 'pend': False, 'edit': False, 'suport': False, 'associ': False, 'comprov': False, 'mei': False, 'atribu': False, 'acord': False, 'atenç': False, 'ouvid': False, 'períod': False, 'http': False, 'plen': False, 'numeroh': False, 'coordenad': False, 'poss': False, 'sim': False, 'deslig': False, 'liber': False, 'segund': False, 'sent': False, 'troc': False, 'dag': False, 'sql': False, 'distribu': False, 'dív': False, 'gest': False, 'vot': False, 'execuç': False, 'orig': False, 'rio': False, 'curs': False, 'avali': False, 'bloquei': False, 'cunh': False, 'conced': False, 'pleit': False, 'disponi': False, 'vers': False, 'boa': False, 'situ': False, 'vincul': False, 'paut': False, 'favor': False, 'grand': False, 'doi': False, 'autor': False, 'esclarec': False, 'mudanç': False, 'cancel': False, 'produt': False, 'alv': False, 'term': False, 'estaçã': False, 'términ': False, 'recepç': False, 'log': False, 'inic': False, 'catrac': False, 'temp': False, 'legil': False, 'tard': False, 's': False, 'doe': False, 'venc': False, 'destin': False, 'extens': False, 'deduç': False, 'unidad': False, 'api': False, 'mat': False, 'art': False, 'indef': False, 'adm': False, 'demal': False, 'conseg': False, 'observ': False, 'acim': False, 'di': False, 'nao': False, 'mostr': False, 'implement': False, 'prim': False, 'total': False, 'dar': False, 'instituc': False, 'sess': False, 'manutenç': False, 'pacot': False, 'substitut': False, 'font': False, 'impress': False, 'pra': False, 'adicion': False, 'leit': False, 'i': False, 'it': False, 'result': False, 'rgf': False, 'limit': False, 'final': False, 'backup': False, 'abert': False, 'sid': False, 'comunic': False, 'audit': False, 'anderson': False, 'mes': False, 'ref': False, 'dispens': False, 'junt': False, 'releas': False, 'rcifra': False, 'link': False, 'conclu': False, 'ra': False, 'sext': False, 'sispatr': False, 'dispos': False, 'mai': False, 'ferr': False, 'nort': False, 'atest': False, 'qatc': False, 'míd': False, 'souz': False, 'funç': False, 'corrig': False, 'tal': False, 'dae': False, 'agradeç': False, 'govern': False, 'possibil': False, 'internet': False, 'ii': False, 'siaianalis': False, 'recib': False, 'particip': False, 'cad': False, 'padr': False, 'interess': False, 'wwwreleas': False, 'melh': False, 'barr': False, 'break': False, 'maquin': False, 'softw': False, 'presenç': False, 'endereç': False, 'exib': False, 'falh': False, 'automatic': False, 'id': False, 'gentil': False, 'entant': False, 'especific': False, 'ata': False, 'the': False, 'aguard': False, 'sob': False, 'emiss': False, 'falt': False, 'motiv': False, 'porqu': False, 'atencios': False, 'dant': False, 'cristin': False, 'inici': False, 'fornec': False, 'hoj': False, 'enc': False, 'prést': False, 'q': False, 'detalh': False, 'offic': False, 'paul': False, 'xavi': False, 'beatriz': False, 'ofert': False, 'quest': False, 'adot': False, 'luci': False, 'acompanh': False, 'c': False, 'máquin': False, 'mal': False, 'lin': False, 'exempl': False, 'institut': False, 'empr': False, 'usuari': False, 'resolv': False, 'mê': False, 'reenvi': False, 'posteri': False, 'empenh': False, 'declar': False, 'lrf': False, 'advog': False, 'amand': False, 'export': False, 'question': False, 'smartphon': False, 'limp': False, 'iii': False, 'ar': False, 'anexonumer': False, 'moral': False, 'diár': False, 'incis': False, 'praz': False, 'alme': False, 'respond': False, 'estranh': False, 'contabil': False, 'naveg': False, 'tv': False, 'asp': False, 'celul': False, 'físic': False, 'correspond': False, 'joã': False, 'qual': False, 'sempr': False, 'pendenc': False, 'surg': False, 'necessár': False, 'objet': False, 'relatori': False, 'are': False, 'carvalh': False, 'upload': False, 'irregular': False, 'crít': False, 'recuper': False, 'client': False, 'fund': False, 'câm': False, 'notific': False, 'saúd': False, 'antig': False, 'bolet': False, 'desenvolv': False, 'qualqu': False, 'gp': False, 'conteúd': False, 'd': False, 'méd': False, 'protocol': False, 'alexandr': False, 'nasc': False, 'pergunt': False, 'correged': False, 'rotin': False, 'srv': False, 'fsnumer': False, 'oportun': False, 'carl': False, 'araúj': False, 'inserç': False, 'rodrig': False, 'regular': False, 'rib': False, 'mour': False, 'adic': False, 'gabriel': False, 'quer': False, 'ob': False, 'pje': False, 'salv': False, 'us': False, 'ocorrenc': False, 'hardw': False, 'ícon': False, 'soment': False, 'despach': False, 'sucess': False, 'statu': False, 'prepar': False, 'duplic': False, 'módul': False, 'text': False, 'inscr': False, 'corr': False, 'hav': False, 'dentr': False, 'diaz': False, 'chav': False, 'diss': False, 'melhor': False, 'www': False, 'wif': False, 'feir': False, 'acsoc': False, 'eduard': False, 'remoç': False, 'vim': False, 'bezerr': False, 'lrfserv': False, 'soc': False, 'legal': False, 'específ': False, 'format': False, 'justiç': False, 'seç': False, 'projet': False, 'prov': False, 'bip': False, 'necessit': False, 'trav': False, 'tecl': False, 'word': False, 'nenhum': False, 'exced': False, 'googl': False, 'mand': False, 'microsoft': False, 'residenc': False, 'att': False, 'acus': False, 'rela': False, 'modific': False, 'imped': False, 'seman': False, 'reset': False, 'transpar': False, 'devolv': False, 'real': False, 'descr': False, 'formul': False, 'debit': False, 'modul': False, 'inconsist': False, 'verd': False, 'dua': False, 'cumpriment': False, 'duart': False, 'tamanh': False, 'cruz': False, 'aquis': False, 'judici': False, 'almoxarif': False, 'peç': False, 'fsdin': False, 'script': False, 'cheg': False, 'glob': False, 'colabor': False, 'setembr': False, 'nogu': False, 'histór': False, 'providenci': False, 'notíc': False, 'tant': False, 'mari': False, 'inidône': False, 'feder': False, 'corre': False, 'títul': False, 'barb': False, 'educ': False, 'tarj': False, 'b': False, 'norm': False, 'etiquet': False, 'folh': False, 'hp': False, 'conect': False, 'reinici': False, 'mod': False, 'trimestr': False, 'realoc': False, 'valu': False, 'difer': False, 'minut': False, 'expost': False, 'fat': False, 'anual': False, 'natal': False, 'anot': False, 'constat': False, 'amarel': False, 'pm': False, 'outubr': False, 'tceadmin': False, 'diz': False, 'deix': False, 'futur': False, 'cartóri': False, 'agost': False, 'ont': False, 'superi': False, 'elabor': False, 'cóp': False, 'confer': False, 'nega': False, 'titul': False, 'agend': False, 'qa': False, 'dur': False, 'alert': False, 'ja': False, 'ton': False, 'admin': False, 'sra': False, 'proje': False, 'auxíli': False, 'defeit': False, 'microfon': False, 'ind': False, 'ricart': False, 'publ': False, 'azeved': False, 'civil': False, 'preven': False, 'grup': False, 'escolh': False, 'rafael': False, 'férias': False, 'antoni': False, 'roch': False, 'mel': False, 'judiciár': False, 'var': False, 'ad': False, 'fge': False, 'mirand': False, 'artig': False, 'gerenc': False, 'diógen': False, 'gccorr': False, 'monocra': False, 'entretant': False, 'carreg': False, 'cart': False, 'saíd': False, 'ns': False, 'ram': False, 'driv': False, 'tr': False, 'volt': False, 'or': False, 'divers': False, 'linh': False, 'pagin': False, 'com': False, 'natur': False, 'quantit': False, 'débit': False, 'verifiq': False, 'legisl': False, 'to': False, 'rel': False, 'prossegu': False, 'dand': False, 'balanç': False, 'continu': False, 'supr': False, 'respec': False, 'exe': False, 'idinformaca': False, 'idcomposicaopautanumer': False, 'fern': False, 'recorr': False, 'afim': False, 'mim': False, 'compr': False, 'virtud': False, 'igual': False, 'pet': False, 'bi': False, 'selec': False, 'lo': False, 'amar': False, 'apo': False, 'secex': False, 'aqu': False, 'recent': False, 'iegm': False, 'exig': False, 'tempor': False, 'orç': False, 'radi': False, 'ant': False, 'on': False, 'obje': False, 'trê': False, 'adem': False, 'chef': False, 'cell': False, 'vide': False, 'comiss': False, 'danific': False, 'maxxipow': False, 'andré': False, 'respeit': False, 'numeroª': False, 'sirv': False, 'assunt': False, 'separ': False, 'terceir': False, 'sr': False, 'além': False, 'semelh': False, 'iann': False, 'comparec': False, 'traz': False, 'licitatóri': False, 'horár': False, 'ig': False, 'agil': False, 'quadrimestr': False, 'apont': False, 'agor': False, 'visit': False, 'impossibilit': False, 'up': False, 'numerov': False, 'la': False, 'calcul': False, 'reconhec': False, 'of': False, 'informaco': False, 'descrit': False, 'sheyl': False, 'yusk': False, 'bol': False, 'report': False, 'bast': False, 'fech': False, 'rre': False, 'fiz': False, 'daquel': False, 'julg': False, 'vai': False, 'inferi': False, 'parcel': False, 'terc': False, 'emb': False, 'somatóri': False, 'defini': False, 'xml': False, 'ip': False, 'compet': False, 'chrom': False, 'mant': False, 'capacit': False, 'admiss': False, 'ambos': False, 'alin': False, 'liquid': False, 'automá': False, 'atu': False, 'convers': False, 'dificuldad': False, 'iníci': False, 'aut': False, 'execut': False, 'renat': False, 'menos': False, 'sugir': False, 'retific': False, 'recurs': False, 'capt': False, 'marcel': False, 'govrn': False, 'app': False, 'procurad': False, 'remanej': False, 'fgo': False, 'rutêni': False, 'transfer': False, 'assessor': False, 'queiroz': False, 'jos': False, 'acerc': False, 'etc': False, 'hotfix': False, 'fil': False, 'concentr': False, 'conhec': False, 'antôni': False, 'obt': False, 'ttrabalh': False, 'cidad': False, 'implant': False, 'vinic': False, 'revis': False, 'síti': False, 'copi': False, 'subseç': False, 'regin': False, 'ness': False, 'autoriz': False, 'jadson': False, 'desapens': False, 'requisit': False, 'fich': False, 'efet': False, 'compar': False, 'fundament': False, 'nf': False, 'previst': False, 'brit': False, 'últ': False, 'per': False, 'estad': False, 'seridó': False, 'vermelh': False, 'urg': False, 'assess': False, 'remet': False, 'pen': False, 'doc': False, 'fot': False, 'acontec': False, 'baix': False, 'admit': False, 'adequ': False, 'arearestrit': False, 'previd': False, 'mor': False, 'an': False, 'selecion': False, 'possibilit': False, 'layout': False, 'cogep': False, 'busc': False, 'localiz': False, 'princip': False, 'percent': False, 'zer': False, 'mencion': False},\n",
       "       0], dtype=object)"
      ]
     },
     "execution_count": 24,
     "metadata": {},
     "output_type": "execute_result"
    }
   ],
   "source": [
    "dataset = np.array(featuresets)\n",
    "dataset[0]"
   ]
  },
  {
   "cell_type": "markdown",
   "metadata": {},
   "source": [
    "### Criação dos datasets (texto filtrado)"
   ]
  },
  {
   "cell_type": "code",
   "execution_count": 25,
   "metadata": {
    "colab": {
     "base_uri": "https://localhost:8080/",
     "height": 1000
    },
    "colab_type": "code",
    "id": "Cdcgtd4t3dMU",
    "outputId": "7fa57806-97ad-4e66-de76-a93a23bf6cea"
   },
   "outputs": [
    {
     "data": {
      "text/html": [
       "<div>\n",
       "<style scoped>\n",
       "    .dataframe tbody tr th:only-of-type {\n",
       "        vertical-align: middle;\n",
       "    }\n",
       "\n",
       "    .dataframe tbody tr th {\n",
       "        vertical-align: top;\n",
       "    }\n",
       "\n",
       "    .dataframe thead th {\n",
       "        text-align: right;\n",
       "    }\n",
       "</style>\n",
       "<table border=\"1\" class=\"dataframe\">\n",
       "  <thead>\n",
       "    <tr style=\"text-align: right;\">\n",
       "      <th></th>\n",
       "      <th>Classificação</th>\n",
       "      <th>Descricao Atualizada</th>\n",
       "    </tr>\n",
       "  </thead>\n",
       "  <tbody>\n",
       "    <tr>\n",
       "      <th>55</th>\n",
       "      <td>0</td>\n",
       "      <td>coloq imprim frent vers quer econom papel agor...</td>\n",
       "    </tr>\n",
       "    <tr>\n",
       "      <th>56</th>\n",
       "      <td>0</td>\n",
       "      <td>usu inform comput lig</td>\n",
       "    </tr>\n",
       "    <tr>\n",
       "      <th>57</th>\n",
       "      <td>0</td>\n",
       "      <td>usuár entr contat aleg impres local recepç dam...</td>\n",
       "    </tr>\n",
       "    <tr>\n",
       "      <th>58</th>\n",
       "      <td>0</td>\n",
       "      <td>usu inform excel funcion</td>\n",
       "    </tr>\n",
       "    <tr>\n",
       "      <th>59</th>\n",
       "      <td>0</td>\n",
       "      <td>usu entr contat aleg comput lig entretant brea...</td>\n",
       "    </tr>\n",
       "  </tbody>\n",
       "</table>\n",
       "</div>"
      ],
      "text/plain": [
       "   Classificação                               Descricao Atualizada\n",
       "55             0  coloq imprim frent vers quer econom papel agor...\n",
       "56             0                              usu inform comput lig\n",
       "57             0  usuár entr contat aleg impres local recepç dam...\n",
       "58             0                           usu inform excel funcion\n",
       "59             0  usu entr contat aleg comput lig entretant brea..."
      ]
     },
     "execution_count": 25,
     "metadata": {},
     "output_type": "execute_result"
    }
   ],
   "source": [
    "df_features = df[['Classificação', 'Descricao Atualizada']].copy()\n",
    "df_features.head()"
   ]
  },
  {
   "cell_type": "markdown",
   "metadata": {},
   "source": [
    "- Dataset de validação"
   ]
  },
  {
   "cell_type": "code",
   "execution_count": 26,
   "metadata": {},
   "outputs": [
    {
     "name": "stdout",
     "output_type": "stream",
     "text": [
      "<class 'pandas.core.frame.DataFrame'>\n",
      "Int64Index: 407 entries, 2788 to 3194\n",
      "Data columns (total 1 columns):\n",
      "Descricao Atualizada    407 non-null object\n",
      "dtypes: object(1)\n",
      "memory usage: 6.4+ KB\n"
     ]
    },
    {
     "data": {
      "text/plain": [
       "None"
      ]
     },
     "metadata": {},
     "output_type": "display_data"
    },
    {
     "data": {
      "text/html": [
       "<div>\n",
       "<style scoped>\n",
       "    .dataframe tbody tr th:only-of-type {\n",
       "        vertical-align: middle;\n",
       "    }\n",
       "\n",
       "    .dataframe tbody tr th {\n",
       "        vertical-align: top;\n",
       "    }\n",
       "\n",
       "    .dataframe thead th {\n",
       "        text-align: right;\n",
       "    }\n",
       "</style>\n",
       "<table border=\"1\" class=\"dataframe\">\n",
       "  <thead>\n",
       "    <tr style=\"text-align: right;\">\n",
       "      <th></th>\n",
       "      <th>Descricao Atualizada</th>\n",
       "    </tr>\n",
       "  </thead>\n",
       "  <tbody>\n",
       "    <tr>\n",
       "      <th>2788</th>\n",
       "      <td>dev cumpr estil solicit acess past secret gera...</td>\n",
       "    </tr>\n",
       "    <tr>\n",
       "      <th>2789</th>\n",
       "      <td>senh dire cient determin impost cort cont espe...</td>\n",
       "    </tr>\n",
       "    <tr>\n",
       "      <th>2790</th>\n",
       "      <td>senh dire cient determin impost cort cont espe...</td>\n",
       "    </tr>\n",
       "    <tr>\n",
       "      <th>2791</th>\n",
       "      <td>cadastr diári ofic tce dat public numer numer ...</td>\n",
       "    </tr>\n",
       "    <tr>\n",
       "      <th>2792</th>\n",
       "      <td>solicit verific possibil cri cham técn recorr ...</td>\n",
       "    </tr>\n",
       "  </tbody>\n",
       "</table>\n",
       "</div>"
      ],
      "text/plain": [
       "                                   Descricao Atualizada\n",
       "2788  dev cumpr estil solicit acess past secret gera...\n",
       "2789  senh dire cient determin impost cort cont espe...\n",
       "2790  senh dire cient determin impost cort cont espe...\n",
       "2791  cadastr diári ofic tce dat public numer numer ...\n",
       "2792  solicit verific possibil cri cham técn recorr ..."
      ]
     },
     "execution_count": 26,
     "metadata": {},
     "output_type": "execute_result"
    }
   ],
   "source": [
    "df_validacao = df_features[df_features['Classificação'].isnull()].drop(columns='Classificação').copy()\n",
    "display(df_validacao.info())\n",
    "df_validacao.head()"
   ]
  },
  {
   "cell_type": "markdown",
   "metadata": {},
   "source": [
    "- Dataset de treino e teste"
   ]
  },
  {
   "cell_type": "code",
   "execution_count": 27,
   "metadata": {},
   "outputs": [
    {
     "name": "stdout",
     "output_type": "stream",
     "text": [
      "<class 'pandas.core.frame.DataFrame'>\n",
      "Int64Index: 2610 entries, 55 to 2787\n",
      "Data columns (total 2 columns):\n",
      "Classificação           2610 non-null int64\n",
      "Descricao Atualizada    2610 non-null object\n",
      "dtypes: int64(1), object(1)\n",
      "memory usage: 61.2+ KB\n"
     ]
    }
   ],
   "source": [
    "df_features.dropna(inplace=True)\n",
    "df_features['Classificação'] = df_features['Classificação'].astype('int64')\n",
    "df_features.info()"
   ]
  },
  {
   "cell_type": "markdown",
   "metadata": {},
   "source": [
    "- Separando os datasets de treino e teste"
   ]
  },
  {
   "cell_type": "code",
   "execution_count": 28,
   "metadata": {
    "colab": {
     "base_uri": "https://localhost:8080/",
     "height": 50
    },
    "colab_type": "code",
    "id": "ZQ_pHZGJ3weF",
    "outputId": "8e148755-c5b1-4cb4-d421-0c8a48bf82e0"
   },
   "outputs": [
    {
     "name": "stdout",
     "output_type": "stream",
     "text": [
      "Treino: 1957\n",
      "Teste: 653\n"
     ]
    }
   ],
   "source": [
    "treino, teste = train_test_split(df_features, test_size = 0.25, random_state=42, stratify=df_features['Classificação'])\n",
    "\n",
    "print(\"Treino:\", len(treino))\n",
    "print(\"Teste:\", len(teste))"
   ]
  },
  {
   "cell_type": "markdown",
   "metadata": {},
   "source": [
    "- Info do treino"
   ]
  },
  {
   "cell_type": "code",
   "execution_count": 29,
   "metadata": {},
   "outputs": [
    {
     "name": "stdout",
     "output_type": "stream",
     "text": [
      "<class 'pandas.core.frame.DataFrame'>\n",
      "Int64Index: 1957 entries, 966 to 1052\n",
      "Data columns (total 2 columns):\n",
      "Classificação           1957 non-null int64\n",
      "Descricao Atualizada    1957 non-null object\n",
      "dtypes: int64(1), object(1)\n",
      "memory usage: 45.9+ KB\n"
     ]
    },
    {
     "data": {
      "text/plain": [
       "None"
      ]
     },
     "metadata": {},
     "output_type": "display_data"
    },
    {
     "data": {
      "text/html": [
       "<div>\n",
       "<style scoped>\n",
       "    .dataframe tbody tr th:only-of-type {\n",
       "        vertical-align: middle;\n",
       "    }\n",
       "\n",
       "    .dataframe tbody tr th {\n",
       "        vertical-align: top;\n",
       "    }\n",
       "\n",
       "    .dataframe thead th {\n",
       "        text-align: right;\n",
       "    }\n",
       "</style>\n",
       "<table border=\"1\" class=\"dataframe\">\n",
       "  <thead>\n",
       "    <tr style=\"text-align: right;\">\n",
       "      <th></th>\n",
       "      <th>Classificação</th>\n",
       "      <th>Descricao Atualizada</th>\n",
       "    </tr>\n",
       "  </thead>\n",
       "  <tbody>\n",
       "    <tr>\n",
       "      <th>966</th>\n",
       "      <td>0</td>\n",
       "      <td>fix organiz cab tomb numer</td>\n",
       "    </tr>\n",
       "    <tr>\n",
       "      <th>2036</th>\n",
       "      <td>1</td>\n",
       "      <td>usu solicit auxili preench sispatr</td>\n",
       "    </tr>\n",
       "    <tr>\n",
       "      <th>2660</th>\n",
       "      <td>1</td>\n",
       "      <td>configur ergon</td>\n",
       "    </tr>\n",
       "    <tr>\n",
       "      <th>2299</th>\n",
       "      <td>1</td>\n",
       "      <td>local decis acórd process public ont visualiz ...</td>\n",
       "    </tr>\n",
       "    <tr>\n",
       "      <th>292</th>\n",
       "      <td>1</td>\n",
       "      <td>al ter tip process process envi via port ges m...</td>\n",
       "    </tr>\n",
       "  </tbody>\n",
       "</table>\n",
       "</div>"
      ],
      "text/plain": [
       "      Classificação                               Descricao Atualizada\n",
       "966               0                         fix organiz cab tomb numer\n",
       "2036              1                 usu solicit auxili preench sispatr\n",
       "2660              1                                     configur ergon\n",
       "2299              1  local decis acórd process public ont visualiz ...\n",
       "292               1  al ter tip process process envi via port ges m..."
      ]
     },
     "execution_count": 29,
     "metadata": {},
     "output_type": "execute_result"
    }
   ],
   "source": [
    "display(treino.info())\n",
    "treino.head()"
   ]
  },
  {
   "cell_type": "code",
   "execution_count": 30,
   "metadata": {},
   "outputs": [
    {
     "data": {
      "image/png": "[encoded data removed]",
      "text/plain": [
       "<Figure size 432x288 with 1 Axes>"
      ]
     },
     "metadata": {
      "needs_background": "light"
     },
     "output_type": "display_data"
    }
   ],
   "source": [
    "treino.Classificação.value_counts().plot.bar()\n",
    "plt.show()"
   ]
  },
  {
   "cell_type": "markdown",
   "metadata": {},
   "source": [
    "- Info do teste"
   ]
  },
  {
   "cell_type": "markdown",
   "metadata": {},
   "source": [
    "### Criando os datasets em CSV\n",
    "\n",
    "- Arquivo de validação"
   ]
  },
  {
   "cell_type": "code",
   "execution_count": 31,
   "metadata": {},
   "outputs": [
    {
     "ename": "FileNotFoundError",
     "evalue": "[Errno 2] No such file or directory: 'datasets/Chamados_Validação.xlsx'",
     "output_type": "error",
     "traceback": [
      "\u001b[1;31m---------------------------------------------------------------------------\u001b[0m",
      "\u001b[1;31mFileNotFoundError\u001b[0m                         Traceback (most recent call last)",
      "\u001b[1;32m<ipython-input-31-7458ada07767>\u001b[0m in \u001b[0;36m<module>\u001b[1;34m\u001b[0m\n\u001b[1;32m----> 1\u001b[1;33m \u001b[0mdf_validacao\u001b[0m\u001b[1;33m.\u001b[0m\u001b[0mto_excel\u001b[0m\u001b[1;33m(\u001b[0m\u001b[1;34m'datasets/Chamados_Validação.xlsx'\u001b[0m\u001b[1;33m,\u001b[0m \u001b[0mindex\u001b[0m\u001b[1;33m=\u001b[0m\u001b[1;32mFalse\u001b[0m\u001b[1;33m)\u001b[0m\u001b[1;33m\u001b[0m\u001b[1;33m\u001b[0m\u001b[0m\n\u001b[0m\u001b[0;32m      2\u001b[0m \u001b[1;31m#df_validacao.to_csv('datasets/Chamados_Validação.csv', index=False)\u001b[0m\u001b[1;33m\u001b[0m\u001b[1;33m\u001b[0m\u001b[1;33m\u001b[0m\u001b[0m\n",
      "\u001b[1;32m~\\AppData\\Local\\Continuum\\anaconda3\\lib\\site-packages\\pandas\\core\\generic.py\u001b[0m in \u001b[0;36mto_excel\u001b[1;34m(self, excel_writer, sheet_name, na_rep, float_format, columns, header, index, index_label, startrow, startcol, engine, merge_cells, encoding, inf_rep, verbose, freeze_panes)\u001b[0m\n\u001b[0;32m   2125\u001b[0m         formatter.write(excel_writer, sheet_name=sheet_name, startrow=startrow,\n\u001b[0;32m   2126\u001b[0m                         \u001b[0mstartcol\u001b[0m\u001b[1;33m=\u001b[0m\u001b[0mstartcol\u001b[0m\u001b[1;33m,\u001b[0m \u001b[0mfreeze_panes\u001b[0m\u001b[1;33m=\u001b[0m\u001b[0mfreeze_panes\u001b[0m\u001b[1;33m,\u001b[0m\u001b[1;33m\u001b[0m\u001b[1;33m\u001b[0m\u001b[0m\n\u001b[1;32m-> 2127\u001b[1;33m                         engine=engine)\n\u001b[0m\u001b[0;32m   2128\u001b[0m \u001b[1;33m\u001b[0m\u001b[0m\n\u001b[0;32m   2129\u001b[0m     def to_json(self, path_or_buf=None, orient=None, date_format=None,\n",
      "\u001b[1;32m~\\AppData\\Local\\Continuum\\anaconda3\\lib\\site-packages\\pandas\\io\\formats\\excel.py\u001b[0m in \u001b[0;36mwrite\u001b[1;34m(self, writer, sheet_name, startrow, startcol, freeze_panes, engine)\u001b[0m\n\u001b[0;32m    662\u001b[0m                            freeze_panes=freeze_panes)\n\u001b[0;32m    663\u001b[0m         \u001b[1;32mif\u001b[0m \u001b[0mneed_save\u001b[0m\u001b[1;33m:\u001b[0m\u001b[1;33m\u001b[0m\u001b[1;33m\u001b[0m\u001b[0m\n\u001b[1;32m--> 664\u001b[1;33m             \u001b[0mwriter\u001b[0m\u001b[1;33m.\u001b[0m\u001b[0msave\u001b[0m\u001b[1;33m(\u001b[0m\u001b[1;33m)\u001b[0m\u001b[1;33m\u001b[0m\u001b[1;33m\u001b[0m\u001b[0m\n\u001b[0m",
      "\u001b[1;32m~\\AppData\\Local\\Continuum\\anaconda3\\lib\\site-packages\\pandas\\io\\excel.py\u001b[0m in \u001b[0;36msave\u001b[1;34m(self)\u001b[0m\n\u001b[0;32m   1950\u001b[0m         \"\"\"\n\u001b[0;32m   1951\u001b[0m \u001b[1;33m\u001b[0m\u001b[0m\n\u001b[1;32m-> 1952\u001b[1;33m         \u001b[1;32mreturn\u001b[0m \u001b[0mself\u001b[0m\u001b[1;33m.\u001b[0m\u001b[0mbook\u001b[0m\u001b[1;33m.\u001b[0m\u001b[0mclose\u001b[0m\u001b[1;33m(\u001b[0m\u001b[1;33m)\u001b[0m\u001b[1;33m\u001b[0m\u001b[1;33m\u001b[0m\u001b[0m\n\u001b[0m\u001b[0;32m   1953\u001b[0m \u001b[1;33m\u001b[0m\u001b[0m\n\u001b[0;32m   1954\u001b[0m     def write_cells(self, cells, sheet_name=None, startrow=0, startcol=0,\n",
      "\u001b[1;32m~\\AppData\\Local\\Continuum\\anaconda3\\lib\\site-packages\\xlsxwriter\\workbook.py\u001b[0m in \u001b[0;36mclose\u001b[1;34m(self)\u001b[0m\n\u001b[0;32m    304\u001b[0m         \u001b[1;32mif\u001b[0m \u001b[1;32mnot\u001b[0m \u001b[0mself\u001b[0m\u001b[1;33m.\u001b[0m\u001b[0mfileclosed\u001b[0m\u001b[1;33m:\u001b[0m\u001b[1;33m\u001b[0m\u001b[1;33m\u001b[0m\u001b[0m\n\u001b[0;32m    305\u001b[0m             \u001b[0mself\u001b[0m\u001b[1;33m.\u001b[0m\u001b[0mfileclosed\u001b[0m \u001b[1;33m=\u001b[0m \u001b[1;36m1\u001b[0m\u001b[1;33m\u001b[0m\u001b[1;33m\u001b[0m\u001b[0m\n\u001b[1;32m--> 306\u001b[1;33m             \u001b[0mself\u001b[0m\u001b[1;33m.\u001b[0m\u001b[0m_store_workbook\u001b[0m\u001b[1;33m(\u001b[0m\u001b[1;33m)\u001b[0m\u001b[1;33m\u001b[0m\u001b[1;33m\u001b[0m\u001b[0m\n\u001b[0m\u001b[0;32m    307\u001b[0m \u001b[1;33m\u001b[0m\u001b[0m\n\u001b[0;32m    308\u001b[0m     \u001b[1;32mdef\u001b[0m \u001b[0mset_size\u001b[0m\u001b[1;33m(\u001b[0m\u001b[0mself\u001b[0m\u001b[1;33m,\u001b[0m \u001b[0mwidth\u001b[0m\u001b[1;33m,\u001b[0m \u001b[0mheight\u001b[0m\u001b[1;33m)\u001b[0m\u001b[1;33m:\u001b[0m\u001b[1;33m\u001b[0m\u001b[1;33m\u001b[0m\u001b[0m\n",
      "\u001b[1;32m~\\AppData\\Local\\Continuum\\anaconda3\\lib\\site-packages\\xlsxwriter\\workbook.py\u001b[0m in \u001b[0;36m_store_workbook\u001b[1;34m(self)\u001b[0m\n\u001b[0;32m    653\u001b[0m \u001b[1;33m\u001b[0m\u001b[0m\n\u001b[0;32m    654\u001b[0m         xlsx_file = ZipFile(self.filename, \"w\", compression=ZIP_DEFLATED,\n\u001b[1;32m--> 655\u001b[1;33m                             allowZip64=self.allow_zip64)\n\u001b[0m\u001b[0;32m    656\u001b[0m \u001b[1;33m\u001b[0m\u001b[0m\n\u001b[0;32m    657\u001b[0m         \u001b[1;31m# Add XML sub-files to the Zip file with their Excel filename.\u001b[0m\u001b[1;33m\u001b[0m\u001b[1;33m\u001b[0m\u001b[1;33m\u001b[0m\u001b[0m\n",
      "\u001b[1;32m~\\AppData\\Local\\Continuum\\anaconda3\\lib\\zipfile.py\u001b[0m in \u001b[0;36m__init__\u001b[1;34m(self, file, mode, compression, allowZip64, compresslevel)\u001b[0m\n\u001b[0;32m   1202\u001b[0m             \u001b[1;32mwhile\u001b[0m \u001b[1;32mTrue\u001b[0m\u001b[1;33m:\u001b[0m\u001b[1;33m\u001b[0m\u001b[1;33m\u001b[0m\u001b[0m\n\u001b[0;32m   1203\u001b[0m                 \u001b[1;32mtry\u001b[0m\u001b[1;33m:\u001b[0m\u001b[1;33m\u001b[0m\u001b[1;33m\u001b[0m\u001b[0m\n\u001b[1;32m-> 1204\u001b[1;33m                     \u001b[0mself\u001b[0m\u001b[1;33m.\u001b[0m\u001b[0mfp\u001b[0m \u001b[1;33m=\u001b[0m \u001b[0mio\u001b[0m\u001b[1;33m.\u001b[0m\u001b[0mopen\u001b[0m\u001b[1;33m(\u001b[0m\u001b[0mfile\u001b[0m\u001b[1;33m,\u001b[0m \u001b[0mfilemode\u001b[0m\u001b[1;33m)\u001b[0m\u001b[1;33m\u001b[0m\u001b[1;33m\u001b[0m\u001b[0m\n\u001b[0m\u001b[0;32m   1205\u001b[0m                 \u001b[1;32mexcept\u001b[0m \u001b[0mOSError\u001b[0m\u001b[1;33m:\u001b[0m\u001b[1;33m\u001b[0m\u001b[1;33m\u001b[0m\u001b[0m\n\u001b[0;32m   1206\u001b[0m                     \u001b[1;32mif\u001b[0m \u001b[0mfilemode\u001b[0m \u001b[1;32min\u001b[0m \u001b[0mmodeDict\u001b[0m\u001b[1;33m:\u001b[0m\u001b[1;33m\u001b[0m\u001b[1;33m\u001b[0m\u001b[0m\n",
      "\u001b[1;31mFileNotFoundError\u001b[0m: [Errno 2] No such file or directory: 'datasets/Chamados_Validação.xlsx'"
     ]
    }
   ],
   "source": [
    "df_validacao.to_excel('../datasets/Chamados_Validação.xlsx', index=False)\n",
    "#df_validacao.to_csv('datasets/Chamados_Validação.csv', index=False)"
   ]
  },
  {
   "cell_type": "markdown",
   "metadata": {},
   "source": [
    "- Arquivo de treino"
   ]
  },
  {
   "cell_type": "code",
   "execution_count": null,
   "metadata": {},
   "outputs": [],
   "source": [
    "treino.to_excel('../datasets/Chamados_Treino.xlsx', index=False)\n",
    "#treino.to_csv('datasets/Chamados_Treino.csv', index=False)"
   ]
  },
  {
   "cell_type": "markdown",
   "metadata": {},
   "source": [
    "- Arquivo de teste"
   ]
  },
  {
   "cell_type": "code",
   "execution_count": null,
   "metadata": {},
   "outputs": [],
   "source": [
    "teste.to_excel('../datasets/Chamados_Teste.xlsx', index=False)\n",
    "#teste.to_csv('datasets/Chamados_Teste.csv', index=False)"
   ]
  },
  {
   "cell_type": "markdown",
   "metadata": {},
   "source": [
    "### Criação dos datasets (BoW)"
   ]
  },
  {
   "cell_type": "code",
   "execution_count": 46,
   "metadata": {},
   "outputs": [
    {
     "name": "stdout",
     "output_type": "stream",
     "text": [
      "<class 'pandas.core.frame.DataFrame'>\n",
      "RangeIndex: 3017 entries, 0 to 3016\n",
      "Columns: 1000 entries, aba to últ\n",
      "dtypes: float64(1000)\n",
      "memory usage: 23.0 MB\n"
     ]
    },
    {
     "data": {
      "text/plain": [
       "None"
      ]
     },
     "metadata": {},
     "output_type": "display_data"
    },
    {
     "data": {
      "text/html": [
       "<div>\n",
       "<style scoped>\n",
       "    .dataframe tbody tr th:only-of-type {\n",
       "        vertical-align: middle;\n",
       "    }\n",
       "\n",
       "    .dataframe tbody tr th {\n",
       "        vertical-align: top;\n",
       "    }\n",
       "\n",
       "    .dataframe thead th {\n",
       "        text-align: right;\n",
       "    }\n",
       "</style>\n",
       "<table border=\"1\" class=\"dataframe\">\n",
       "  <thead>\n",
       "    <tr style=\"text-align: right;\">\n",
       "      <th></th>\n",
       "      <th>aba</th>\n",
       "      <th>abaix</th>\n",
       "      <th>abert</th>\n",
       "      <th>abr</th>\n",
       "      <th>acerc</th>\n",
       "      <th>acess</th>\n",
       "      <th>acim</th>\n",
       "      <th>acompanh</th>\n",
       "      <th>acontec</th>\n",
       "      <th>acord</th>\n",
       "      <th>...</th>\n",
       "      <th>www</th>\n",
       "      <th>wwwreleas</th>\n",
       "      <th>xavi</th>\n",
       "      <th>xml</th>\n",
       "      <th>yusk</th>\n",
       "      <th>zer</th>\n",
       "      <th>áre</th>\n",
       "      <th>ícon</th>\n",
       "      <th>órg</th>\n",
       "      <th>últ</th>\n",
       "    </tr>\n",
       "  </thead>\n",
       "  <tbody>\n",
       "    <tr>\n",
       "      <th>0</th>\n",
       "      <td>0.0</td>\n",
       "      <td>0.0</td>\n",
       "      <td>0.0</td>\n",
       "      <td>0.0</td>\n",
       "      <td>0.0</td>\n",
       "      <td>0.0</td>\n",
       "      <td>0.0</td>\n",
       "      <td>0.0</td>\n",
       "      <td>0.0</td>\n",
       "      <td>0.0</td>\n",
       "      <td>...</td>\n",
       "      <td>0.0</td>\n",
       "      <td>0.0</td>\n",
       "      <td>0.0</td>\n",
       "      <td>0.0</td>\n",
       "      <td>0.0</td>\n",
       "      <td>0.0</td>\n",
       "      <td>0.0</td>\n",
       "      <td>0.0</td>\n",
       "      <td>0.0</td>\n",
       "      <td>0.0</td>\n",
       "    </tr>\n",
       "    <tr>\n",
       "      <th>1</th>\n",
       "      <td>0.0</td>\n",
       "      <td>0.0</td>\n",
       "      <td>0.0</td>\n",
       "      <td>0.0</td>\n",
       "      <td>0.0</td>\n",
       "      <td>0.0</td>\n",
       "      <td>0.0</td>\n",
       "      <td>0.0</td>\n",
       "      <td>0.0</td>\n",
       "      <td>0.0</td>\n",
       "      <td>...</td>\n",
       "      <td>0.0</td>\n",
       "      <td>0.0</td>\n",
       "      <td>0.0</td>\n",
       "      <td>0.0</td>\n",
       "      <td>0.0</td>\n",
       "      <td>0.0</td>\n",
       "      <td>0.0</td>\n",
       "      <td>0.0</td>\n",
       "      <td>0.0</td>\n",
       "      <td>0.0</td>\n",
       "    </tr>\n",
       "    <tr>\n",
       "      <th>2</th>\n",
       "      <td>0.0</td>\n",
       "      <td>0.0</td>\n",
       "      <td>0.0</td>\n",
       "      <td>0.0</td>\n",
       "      <td>0.0</td>\n",
       "      <td>0.0</td>\n",
       "      <td>0.0</td>\n",
       "      <td>0.0</td>\n",
       "      <td>0.0</td>\n",
       "      <td>0.0</td>\n",
       "      <td>...</td>\n",
       "      <td>0.0</td>\n",
       "      <td>0.0</td>\n",
       "      <td>0.0</td>\n",
       "      <td>0.0</td>\n",
       "      <td>0.0</td>\n",
       "      <td>0.0</td>\n",
       "      <td>0.0</td>\n",
       "      <td>0.0</td>\n",
       "      <td>0.0</td>\n",
       "      <td>0.0</td>\n",
       "    </tr>\n",
       "    <tr>\n",
       "      <th>3</th>\n",
       "      <td>0.0</td>\n",
       "      <td>0.0</td>\n",
       "      <td>0.0</td>\n",
       "      <td>0.0</td>\n",
       "      <td>0.0</td>\n",
       "      <td>0.0</td>\n",
       "      <td>0.0</td>\n",
       "      <td>0.0</td>\n",
       "      <td>0.0</td>\n",
       "      <td>0.0</td>\n",
       "      <td>...</td>\n",
       "      <td>0.0</td>\n",
       "      <td>0.0</td>\n",
       "      <td>0.0</td>\n",
       "      <td>0.0</td>\n",
       "      <td>0.0</td>\n",
       "      <td>0.0</td>\n",
       "      <td>0.0</td>\n",
       "      <td>0.0</td>\n",
       "      <td>0.0</td>\n",
       "      <td>0.0</td>\n",
       "    </tr>\n",
       "    <tr>\n",
       "      <th>4</th>\n",
       "      <td>0.0</td>\n",
       "      <td>0.0</td>\n",
       "      <td>0.0</td>\n",
       "      <td>0.0</td>\n",
       "      <td>0.0</td>\n",
       "      <td>0.0</td>\n",
       "      <td>0.0</td>\n",
       "      <td>0.0</td>\n",
       "      <td>0.0</td>\n",
       "      <td>0.0</td>\n",
       "      <td>...</td>\n",
       "      <td>0.0</td>\n",
       "      <td>0.0</td>\n",
       "      <td>0.0</td>\n",
       "      <td>0.0</td>\n",
       "      <td>0.0</td>\n",
       "      <td>0.0</td>\n",
       "      <td>0.0</td>\n",
       "      <td>0.0</td>\n",
       "      <td>0.0</td>\n",
       "      <td>0.0</td>\n",
       "    </tr>\n",
       "  </tbody>\n",
       "</table>\n",
       "<p>5 rows × 1000 columns</p>\n",
       "</div>"
      ],
      "text/plain": [
       "   aba  abaix  abert  abr  acerc  acess  acim  acompanh  acontec  acord  ...  \\\n",
       "0  0.0    0.0    0.0  0.0    0.0    0.0   0.0       0.0      0.0    0.0  ...   \n",
       "1  0.0    0.0    0.0  0.0    0.0    0.0   0.0       0.0      0.0    0.0  ...   \n",
       "2  0.0    0.0    0.0  0.0    0.0    0.0   0.0       0.0      0.0    0.0  ...   \n",
       "3  0.0    0.0    0.0  0.0    0.0    0.0   0.0       0.0      0.0    0.0  ...   \n",
       "4  0.0    0.0    0.0  0.0    0.0    0.0   0.0       0.0      0.0    0.0  ...   \n",
       "\n",
       "   www  wwwreleas  xavi  xml  yusk  zer  áre  ícon  órg  últ  \n",
       "0  0.0        0.0   0.0  0.0   0.0  0.0  0.0   0.0  0.0  0.0  \n",
       "1  0.0        0.0   0.0  0.0   0.0  0.0  0.0   0.0  0.0  0.0  \n",
       "2  0.0        0.0   0.0  0.0   0.0  0.0  0.0   0.0  0.0  0.0  \n",
       "3  0.0        0.0   0.0  0.0   0.0  0.0  0.0   0.0  0.0  0.0  \n",
       "4  0.0        0.0   0.0  0.0   0.0  0.0  0.0   0.0  0.0  0.0  \n",
       "\n",
       "[5 rows x 1000 columns]"
      ]
     },
     "execution_count": 46,
     "metadata": {},
     "output_type": "execute_result"
    }
   ],
   "source": [
    "df_bow = pd.DataFrame()\n",
    "\n",
    "for d in dataset[:,0]:\n",
    "    df_bow = df_bow.append(dict(d), ignore_index=True)\n",
    "\n",
    "display(df_bow.info())\n",
    "df_bow.head()"
   ]
  },
  {
   "cell_type": "code",
   "execution_count": 48,
   "metadata": {},
   "outputs": [
    {
     "name": "stdout",
     "output_type": "stream",
     "text": [
      "<class 'pandas.core.frame.DataFrame'>\n",
      "RangeIndex: 3017 entries, 0 to 3016\n",
      "Data columns (total 1 columns):\n",
      "label    2610 non-null object\n",
      "dtypes: object(1)\n",
      "memory usage: 23.6+ KB\n"
     ]
    },
    {
     "data": {
      "text/plain": [
       "None"
      ]
     },
     "metadata": {},
     "output_type": "display_data"
    },
    {
     "data": {
      "text/html": [
       "<div>\n",
       "<style scoped>\n",
       "    .dataframe tbody tr th:only-of-type {\n",
       "        vertical-align: middle;\n",
       "    }\n",
       "\n",
       "    .dataframe tbody tr th {\n",
       "        vertical-align: top;\n",
       "    }\n",
       "\n",
       "    .dataframe thead th {\n",
       "        text-align: right;\n",
       "    }\n",
       "</style>\n",
       "<table border=\"1\" class=\"dataframe\">\n",
       "  <thead>\n",
       "    <tr style=\"text-align: right;\">\n",
       "      <th></th>\n",
       "      <th>label</th>\n",
       "    </tr>\n",
       "  </thead>\n",
       "  <tbody>\n",
       "    <tr>\n",
       "      <th>0</th>\n",
       "      <td>0</td>\n",
       "    </tr>\n",
       "    <tr>\n",
       "      <th>1</th>\n",
       "      <td>0</td>\n",
       "    </tr>\n",
       "    <tr>\n",
       "      <th>2</th>\n",
       "      <td>1</td>\n",
       "    </tr>\n",
       "    <tr>\n",
       "      <th>3</th>\n",
       "      <td>0</td>\n",
       "    </tr>\n",
       "    <tr>\n",
       "      <th>4</th>\n",
       "      <td>0</td>\n",
       "    </tr>\n",
       "  </tbody>\n",
       "</table>\n",
       "</div>"
      ],
      "text/plain": [
       "  label\n",
       "0     0\n",
       "1     0\n",
       "2     1\n",
       "3     0\n",
       "4     0"
      ]
     },
     "execution_count": 48,
     "metadata": {},
     "output_type": "execute_result"
    }
   ],
   "source": [
    "df_labels = pd.DataFrame(dataset[:,1], columns=['label'])\n",
    "display(df_labels.info())\n",
    "df_labels.head()"
   ]
  },
  {
   "cell_type": "code",
   "execution_count": 50,
   "metadata": {},
   "outputs": [
    {
     "name": "stdout",
     "output_type": "stream",
     "text": [
      "<class 'pandas.core.frame.DataFrame'>\n",
      "RangeIndex: 3017 entries, 0 to 3016\n",
      "Columns: 1001 entries, label to últ\n",
      "dtypes: float64(1000), object(1)\n",
      "memory usage: 23.0+ MB\n"
     ]
    },
    {
     "data": {
      "text/plain": [
       "None"
      ]
     },
     "metadata": {},
     "output_type": "display_data"
    },
    {
     "data": {
      "text/html": [
       "<div>\n",
       "<style scoped>\n",
       "    .dataframe tbody tr th:only-of-type {\n",
       "        vertical-align: middle;\n",
       "    }\n",
       "\n",
       "    .dataframe tbody tr th {\n",
       "        vertical-align: top;\n",
       "    }\n",
       "\n",
       "    .dataframe thead th {\n",
       "        text-align: right;\n",
       "    }\n",
       "</style>\n",
       "<table border=\"1\" class=\"dataframe\">\n",
       "  <thead>\n",
       "    <tr style=\"text-align: right;\">\n",
       "      <th></th>\n",
       "      <th>label</th>\n",
       "      <th>aba</th>\n",
       "      <th>abaix</th>\n",
       "      <th>abert</th>\n",
       "      <th>abr</th>\n",
       "      <th>acerc</th>\n",
       "      <th>acess</th>\n",
       "      <th>acim</th>\n",
       "      <th>acompanh</th>\n",
       "      <th>acontec</th>\n",
       "      <th>...</th>\n",
       "      <th>www</th>\n",
       "      <th>wwwreleas</th>\n",
       "      <th>xavi</th>\n",
       "      <th>xml</th>\n",
       "      <th>yusk</th>\n",
       "      <th>zer</th>\n",
       "      <th>áre</th>\n",
       "      <th>ícon</th>\n",
       "      <th>órg</th>\n",
       "      <th>últ</th>\n",
       "    </tr>\n",
       "  </thead>\n",
       "  <tbody>\n",
       "    <tr>\n",
       "      <th>0</th>\n",
       "      <td>0</td>\n",
       "      <td>0.0</td>\n",
       "      <td>0.0</td>\n",
       "      <td>0.0</td>\n",
       "      <td>0.0</td>\n",
       "      <td>0.0</td>\n",
       "      <td>0.0</td>\n",
       "      <td>0.0</td>\n",
       "      <td>0.0</td>\n",
       "      <td>0.0</td>\n",
       "      <td>...</td>\n",
       "      <td>0.0</td>\n",
       "      <td>0.0</td>\n",
       "      <td>0.0</td>\n",
       "      <td>0.0</td>\n",
       "      <td>0.0</td>\n",
       "      <td>0.0</td>\n",
       "      <td>0.0</td>\n",
       "      <td>0.0</td>\n",
       "      <td>0.0</td>\n",
       "      <td>0.0</td>\n",
       "    </tr>\n",
       "    <tr>\n",
       "      <th>1</th>\n",
       "      <td>0</td>\n",
       "      <td>0.0</td>\n",
       "      <td>0.0</td>\n",
       "      <td>0.0</td>\n",
       "      <td>0.0</td>\n",
       "      <td>0.0</td>\n",
       "      <td>0.0</td>\n",
       "      <td>0.0</td>\n",
       "      <td>0.0</td>\n",
       "      <td>0.0</td>\n",
       "      <td>...</td>\n",
       "      <td>0.0</td>\n",
       "      <td>0.0</td>\n",
       "      <td>0.0</td>\n",
       "      <td>0.0</td>\n",
       "      <td>0.0</td>\n",
       "      <td>0.0</td>\n",
       "      <td>0.0</td>\n",
       "      <td>0.0</td>\n",
       "      <td>0.0</td>\n",
       "      <td>0.0</td>\n",
       "    </tr>\n",
       "    <tr>\n",
       "      <th>2</th>\n",
       "      <td>1</td>\n",
       "      <td>0.0</td>\n",
       "      <td>0.0</td>\n",
       "      <td>0.0</td>\n",
       "      <td>0.0</td>\n",
       "      <td>0.0</td>\n",
       "      <td>0.0</td>\n",
       "      <td>0.0</td>\n",
       "      <td>0.0</td>\n",
       "      <td>0.0</td>\n",
       "      <td>...</td>\n",
       "      <td>0.0</td>\n",
       "      <td>0.0</td>\n",
       "      <td>0.0</td>\n",
       "      <td>0.0</td>\n",
       "      <td>0.0</td>\n",
       "      <td>0.0</td>\n",
       "      <td>0.0</td>\n",
       "      <td>0.0</td>\n",
       "      <td>0.0</td>\n",
       "      <td>0.0</td>\n",
       "    </tr>\n",
       "    <tr>\n",
       "      <th>3</th>\n",
       "      <td>0</td>\n",
       "      <td>0.0</td>\n",
       "      <td>0.0</td>\n",
       "      <td>0.0</td>\n",
       "      <td>0.0</td>\n",
       "      <td>0.0</td>\n",
       "      <td>0.0</td>\n",
       "      <td>0.0</td>\n",
       "      <td>0.0</td>\n",
       "      <td>0.0</td>\n",
       "      <td>...</td>\n",
       "      <td>0.0</td>\n",
       "      <td>0.0</td>\n",
       "      <td>0.0</td>\n",
       "      <td>0.0</td>\n",
       "      <td>0.0</td>\n",
       "      <td>0.0</td>\n",
       "      <td>0.0</td>\n",
       "      <td>0.0</td>\n",
       "      <td>0.0</td>\n",
       "      <td>0.0</td>\n",
       "    </tr>\n",
       "    <tr>\n",
       "      <th>4</th>\n",
       "      <td>0</td>\n",
       "      <td>0.0</td>\n",
       "      <td>0.0</td>\n",
       "      <td>0.0</td>\n",
       "      <td>0.0</td>\n",
       "      <td>0.0</td>\n",
       "      <td>0.0</td>\n",
       "      <td>0.0</td>\n",
       "      <td>0.0</td>\n",
       "      <td>0.0</td>\n",
       "      <td>...</td>\n",
       "      <td>0.0</td>\n",
       "      <td>0.0</td>\n",
       "      <td>0.0</td>\n",
       "      <td>0.0</td>\n",
       "      <td>0.0</td>\n",
       "      <td>0.0</td>\n",
       "      <td>0.0</td>\n",
       "      <td>0.0</td>\n",
       "      <td>0.0</td>\n",
       "      <td>0.0</td>\n",
       "    </tr>\n",
       "  </tbody>\n",
       "</table>\n",
       "<p>5 rows × 1001 columns</p>\n",
       "</div>"
      ],
      "text/plain": [
       "  label  aba  abaix  abert  abr  acerc  acess  acim  acompanh  acontec  ...  \\\n",
       "0     0  0.0    0.0    0.0  0.0    0.0    0.0   0.0       0.0      0.0  ...   \n",
       "1     0  0.0    0.0    0.0  0.0    0.0    0.0   0.0       0.0      0.0  ...   \n",
       "2     1  0.0    0.0    0.0  0.0    0.0    0.0   0.0       0.0      0.0  ...   \n",
       "3     0  0.0    0.0    0.0  0.0    0.0    0.0   0.0       0.0      0.0  ...   \n",
       "4     0  0.0    0.0    0.0  0.0    0.0    0.0   0.0       0.0      0.0  ...   \n",
       "\n",
       "   www  wwwreleas  xavi  xml  yusk  zer  áre  ícon  órg  últ  \n",
       "0  0.0        0.0   0.0  0.0   0.0  0.0  0.0   0.0  0.0  0.0  \n",
       "1  0.0        0.0   0.0  0.0   0.0  0.0  0.0   0.0  0.0  0.0  \n",
       "2  0.0        0.0   0.0  0.0   0.0  0.0  0.0   0.0  0.0  0.0  \n",
       "3  0.0        0.0   0.0  0.0   0.0  0.0  0.0   0.0  0.0  0.0  \n",
       "4  0.0        0.0   0.0  0.0   0.0  0.0  0.0   0.0  0.0  0.0  \n",
       "\n",
       "[5 rows x 1001 columns]"
      ]
     },
     "execution_count": 50,
     "metadata": {},
     "output_type": "execute_result"
    }
   ],
   "source": [
    "df_ready = pd.concat([df_labels,df_bow], axis=1)\n",
    "display(df_ready.info())\n",
    "df_ready.head()"
   ]
  }
 ],
 "metadata": {
  "colab": {
   "collapsed_sections": [],
   "name": "Trabalho PLN.ipynb",
   "provenance": []
  },
  "kernelspec": {
   "display_name": "Python 3",
   "language": "python",
   "name": "python3"
  },
  "language_info": {
   "codemirror_mode": {
    "name": "ipython",
    "version": 3
   },
   "file_extension": ".py",
   "mimetype": "text/x-python",
   "name": "python",
   "nbconvert_exporter": "python",
   "pygments_lexer": "ipython3",
   "version": "3.7.3"
  }
 },
 "nbformat": 4,
 "nbformat_minor": 1
}
