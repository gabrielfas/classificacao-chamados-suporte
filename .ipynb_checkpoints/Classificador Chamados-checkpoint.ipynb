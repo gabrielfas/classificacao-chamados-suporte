{
 "cells": [
  {
   "cell_type": "markdown",
   "metadata": {
    "colab_type": "text",
    "id": "m-qj2Lcp6uCV"
   },
   "source": [
    "Ref principal: https://github.com/eduonix/nlptextclassification/blob/master/NLP%20for%20Text%20Classification%20(Jupyter%20Notebook).ipynb"
   ]
  },
  {
   "cell_type": "markdown",
   "metadata": {
    "colab_type": "text",
    "id": "v2iRSLTdKoAi"
   },
   "source": [
    "# Pré-Processamento\n",
    "\n",
    "### Imports"
   ]
  },
  {
   "cell_type": "code",
   "execution_count": 60,
   "metadata": {
    "colab": {
     "base_uri": "https://localhost:8080/",
     "height": 34
    },
    "colab_type": "code",
    "id": "nmEFX57P3T1e",
    "outputId": "45e031f8-d149-4484-cabd-65d9d275cbaf"
   },
   "outputs": [],
   "source": [
    "import re\n",
    "import nltk\n",
    "import ftfy \n",
    "import numpy as np\n",
    "import pandas as pd\n",
    "import matplotlib.pyplot as plt\n",
    "from sklearn.preprocessing import LabelEncoder\n",
    "from sklearn.model_selection import train_test_split\n",
    "from nltk.tokenize import word_tokenize"
   ]
  },
  {
   "cell_type": "markdown",
   "metadata": {
    "colab_type": "text",
    "id": "X8Q-K9-jdfaa"
   },
   "source": [
    "### Carregar dataset"
   ]
  },
  {
   "cell_type": "code",
   "execution_count": 61,
   "metadata": {
    "colab": {
     "base_uri": "https://localhost:8080/",
     "height": 195
    },
    "colab_type": "code",
    "id": "rZhLbVh84MWx",
    "outputId": "3aaa71e6-a92c-4b08-9e79-1ea1c253283d"
   },
   "outputs": [
    {
     "data": {
      "text/html": [
       "<div>\n",
       "<style scoped>\n",
       "    .dataframe tbody tr th:only-of-type {\n",
       "        vertical-align: middle;\n",
       "    }\n",
       "\n",
       "    .dataframe tbody tr th {\n",
       "        vertical-align: top;\n",
       "    }\n",
       "\n",
       "    .dataframe thead th {\n",
       "        text-align: right;\n",
       "    }\n",
       "</style>\n",
       "<table border=\"1\" class=\"dataframe\">\n",
       "  <thead>\n",
       "    <tr style=\"text-align: right;\">\n",
       "      <th></th>\n",
       "      <th>Classificação</th>\n",
       "      <th>Assunto</th>\n",
       "      <th>Descricao</th>\n",
       "    </tr>\n",
       "  </thead>\n",
       "  <tbody>\n",
       "    <tr>\n",
       "      <td>0</td>\n",
       "      <td>Inc - Con</td>\n",
       "      <td>PROBLEMA DE CONECTIVIDADE</td>\n",
       "      <td>PROBLEMA DE CONECTIVIDADE</td>\n",
       "    </tr>\n",
       "    <tr>\n",
       "      <td>1</td>\n",
       "      <td>Inc - Con</td>\n",
       "      <td>PC SEM INTERNET</td>\n",
       "      <td>raquel do bag de dr renato informou que está c...</td>\n",
       "    </tr>\n",
       "    <tr>\n",
       "      <td>2</td>\n",
       "      <td>Inc - Con</td>\n",
       "      <td>PC SEM INTERNET</td>\n",
       "      <td>vanessa , gab dr carlos barros informou proble...</td>\n",
       "    </tr>\n",
       "    <tr>\n",
       "      <td>3</td>\n",
       "      <td>Inc - Con</td>\n",
       "      <td>COMPUTADOR SEM ACESSO A INTERNET</td>\n",
       "      <td>Usuário informa que o computador está sem aces...</td>\n",
       "    </tr>\n",
       "    <tr>\n",
       "      <td>4</td>\n",
       "      <td>Inc - Con</td>\n",
       "      <td>COMPUTADOR NÃO ESTÁ LOGANDO</td>\n",
       "      <td>COMPUTADOR NÃO ESTÁ LOGANDO.</td>\n",
       "    </tr>\n",
       "  </tbody>\n",
       "</table>\n",
       "</div>"
      ],
      "text/plain": [
       "  Classificação                           Assunto  \\\n",
       "0     Inc - Con         PROBLEMA DE CONECTIVIDADE   \n",
       "1     Inc - Con                   PC SEM INTERNET   \n",
       "2     Inc - Con                   PC SEM INTERNET   \n",
       "3     Inc - Con  COMPUTADOR SEM ACESSO A INTERNET   \n",
       "4     Inc - Con       COMPUTADOR NÃO ESTÁ LOGANDO   \n",
       "\n",
       "                                           Descricao  \n",
       "0                          PROBLEMA DE CONECTIVIDADE  \n",
       "1  raquel do bag de dr renato informou que está c...  \n",
       "2  vanessa , gab dr carlos barros informou proble...  \n",
       "3  Usuário informa que o computador está sem aces...  \n",
       "4                       COMPUTADOR NÃO ESTÁ LOGANDO.  "
      ]
     },
     "execution_count": 61,
     "metadata": {},
     "output_type": "execute_result"
    }
   ],
   "source": [
    "df = pd.read_excel('datasets/Chamados.xlsx')\n",
    "df.head()"
   ]
  },
  {
   "cell_type": "markdown",
   "metadata": {},
   "source": [
    "### Análise inicial"
   ]
  },
  {
   "cell_type": "code",
   "execution_count": 62,
   "metadata": {},
   "outputs": [
    {
     "name": "stdout",
     "output_type": "stream",
     "text": [
      "<class 'pandas.core.frame.DataFrame'>\n",
      "RangeIndex: 3195 entries, 0 to 3194\n",
      "Data columns (total 3 columns):\n",
      "Classificação    2788 non-null object\n",
      "Assunto          3195 non-null object\n",
      "Descricao        3195 non-null object\n",
      "dtypes: object(3)\n",
      "memory usage: 75.0+ KB\n"
     ]
    }
   ],
   "source": [
    "df.info()"
   ]
  },
  {
   "cell_type": "markdown",
   "metadata": {},
   "source": [
    "### Verificando a distribuição de classes"
   ]
  },
  {
   "cell_type": "code",
   "execution_count": 63,
   "metadata": {
    "colab": {
     "base_uri": "https://localhost:8080/",
     "height": 168
    },
    "colab_type": "code",
    "id": "Z30ak7z4IniV",
    "outputId": "79c52c86-35c8-4b86-e94f-4a258cef1e4d"
   },
   "outputs": [
    {
     "data": {
      "text/plain": [
       "Req - Equ    1194\n",
       "Req - Sis     962\n",
       "NaN           407\n",
       "Inc - Sis     284\n",
       "Inc - Equ     170\n",
       "Outros         71\n",
       "Inc - Con      55\n",
       "Req - Con      52\n",
       "Name: Classificação, dtype: int64"
      ]
     },
     "execution_count": 63,
     "metadata": {},
     "output_type": "execute_result"
    }
   ],
   "source": [
    "df['Classificação'].value_counts(dropna=False)"
   ]
  },
  {
   "cell_type": "markdown",
   "metadata": {},
   "source": [
    "- Deixando as classes de forma binária, apenas Equipamento e Sistema"
   ]
  },
  {
   "cell_type": "code",
   "execution_count": 64,
   "metadata": {},
   "outputs": [
    {
     "name": "stdout",
     "output_type": "stream",
     "text": [
      "<class 'pandas.core.frame.DataFrame'>\n",
      "Int64Index: 3017 entries, 55 to 3194\n",
      "Data columns (total 3 columns):\n",
      "Classificação    2610 non-null object\n",
      "Assunto          3017 non-null object\n",
      "Descricao        3017 non-null object\n",
      "dtypes: object(3)\n",
      "memory usage: 94.3+ KB\n"
     ]
    },
    {
     "data": {
      "text/plain": [
       "None"
      ]
     },
     "metadata": {},
     "output_type": "display_data"
    },
    {
     "data": {
      "text/plain": [
       "Req - Equ    1194\n",
       "Req - Sis     962\n",
       "NaN           407\n",
       "Inc - Sis     284\n",
       "Inc - Equ     170\n",
       "Name: Classificação, dtype: int64"
      ]
     },
     "execution_count": 64,
     "metadata": {},
     "output_type": "execute_result"
    }
   ],
   "source": [
    "df = df[(df['Classificação'] != 'Outros') & (df['Classificação'] != 'Inc - Con') & (df['Classificação'] != 'Req - Con')]\n",
    "display(df.info())\n",
    "df['Classificação'].value_counts(dropna=False)"
   ]
  },
  {
   "cell_type": "code",
   "execution_count": 65,
   "metadata": {},
   "outputs": [
    {
     "name": "stdout",
     "output_type": "stream",
     "text": [
      "<class 'pandas.core.frame.DataFrame'>\n",
      "Int64Index: 3017 entries, 55 to 3194\n",
      "Data columns (total 3 columns):\n",
      "Classificação    2610 non-null object\n",
      "Assunto          3017 non-null object\n",
      "Descricao        3017 non-null object\n",
      "dtypes: object(3)\n",
      "memory usage: 94.3+ KB\n"
     ]
    },
    {
     "data": {
      "text/plain": [
       "None"
      ]
     },
     "metadata": {},
     "output_type": "display_data"
    },
    {
     "data": {
      "text/plain": [
       "Equipamento    1364\n",
       "Sistema        1246\n",
       "NaN             407\n",
       "Name: Classificação, dtype: int64"
      ]
     },
     "execution_count": 65,
     "metadata": {},
     "output_type": "execute_result"
    }
   ],
   "source": [
    "df['Classificação'] = df.loc[df['Classificação'].notnull(),'Classificação'].apply(lambda c: 'Equipamento' if 'Equ' in c else 'Sistema')\n",
    "display(df.info())\n",
    "df['Classificação'].value_counts(dropna=False)"
   ]
  },
  {
   "cell_type": "markdown",
   "metadata": {
    "colab_type": "text",
    "id": "2oDh_OWndlLG"
   },
   "source": [
    "### Transformando os dados"
   ]
  },
  {
   "cell_type": "code",
   "execution_count": 66,
   "metadata": {
    "colab": {},
    "colab_type": "code",
    "id": "1CHjxln9dpb5"
   },
   "outputs": [
    {
     "data": {
      "text/plain": [
       "0.0    1364\n",
       "1.0    1246\n",
       "NaN     407\n",
       "Name: Classificação, dtype: int64"
      ]
     },
     "execution_count": 66,
     "metadata": {},
     "output_type": "execute_result"
    }
   ],
   "source": [
    "le = LabelEncoder()\n",
    "df.loc[df['Classificação'].notnull(),'Classificação'] = le.fit_transform(df.loc[df['Classificação'].notnull(),'Classificação'])\n",
    "df['Classificação'].value_counts(dropna=False)"
   ]
  },
  {
   "cell_type": "markdown",
   "metadata": {},
   "source": [
    "0 para equipamento e 1 para sistema\n",
    "\n",
    "### Convertendo caracteres para UTF-8"
   ]
  },
  {
   "cell_type": "code",
   "execution_count": 67,
   "metadata": {},
   "outputs": [
    {
     "data": {
      "text/plain": [
       "'<div>foi identificado um erro na coluna VALOR REALIZADO NO EXERCÍCIO do balanço orcamentario, receitas. foi identificado a inclusão de um valor estranho aquele vindo no arquivo de importação. segue arquivos para analise.</div>'"
      ]
     },
     "execution_count": 67,
     "metadata": {},
     "output_type": "execute_result"
    }
   ],
   "source": [
    "df['Descricao Atualizada'] = df['Descricao'].apply(lambda d: ' '.join(ftfy.fix_text(p) for p in d.split(' ')))\n",
    "df.iloc[268]['Descricao Atualizada']"
   ]
  },
  {
   "cell_type": "markdown",
   "metadata": {},
   "source": [
    "### Usando Regex para remoção de caracteres especiais"
   ]
  },
  {
   "cell_type": "code",
   "execution_count": 68,
   "metadata": {
    "colab": {},
    "colab_type": "code",
    "id": "nRHu7YrPemVD"
   },
   "outputs": [
    {
     "data": {
      "text/plain": [
       "55      coloquei para imprimir frente e verso querendo...\n",
       "56              usuário informa que o computador não liga\n",
       "57      usuária entrou em contato alegando que a impre...\n",
       "58       usuário informa que o excel não está funcionando\n",
       "59      usuário entrou em contato alegando que o compu...\n",
       "                              ...                        \n",
       "3190    usuário estaa com duvida em uma critica no pro...\n",
       "3191    usuário estava querendo informações sobre a re...\n",
       "3192    é necessário instalar a extensão para inserir ...\n",
       "3193    usuária estava com duvida de qual valor coloca...\n",
       "3194    alt eração de operador cpf numero nome francis...\n",
       "Name: Descricao Atualizada, Length: 3017, dtype: object"
      ]
     },
     "execution_count": 68,
     "metadata": {},
     "output_type": "execute_result"
    }
   ],
   "source": [
    "#falta tratar data e algumas outras caracteristicas\n",
    "\n",
    "# tags html\n",
    "df['Descricao Atualizada'] = df['Descricao Atualizada'].str.replace(r'<[^>]*>', ' ').str.strip() #<[^>]*> <.*?>\n",
    "# email \n",
    "df['Descricao Atualizada'] = df['Descricao Atualizada'].str.replace(r'^.+@[^\\.].*\\.[a-z]{2,}$',\n",
    "                                 'email')\n",
    "# URLs \n",
    "df['Descricao Atualizada'] = df['Descricao Atualizada'].str.replace(r'^http\\://[a-zA-Z0-9\\-\\.]+\\.[a-zA-Z]{2,3}(/\\S*)?$',\n",
    "                                  'link')\n",
    "# cifrões de dinheiro \n",
    "df['Descricao Atualizada'] = df['Descricao Atualizada'].str.replace(r'£|\\$', 'cifrao') \n",
    "# número telefone\n",
    "df['Descricao Atualizada'] = df['Descricao Atualizada'].str.replace(r'^\\(?[\\d]{3}\\)?[\\s-]?[\\d]{3}[\\s-]?[\\d]{4}$',\n",
    "                                  'telefone') \n",
    "# números em geral\n",
    "df['Descricao Atualizada'] = df['Descricao Atualizada'].str.replace(r'\\d+(\\.\\d+)?', 'numero')\n",
    "# pontuação\n",
    "df['Descricao Atualizada'] = df['Descricao Atualizada'].str.replace(r'[^\\w\\d\\s]', ' ').str.strip()\n",
    "df['Descricao Atualizada'] = df['Descricao Atualizada'].str.replace(r'[_]', ' ')\n",
    "df['Descricao Atualizada'] = df['Descricao Atualizada'].str.replace(r'[º]', '')\n",
    "# dois espaços ou mais\n",
    "df['Descricao Atualizada'] = df['Descricao Atualizada'].str.replace(r'\\s+', ' ')\n",
    "\n",
    "df['Descricao Atualizada'] = df['Descricao Atualizada'].str.replace(r'^\\s+|\\s+?$', ' ')\n",
    "# minusculo\n",
    "df['Descricao Atualizada'] = df['Descricao Atualizada'].str.lower()\n",
    "df['Descricao Atualizada']"
   ]
  },
  {
   "cell_type": "code",
   "execution_count": 69,
   "metadata": {},
   "outputs": [
    {
     "data": {
      "text/plain": [
       "'foi identificado um erro na coluna valor realizado no exercício do balanço orcamentario receitas foi identificado a inclusão de um valor estranho aquele vindo no arquivo de importação segue arquivos para analise'"
      ]
     },
     "execution_count": 69,
     "metadata": {},
     "output_type": "execute_result"
    }
   ],
   "source": [
    "df.iloc[268]['Descricao Atualizada']"
   ]
  },
  {
   "cell_type": "code",
   "execution_count": 70,
   "metadata": {},
   "outputs": [
    {
     "name": "stderr",
     "output_type": "stream",
     "text": [
      "C:\\Users\\gfeli\\Anaconda3\\lib\\site-packages\\ipykernel_launcher.py:2: FutureWarning: The signature of `Series.to_csv` was aligned to that of `DataFrame.to_csv`, and argument 'header' will change its default value from False to True: please pass an explicit value to suppress this warning.\n",
      "  \n"
     ]
    }
   ],
   "source": [
    "# COMPARAR COM O ORIGINAL\n",
    "df['Descricao Atualizada'].to_csv('teste.csv')"
   ]
  },
  {
   "cell_type": "markdown",
   "metadata": {},
   "source": [
    "- Remover StopWords"
   ]
  },
  {
   "cell_type": "code",
   "execution_count": 71,
   "metadata": {
    "colab": {
     "base_uri": "https://localhost:8080/",
     "height": 1000
    },
    "colab_type": "code",
    "id": "skFxEXYgqQZF",
    "outputId": "39090bb4-82e2-4733-b9ce-13511c4d8d3e"
   },
   "outputs": [
    {
     "name": "stderr",
     "output_type": "stream",
     "text": [
      "[nltk_data] Downloading package stopwords to\n",
      "[nltk_data]     C:\\Users\\gfeli\\AppData\\Roaming\\nltk_data...\n",
      "[nltk_data]   Package stopwords is already up-to-date!\n"
     ]
    },
    {
     "data": {
      "text/plain": [
       "'identificado erro coluna valor realizado exercício balanço orcamentario receitas identificado inclusão valor estranho vindo arquivo importação segue arquivos analise'"
      ]
     },
     "execution_count": 71,
     "metadata": {},
     "output_type": "execute_result"
    }
   ],
   "source": [
    "nltk.download('stopwords')\n",
    "pt_stopwords = set(nltk.corpus.stopwords.words(\"portuguese\"))\n",
    "\n",
    "df['Descricao Atualizada'] = df['Descricao Atualizada'].apply(lambda d: ' '.join(term for term in d.split() if term not in pt_stopwords))\n",
    "df.iloc[268]['Descricao Atualizada']                                                            "
   ]
  },
  {
   "cell_type": "markdown",
   "metadata": {},
   "source": [
    "- Stemming"
   ]
  },
  {
   "cell_type": "code",
   "execution_count": 72,
   "metadata": {
    "colab": {
     "base_uri": "https://localhost:8080/",
     "height": 1000
    },
    "colab_type": "code",
    "id": "hmND_uYDv6-G",
    "outputId": "5378edd6-e182-4c2c-f536-1d0c98f7260b"
   },
   "outputs": [
    {
     "name": "stderr",
     "output_type": "stream",
     "text": [
      "[nltk_data] Downloading package rslp to\n",
      "[nltk_data]     C:\\Users\\gfeli\\AppData\\Roaming\\nltk_data...\n",
      "[nltk_data]   Package rslp is already up-to-date!\n"
     ]
    },
    {
     "data": {
      "text/plain": [
       "'identific err colun val realiz exercíci balanç orcamentari receit identific inclus val estranh vind arqu import seg arqu analis'"
      ]
     },
     "execution_count": 72,
     "metadata": {},
     "output_type": "execute_result"
    }
   ],
   "source": [
    "nltk.download('rslp')\n",
    "stemmer = nltk.stem.RSLPStemmer()\n",
    "\n",
    "df['Descricao Atualizada'] = df['Descricao Atualizada'].apply(lambda x: ' '.join(stemmer.stem(term) for term in x.split()))\n",
    "df.iloc[268]['Descricao Atualizada']"
   ]
  },
  {
   "cell_type": "markdown",
   "metadata": {
    "colab_type": "text",
    "id": "oGJWW44S2qCT"
   },
   "source": [
    "### Criação de features\n",
    "\n",
    "- Tokenizar"
   ]
  },
  {
   "cell_type": "code",
   "execution_count": 73,
   "metadata": {
    "colab": {
     "base_uri": "https://localhost:8080/",
     "height": 84
    },
    "colab_type": "code",
    "id": "GVEdBwTNyNRm",
    "outputId": "4f822d59-84bb-4ce4-ccba-4d03de88e9e8"
   },
   "outputs": [
    {
     "name": "stderr",
     "output_type": "stream",
     "text": [
      "[nltk_data] Downloading package punkt to\n",
      "[nltk_data]     C:\\Users\\gfeli\\AppData\\Roaming\\nltk_data...\n",
      "[nltk_data]   Package punkt is already up-to-date!\n"
     ]
    },
    {
     "name": "stdout",
     "output_type": "stream",
     "text": [
      "Total de palavras: 3177\n",
      "Mais comuns: [('numer', 3039), ('solicit', 661), ('process', 657), ('inform', 432), ('configur', 420)]\n"
     ]
    }
   ],
   "source": [
    "nltk.download('punkt')\n",
    "\n",
    "todas_palavras = []\n",
    "\n",
    "for descricao in df['Descricao Atualizada'].values:\n",
    "    palavras = word_tokenize(descricao)\n",
    "    for p in palavras:\n",
    "        todas_palavras.append(p)\n",
    "        \n",
    "todas_palavras = nltk.FreqDist(todas_palavras)\n",
    "\n",
    "print('Total de palavras: {}'.format(len(todas_palavras)))\n",
    "print('Mais comuns: {}'.format(todas_palavras.most_common(5)))"
   ]
  },
  {
   "cell_type": "markdown",
   "metadata": {},
   "source": [
    "- Utilizando as 1000 palavras mais comuns"
   ]
  },
  {
   "cell_type": "code",
   "execution_count": 74,
   "metadata": {
    "colab": {},
    "colab_type": "code",
    "id": "XigQleil081Z"
   },
   "outputs": [
    {
     "name": "stdout",
     "output_type": "stream",
     "text": [
      "['coloq', 'imprim', 'frent', 'vers', 'quer', 'econom', 'papel', 'agor', 'alerd', 'pisc', 'usu', 'inform', 'comput', 'lig', 'usuár', 'entr', 'contat', 'aleg', 'impres', 'local', 'recepç', 'dam', 'document', 'excel', 'funcion', 'entretant', 'break', 'norm', 'mous', 'nobreak', 'maquin', 'apen', 'apresent', 'luz', 'vermelh', 'solicit', 'apoi', 'verific', 'encontr', 'queim', 'font', 'refer', 'cpu', 'serv', 'n', 'numer', 'marc', 'posi', 'form', 'substitu', 'urg', 'trat', 'assess', 'gabinet', 'qu', 'aparec', 'avis', 'logon', 'dispon', 'inesperad', 'tel', 'deslig', 'problem', 'etiquet', 'consig', 'liber', 'impress', 'restaurat', 'nã', 'log', 'dap', 'adm', 'pc', 'moni', 'ger', 'imag', 'mens', 'err', 'tent', 'abr', 'sistem', 'ergon', 'acess', 'consult', 'págin', 'carreg', 'atol', 'sigef', 'looping', 'infinit', 'ob', 'segund', 'cham', 'msm', 'sent', 'bip', 'inicial', 'apropriad', 'memor', 'tonn', 'operac', 'necessit', 'instal', 'softw', 'certific', 'digit', 'trav', 'email', 'pra', 'assin', 'pje', 'tjrn', 'troc', 'tecl', 'respond', 'salv', 'process', 'visit', 'técn', 'inic', 'catrac', 'cart', 'pres', 'impossibilit', 'saíd', 'demal', 'pux', 'folh', 'barulh', 'estranh', 'presenç', 'apag', 'conseg', 'fatur', 'word', 'up', 'numerov', 'one', 'tomb', 'ns', 'link', 'const', 'planilh', 'eletrôn', 'memór', 'ram', 'random', 'acces', 'memory', 'aleatóri', 'chei', 'us', 'nenhum', 'aplic', 'notebook', 'hp', 'sal', 'trein', 'cadastr', 'ocorrenc', 'hardw', 'equip', 'reinicializ', 'após', 'algum', 'temp', 'detect', 'adob', 'venh', 'ocorr', 'mail', 'legil', 'tce', 'rn', 'gov', 'br', 'remet', 'past', 'envi', 'endereç', 'conform', 'print', 'abaix', 'tod', 'ícon', 'áre', 'trabalh', 'branc', 'pen', 'driv', 'boa', 'tard', 'exist', 'laserjet', 'conect', 'enxerg', 'la', 'ser', 'basic', 'soment', 'máquin', 'ond', 'via', 'usb', 'receb', 'offlin', 'inser', 'despach', 'contabil', 'hor', 'exced', 'pont', 'dia', 'consegu', 'doc', 'googl', 'earth', 'iaramed', 'ach', 'senh', 'naveg', 'ingl', 'uma', 'outr', 'cor', 'ros', 'reinici', 'mut', 'token', 'bloque', 'cab', 'forç', 'bib', 'lenov', 'mod', 'descans', 'tr', 'func', 'bot', 'volt', 'dag', 'pend', 'set', 'iri', 'mand', 'calcul', 'banc', 'trimestr', 'corret', 'bizag', 'tv', 'scann', 'realoc', 'dev', 'alag', 'estabiliz', 'apc', 'sol', 'gnumer', 'lev', 'agu', 'adicion', 'nh', 'dá', 'reconhec', 'águ', 'emit', 's', 'corrig', 'fot', 'exib', 'medi', 'uso', 'mal', 'diret', 'seguint', 'microsoft', 'ole', 'db', 'provid', 'sql', 'numeroenumer', 'im', 'ert', 'column', 'nam', 'or', 'numb', 'of', 'supplied', 'valu', 'doe', 'not', 'match', 'tabl', 'definition', 'informaco', 'movdigitarinformacaopin', 'asp', 'lin', 'vou', 'opç', 'window', 'ddp', 'encerr', 'súbit', 'falh', 'autentic', 'lent', 'ver', 'edit', 'red', 'bom', 'precis', 'transmit', 'arqu', 'celul', 'import', 'conclu', 'utiliz', 'io', 'pesso', 'geral', 'físic', 'restrit', 'assinat', 'send', 'divers', 'negativ', 'mesm', 'adentr', 'est', 'acontec', 'leit', 'diári', 'sit', 'possi', 'poi', 'pdf', 'observ', 'tal', 'situ', 'um', 'i', 'phon', 'baix', 'carát', 'sele', 'clic', 'caix', 'diálog', 'adodb', 'paramet', 'numeroanumeroccnumer', 'it', 'pod', 'coleç', 'correspond', 'nom', 'ord', 'processosele', 'conprocessoprioritari', 'diverg', 'órg', 'prefeit', 'joã', 'relatóri', 'siop', 'qual', 'realiz', 'test', 'linh', 'códig', 'difer', 'distribu', 'dire', 'sair', 'minut', 'public', 'tend', 'faz', 'nov', 'sucess', 'automatic', 'model', 'configur', 'moment', 'exempl', 'dae', 'registr', 'descrit', 'anex', 'si', 'dp', 'através', 'retorn', 'result', 'suport', 'din', 'tráfeg', 'acim', 'esper', 'correç', 'dív', 'cit', 'comarc', 'cuj', 'municípi', 'tabel', 'homolog', 'protest', 'id', 'residenc', 'digitaliz', 'pens', 'cri', 'lot', 'identific', 'al', 'ter', 'tramit', 'mot', 'aind', 'exclu', 'produz', 'san', 'agradeç', 'desd', 'gentil', 'sempr', 'demand', 'att', 'sheyl', 'yusk', 'pagin', 'pendenc', 'gest', 'fundiár', 'govern', 'surg', 'pass', 'visual', 'caminh', 'cont', 'extern', 'anális', 'com', 'dad', 'colet', 'vincul', 'tip', 'caron', 'administr', 'cronológ', 'pag', 'gerenci', 'fiscal', 'efetu', 'acus', 'vot', 'feit', 'vist', 'concord', 'rela', 'retir', 'arp', 'contrat', 'control', 'admit', 'númer', 'fracion', 'vírgul', 'entant', 'serviç', 'engenh', 'necessár', 'man', 'ra', 'natur', 'objet', 'di', 'expost', 'possibil', 'adequ', 'necess', 'modific', 'aceit', 'quantit', 'aba', 'imped', 'compos', 'paut', 'bas', 'possu', 'ativ', 'cert', 'relacion', 'débit', 'quit', 'alt', 'eraç', 'statu', 'bol', 'verifiq', 'infosseg', 'talv', 'letr', 'vár', 'mão', 'especific', 'decis', 'monocrá', 'cryst', 'report', 'activex', 'design', 'query', 'engin', 'hynumer', 'odbc', 'instruç', 'associ', 'prepar', 'port', 'arearestrit', 'ata', 'relatori', 'imprimirrptnov', 'internet', 'nao', 'fat', 'coneç', 'are', 'fic', 'inativ', 'bast', 'fech', 'institut', 'previd', 'municip', 'tomé', 'manoel', 'francisc', 'silv', 'carvalh', 'cpf', 'legisl', 'converting', 'dat', 'typ', 'varch', 'to', 'numeric', 'channel', 'inclu', 'entreg', 'rgf', 'rre', 'anual', 'natal', 'ano', 'comprov', 'caern', 'bent', 'trair', 'failed', 'open', 'rowset', 'detail', 'subquery', 'returned', 'mor', 'than', 'thil', 'is', 'permitted', 'when', 'the', 'follow', 'used', 'an', 'expression', 'rel', 'orga', 'determin', 'fiz', 'proced', 'cerc', 'nest', 'seman', 'seg', 'permit', 'limit', 'env', 'daquel', 'selecion', 'final', 'julg', 'remss', 'inclus', 'anot', 'coloc', 'preench', 'registrarat', 'ldo', 'constat', 'aguard', 'prossegu', 'apens', 'vai', 'dand', 'arearestr', 'favor', 'reset', 'pool', 'ii', 'execuç', 'vbscript', 'numeroanumer', 'insufici', 'binary', 'upload', 'transpar', 'jurisdicion', 'consórci', 'intermunicip', 'sane', 'serr', 'sant', 'exercíci', 'balanç', 'financ', 'rebuild', 'trail', 'found', 'orig', 'messag', 'startxref', 'cadinq', 'respons', 'prvid', 'visua', 'ramal', 'devolv', 'irregular', 'inferi', 'venc', 'crít', 'possibilit', 'defês', 'bat', 'sob', 'recuper', 'invál', 'possível', 'sext', 'bimestr', 'jurdiscion', 'parcel', 'mult', 'anumerobafnumer', 'desp', 'duplic', 'terc', 'camp', 'grand', 'grif', 'amarel', 'empr', 'client', 'pm', 'carnaub', 'perceb', 'divergenc', 'atual', 'layout', 'ped', 'pessoal', 'carg', 'ofic', 'outubr', 'novembr', 'doi', 'inexist', 'emb', 'cumpr', 'cord', 'cogep', 'arqcogep', 'destin', 'intern', 'ges', 'usuari', 'complement', 'ato', 'porém', 'receit', 'somatóri', 'anteri', 'val', 'backup', 'extens', 'aacut', 'rio', 'busc', 'simpl', 'localiz', 'companh', 'urban', 'resolv', 'tceadmin', 'deu', 'full', 'continu', 'princip', 'abl', 'databas', 'recepca', 'und', 'current', 'security', 'context', 'siaianalis', 'conbimestr', 'consultabimestr', 'supr', 'fund', 'gsf', 'câm', 'nis', 'florest', 'notific', 'tc', 'diz', 'deix', 'percent', 'zer', 'époc', 'disponibil', 'real', 'devid', 'respec', 'lug', 'compreend', 'emiss', 'analis', 'corp', 'segu', 'portalegr', 'acar', 'descr', 'colun', 'formul', 'saúd', 'mostr', 'constituc', 'exe', 'debit', 'idinformaca', 'futur', 'idcomposicaopautanumer', 'falt', 'nome', 'ocup', 'independ', 'nad', 'jucurutu', 'recib', 'defini', 'xml', 'assim', 'provisóri', 'sofc', 'mar', 'conce', 'oliv', 'sispatr', 'modul', 'funcional', 'cartóri', 'motiv', 'sac', 'inconsist', 'orcamentari', 'vind', 'fern', 'pedroz', 'mê', 'agost', 'abert', 'sid', 'julh', 'mencion', 'desej', 'porqu', 'exclus', 'part', 'oper', 'venânci', 'sequ', 'autor', 'módul', 'conssiaiddpanaliserela', 'açã', 'shár', 'so', 'jewur', 'dai', 'ont', 'exlcu', 'antig', 'ieg', 'figur', 'valid', 'proc', 'protestoextrajudic', 'envioderemess', 'superi', 'bolet', 'aprov', 'recorr', 'verd', 'list', 'sensibil', 'indic', 'prédi', 'ap', 'oacut', 'bann', 'curs', 'samu', 'exp', 'ip', 'framework', 'fs', 'seguranç', 'relat', 'poli', 'dest', 'cort', 'permiss', 'açõ', 'especif', 'compet', 'cas', 'fácil', 'emoj', 'chrom', 'afim', 'soluc', 'mant', 'sigil', 'prescrev', 'vári', 'reenvi', 'azul', 'mim', 'div', 'posteri', 'desist', 'rua', 'prez', 'particip', 'saind', 'text', 'pud', 'semin', 'sobr', 'compr', 'públic', 'pequen', 'negóci', 'foment', 'desenvolv', 'inov', 'ediç', 'tem', 'mei', 'tern', 'soluç', 'conflit', 'âmbit', 'tribun', 'gost', 'capacit', 'avali', 'dispos', 'qualqu', 'esclarec', 'atencios', 'implement', 'guilherm', 'admiss', 'and', 'extra', 'princípi', 'expedi', 'estagi', 'resoluç', 'gp', 'bols', 'subsídi', 'elabor', 'precípu', 'celer', 'evit', 'manipul', 'intervenç', 'human', 'facil', 'ambos', 'cóp', 'amostr', 'adn', 'yar', 'dant', 'alin', 'cristin', 'post', 'mai', 'brev', 'republic', 'dúv', 'relaç', 'deduç', 'fundeb', 'fpm', 'icm', 'ipv', 'orçament', 'confer', 'mav', 'empenh', 'liquid', 'bem', 'men', 'diferenç', 'sab', 'er', 'virtud', 'rg', 'prest', 'dua', 'ok', 'program', 'deg', 'ccedil', 'atild', 'ít', 'crédit', 'nega', 'conteúd', 'josé', 'campestr', 'automá', 'bloquei', 'igual', 'demiss', 'secret', 'planej', 'finanç', 'seplan', 'atu', 'unidad', 'aldem', 'fre', 'titul', 'prim', 'orden', 'apes', 'd', 'remess', 'total', 'api', 'dilig', 'sec', 'inici', 'obrig', 'declar', 'convers', 'delet', 'pet', 'começ', 'acumul', 'event', 'epub', 'inscr', 'escol', 'contact', 'própr', 'bi', 'dar', 'vez', 'monzil', 'atualiz', 'desconfigur', 'corr', 'lrf', 'selec', 'caus']\n"
     ]
    }
   ],
   "source": [
    "#numero de features\n",
    "features_palavras = list(todas_palavras.keys())[:1000]\n",
    "print(features_palavras)"
   ]
  },
  {
   "cell_type": "markdown",
   "metadata": {},
   "source": [
    "- Função para testar selecionar as principais palavras da descrição"
   ]
  },
  {
   "cell_type": "code",
   "execution_count": 75,
   "metadata": {
    "colab": {},
    "colab_type": "code",
    "id": "DCK-nfG41Gzm"
   },
   "outputs": [],
   "source": [
    "def find_features(descricao):\n",
    "    palavras_descricao = word_tokenize(descricao)\n",
    "    features = {palavra:(palavra in palavras_descricao) for palavra in features_palavras}\n",
    "    return features"
   ]
  },
  {
   "cell_type": "code",
   "execution_count": 76,
   "metadata": {},
   "outputs": [
    {
     "data": {
      "text/plain": [
       "'coloq imprim frent vers quer econom papel agor alerd pisc imprim'"
      ]
     },
     "execution_count": 76,
     "metadata": {},
     "output_type": "execute_result"
    }
   ],
   "source": [
    "df.loc[55,'Descricao Atualizada']"
   ]
  },
  {
   "cell_type": "code",
   "execution_count": 77,
   "metadata": {
    "colab": {
     "base_uri": "https://localhost:8080/",
     "height": 50
    },
    "colab_type": "code",
    "id": "TB73Ndug1XfB",
    "outputId": "4c3ced36-8753-48ea-8ba3-da1b4e08de8c"
   },
   "outputs": [
    {
     "name": "stdout",
     "output_type": "stream",
     "text": [
      "coloq\n",
      "imprim\n",
      "frent\n",
      "vers\n",
      "quer\n",
      "econom\n",
      "papel\n",
      "agor\n",
      "alerd\n",
      "pisc\n"
     ]
    }
   ],
   "source": [
    "# Testando a função\n",
    "features = find_features(df.loc[55,'Descricao Atualizada'])\n",
    "for key, value in features.items():\n",
    "    if value == True:\n",
    "        print(key)"
   ]
  },
  {
   "cell_type": "markdown",
   "metadata": {},
   "source": [
    "- Aplicando a função criada sobre o dataset para criação das features"
   ]
  },
  {
   "cell_type": "code",
   "execution_count": 78,
   "metadata": {},
   "outputs": [
    {
     "data": {
      "text/plain": [
       "('acess relatóri órg situ entreg rre rgf dam prefeit bent trair ano numer aparec seguint mens cryst report activex design err numeroenumer failed to open rowset detail numer microsoft odbc sql serv driv sql serv subquery returned mor than numer valu thil is not permitted when the subquery follow or when the subquery is used an expression tce port arearestrit sistem rel orga relatori imprimirrptnov asp lin numer',\n",
       " 1)"
      ]
     },
     "execution_count": 78,
     "metadata": {},
     "output_type": "execute_result"
    }
   ],
   "source": [
    "chamados = list(zip(df['Descricao Atualizada'], \n",
    "                    df['Classificação']))\n",
    "chamados[204]"
   ]
  },
  {
   "cell_type": "code",
   "execution_count": 79,
   "metadata": {
    "colab": {},
    "colab_type": "code",
    "id": "4SxLQqN82ZwN"
   },
   "outputs": [],
   "source": [
    "seed = 1\n",
    "np.random.seed = seed\n",
    "np.random.shuffle(chamados)\n",
    "\n",
    "featuresets = [(find_features(texto), classe) for (texto, classe) in chamados]"
   ]
  },
  {
   "cell_type": "markdown",
   "metadata": {},
   "source": [
    "### Criação dos datasets"
   ]
  },
  {
   "cell_type": "code",
   "execution_count": 80,
   "metadata": {
    "colab": {
     "base_uri": "https://localhost:8080/",
     "height": 1000
    },
    "colab_type": "code",
    "id": "Cdcgtd4t3dMU",
    "outputId": "7fa57806-97ad-4e66-de76-a93a23bf6cea"
   },
   "outputs": [
    {
     "data": {
      "text/html": [
       "<div>\n",
       "<style scoped>\n",
       "    .dataframe tbody tr th:only-of-type {\n",
       "        vertical-align: middle;\n",
       "    }\n",
       "\n",
       "    .dataframe tbody tr th {\n",
       "        vertical-align: top;\n",
       "    }\n",
       "\n",
       "    .dataframe thead th {\n",
       "        text-align: right;\n",
       "    }\n",
       "</style>\n",
       "<table border=\"1\" class=\"dataframe\">\n",
       "  <thead>\n",
       "    <tr style=\"text-align: right;\">\n",
       "      <th></th>\n",
       "      <th>features</th>\n",
       "      <th>label</th>\n",
       "    </tr>\n",
       "  </thead>\n",
       "  <tbody>\n",
       "    <tr>\n",
       "      <td>0</td>\n",
       "      <td>{'coloq': False, 'imprim': False, 'frent': Fal...</td>\n",
       "      <td>1.0</td>\n",
       "    </tr>\n",
       "    <tr>\n",
       "      <td>1</td>\n",
       "      <td>{'coloq': False, 'imprim': False, 'frent': Fal...</td>\n",
       "      <td>0.0</td>\n",
       "    </tr>\n",
       "    <tr>\n",
       "      <td>2</td>\n",
       "      <td>{'coloq': False, 'imprim': False, 'frent': Fal...</td>\n",
       "      <td>NaN</td>\n",
       "    </tr>\n",
       "    <tr>\n",
       "      <td>3</td>\n",
       "      <td>{'coloq': False, 'imprim': False, 'frent': Fal...</td>\n",
       "      <td>0.0</td>\n",
       "    </tr>\n",
       "    <tr>\n",
       "      <td>4</td>\n",
       "      <td>{'coloq': False, 'imprim': False, 'frent': Fal...</td>\n",
       "      <td>1.0</td>\n",
       "    </tr>\n",
       "  </tbody>\n",
       "</table>\n",
       "</div>"
      ],
      "text/plain": [
       "                                            features  label\n",
       "0  {'coloq': False, 'imprim': False, 'frent': Fal...    1.0\n",
       "1  {'coloq': False, 'imprim': False, 'frent': Fal...    0.0\n",
       "2  {'coloq': False, 'imprim': False, 'frent': Fal...    NaN\n",
       "3  {'coloq': False, 'imprim': False, 'frent': Fal...    0.0\n",
       "4  {'coloq': False, 'imprim': False, 'frent': Fal...    1.0"
      ]
     },
     "execution_count": 80,
     "metadata": {},
     "output_type": "execute_result"
    }
   ],
   "source": [
    "df_features = pd.DataFrame(featuresets, columns=['features', 'label'])\n",
    "df_features.head()"
   ]
  },
  {
   "cell_type": "markdown",
   "metadata": {},
   "source": [
    "- Dataset de validação"
   ]
  },
  {
   "cell_type": "code",
   "execution_count": 81,
   "metadata": {},
   "outputs": [
    {
     "name": "stdout",
     "output_type": "stream",
     "text": [
      "<class 'pandas.core.frame.DataFrame'>\n",
      "Int64Index: 407 entries, 2 to 3012\n",
      "Data columns (total 1 columns):\n",
      "features    407 non-null object\n",
      "dtypes: object(1)\n",
      "memory usage: 6.4+ KB\n"
     ]
    },
    {
     "data": {
      "text/plain": [
       "None"
      ]
     },
     "metadata": {},
     "output_type": "display_data"
    },
    {
     "data": {
      "text/html": [
       "<div>\n",
       "<style scoped>\n",
       "    .dataframe tbody tr th:only-of-type {\n",
       "        vertical-align: middle;\n",
       "    }\n",
       "\n",
       "    .dataframe tbody tr th {\n",
       "        vertical-align: top;\n",
       "    }\n",
       "\n",
       "    .dataframe thead th {\n",
       "        text-align: right;\n",
       "    }\n",
       "</style>\n",
       "<table border=\"1\" class=\"dataframe\">\n",
       "  <thead>\n",
       "    <tr style=\"text-align: right;\">\n",
       "      <th></th>\n",
       "      <th>features</th>\n",
       "    </tr>\n",
       "  </thead>\n",
       "  <tbody>\n",
       "    <tr>\n",
       "      <td>2</td>\n",
       "      <td>{'coloq': False, 'imprim': False, 'frent': Fal...</td>\n",
       "    </tr>\n",
       "    <tr>\n",
       "      <td>6</td>\n",
       "      <td>{'coloq': False, 'imprim': False, 'frent': Fal...</td>\n",
       "    </tr>\n",
       "    <tr>\n",
       "      <td>11</td>\n",
       "      <td>{'coloq': False, 'imprim': False, 'frent': Fal...</td>\n",
       "    </tr>\n",
       "    <tr>\n",
       "      <td>25</td>\n",
       "      <td>{'coloq': False, 'imprim': False, 'frent': Fal...</td>\n",
       "    </tr>\n",
       "    <tr>\n",
       "      <td>31</td>\n",
       "      <td>{'coloq': False, 'imprim': False, 'frent': Fal...</td>\n",
       "    </tr>\n",
       "  </tbody>\n",
       "</table>\n",
       "</div>"
      ],
      "text/plain": [
       "                                             features\n",
       "2   {'coloq': False, 'imprim': False, 'frent': Fal...\n",
       "6   {'coloq': False, 'imprim': False, 'frent': Fal...\n",
       "11  {'coloq': False, 'imprim': False, 'frent': Fal...\n",
       "25  {'coloq': False, 'imprim': False, 'frent': Fal...\n",
       "31  {'coloq': False, 'imprim': False, 'frent': Fal..."
      ]
     },
     "execution_count": 81,
     "metadata": {},
     "output_type": "execute_result"
    }
   ],
   "source": [
    "df_validacao = df_features[df_features['label'].isnull()].drop(columns='label').copy()\n",
    "display(df_validacao.info())\n",
    "df_validacao.head()"
   ]
  },
  {
   "cell_type": "markdown",
   "metadata": {},
   "source": [
    "- Dataset de treino e teste"
   ]
  },
  {
   "cell_type": "code",
   "execution_count": 82,
   "metadata": {},
   "outputs": [
    {
     "name": "stdout",
     "output_type": "stream",
     "text": [
      "<class 'pandas.core.frame.DataFrame'>\n",
      "Int64Index: 2610 entries, 0 to 3016\n",
      "Data columns (total 2 columns):\n",
      "features    2610 non-null object\n",
      "label       2610 non-null int64\n",
      "dtypes: int64(1), object(1)\n",
      "memory usage: 61.2+ KB\n"
     ]
    }
   ],
   "source": [
    "df_features.dropna(inplace=True)\n",
    "df_features['label'] = df_features['label'].astype('int64')\n",
    "df_features.info()"
   ]
  },
  {
   "cell_type": "markdown",
   "metadata": {},
   "source": [
    "- Separando os datasets de treino e teste"
   ]
  },
  {
   "cell_type": "code",
   "execution_count": 83,
   "metadata": {
    "colab": {
     "base_uri": "https://localhost:8080/",
     "height": 50
    },
    "colab_type": "code",
    "id": "ZQ_pHZGJ3weF",
    "outputId": "8e148755-c5b1-4cb4-d421-0c8a48bf82e0"
   },
   "outputs": [
    {
     "name": "stdout",
     "output_type": "stream",
     "text": [
      "Treino: 1957\n",
      "Teste: 653\n"
     ]
    }
   ],
   "source": [
    "treino, teste = train_test_split(df_features, test_size = 0.25, random_state=seed, stratify=df_features['label'])\n",
    "\n",
    "print(\"Treino:\", len(treino))\n",
    "print(\"Teste:\", len(teste))"
   ]
  },
  {
   "cell_type": "markdown",
   "metadata": {},
   "source": [
    "- Info do treino"
   ]
  },
  {
   "cell_type": "code",
   "execution_count": 84,
   "metadata": {},
   "outputs": [
    {
     "name": "stdout",
     "output_type": "stream",
     "text": [
      "<class 'pandas.core.frame.DataFrame'>\n",
      "Int64Index: 1957 entries, 64 to 1379\n",
      "Data columns (total 2 columns):\n",
      "features    1957 non-null object\n",
      "label       1957 non-null int64\n",
      "dtypes: int64(1), object(1)\n",
      "memory usage: 45.9+ KB\n"
     ]
    },
    {
     "data": {
      "text/plain": [
       "None"
      ]
     },
     "metadata": {},
     "output_type": "display_data"
    },
    {
     "data": {
      "text/html": [
       "<div>\n",
       "<style scoped>\n",
       "    .dataframe tbody tr th:only-of-type {\n",
       "        vertical-align: middle;\n",
       "    }\n",
       "\n",
       "    .dataframe tbody tr th {\n",
       "        vertical-align: top;\n",
       "    }\n",
       "\n",
       "    .dataframe thead th {\n",
       "        text-align: right;\n",
       "    }\n",
       "</style>\n",
       "<table border=\"1\" class=\"dataframe\">\n",
       "  <thead>\n",
       "    <tr style=\"text-align: right;\">\n",
       "      <th></th>\n",
       "      <th>features</th>\n",
       "      <th>label</th>\n",
       "    </tr>\n",
       "  </thead>\n",
       "  <tbody>\n",
       "    <tr>\n",
       "      <td>64</td>\n",
       "      <td>{'coloq': False, 'imprim': False, 'frent': Fal...</td>\n",
       "      <td>0</td>\n",
       "    </tr>\n",
       "    <tr>\n",
       "      <td>2215</td>\n",
       "      <td>{'coloq': False, 'imprim': False, 'frent': Fal...</td>\n",
       "      <td>0</td>\n",
       "    </tr>\n",
       "    <tr>\n",
       "      <td>484</td>\n",
       "      <td>{'coloq': False, 'imprim': False, 'frent': Fal...</td>\n",
       "      <td>0</td>\n",
       "    </tr>\n",
       "    <tr>\n",
       "      <td>2756</td>\n",
       "      <td>{'coloq': False, 'imprim': False, 'frent': Fal...</td>\n",
       "      <td>1</td>\n",
       "    </tr>\n",
       "    <tr>\n",
       "      <td>549</td>\n",
       "      <td>{'coloq': False, 'imprim': False, 'frent': Fal...</td>\n",
       "      <td>1</td>\n",
       "    </tr>\n",
       "  </tbody>\n",
       "</table>\n",
       "</div>"
      ],
      "text/plain": [
       "                                               features  label\n",
       "64    {'coloq': False, 'imprim': False, 'frent': Fal...      0\n",
       "2215  {'coloq': False, 'imprim': False, 'frent': Fal...      0\n",
       "484   {'coloq': False, 'imprim': False, 'frent': Fal...      0\n",
       "2756  {'coloq': False, 'imprim': False, 'frent': Fal...      1\n",
       "549   {'coloq': False, 'imprim': False, 'frent': Fal...      1"
      ]
     },
     "execution_count": 84,
     "metadata": {},
     "output_type": "execute_result"
    }
   ],
   "source": [
    "display(treino.info())\n",
    "treino.head()"
   ]
  },
  {
   "cell_type": "code",
   "execution_count": 85,
   "metadata": {},
   "outputs": [
    {
     "data": {
      "image/png": "[encoded data removed]",
      "text/plain": [
       "<Figure size 432x288 with 1 Axes>"
      ]
     },
     "metadata": {
      "needs_background": "light"
     },
     "output_type": "display_data"
    }
   ],
   "source": [
    "treino.label.value_counts().plot.bar()\n",
    "plt.show()"
   ]
  },
  {
   "cell_type": "markdown",
   "metadata": {},
   "source": [
    "- Info do teste"
   ]
  },
  {
   "cell_type": "code",
   "execution_count": 86,
   "metadata": {},
   "outputs": [
    {
     "name": "stdout",
     "output_type": "stream",
     "text": [
      "<class 'pandas.core.frame.DataFrame'>\n",
      "Int64Index: 653 entries, 2883 to 1608\n",
      "Data columns (total 2 columns):\n",
      "features    653 non-null object\n",
      "label       653 non-null int64\n",
      "dtypes: int64(1), object(1)\n",
      "memory usage: 15.3+ KB\n"
     ]
    },
    {
     "data": {
      "text/plain": [
       "None"
      ]
     },
     "metadata": {},
     "output_type": "display_data"
    },
    {
     "data": {
      "text/html": [
       "<div>\n",
       "<style scoped>\n",
       "    .dataframe tbody tr th:only-of-type {\n",
       "        vertical-align: middle;\n",
       "    }\n",
       "\n",
       "    .dataframe tbody tr th {\n",
       "        vertical-align: top;\n",
       "    }\n",
       "\n",
       "    .dataframe thead th {\n",
       "        text-align: right;\n",
       "    }\n",
       "</style>\n",
       "<table border=\"1\" class=\"dataframe\">\n",
       "  <thead>\n",
       "    <tr style=\"text-align: right;\">\n",
       "      <th></th>\n",
       "      <th>features</th>\n",
       "      <th>label</th>\n",
       "    </tr>\n",
       "  </thead>\n",
       "  <tbody>\n",
       "    <tr>\n",
       "      <td>2883</td>\n",
       "      <td>{'coloq': False, 'imprim': False, 'frent': Fal...</td>\n",
       "      <td>0</td>\n",
       "    </tr>\n",
       "    <tr>\n",
       "      <td>1934</td>\n",
       "      <td>{'coloq': False, 'imprim': False, 'frent': Fal...</td>\n",
       "      <td>0</td>\n",
       "    </tr>\n",
       "    <tr>\n",
       "      <td>2224</td>\n",
       "      <td>{'coloq': False, 'imprim': False, 'frent': Fal...</td>\n",
       "      <td>0</td>\n",
       "    </tr>\n",
       "    <tr>\n",
       "      <td>806</td>\n",
       "      <td>{'coloq': False, 'imprim': False, 'frent': Fal...</td>\n",
       "      <td>0</td>\n",
       "    </tr>\n",
       "    <tr>\n",
       "      <td>1505</td>\n",
       "      <td>{'coloq': False, 'imprim': False, 'frent': Fal...</td>\n",
       "      <td>1</td>\n",
       "    </tr>\n",
       "  </tbody>\n",
       "</table>\n",
       "</div>"
      ],
      "text/plain": [
       "                                               features  label\n",
       "2883  {'coloq': False, 'imprim': False, 'frent': Fal...      0\n",
       "1934  {'coloq': False, 'imprim': False, 'frent': Fal...      0\n",
       "2224  {'coloq': False, 'imprim': False, 'frent': Fal...      0\n",
       "806   {'coloq': False, 'imprim': False, 'frent': Fal...      0\n",
       "1505  {'coloq': False, 'imprim': False, 'frent': Fal...      1"
      ]
     },
     "execution_count": 86,
     "metadata": {},
     "output_type": "execute_result"
    }
   ],
   "source": [
    "display(teste.info())\n",
    "teste.head()"
   ]
  },
  {
   "cell_type": "code",
   "execution_count": 87,
   "metadata": {},
   "outputs": [
    {
     "data": {
      "image/png": "[encoded data removed]",
      "text/plain": [
       "<Figure size 432x288 with 1 Axes>"
      ]
     },
     "metadata": {
      "needs_background": "light"
     },
     "output_type": "display_data"
    }
   ],
   "source": [
    "teste.label.value_counts().plot.bar()\n",
    "plt.show()"
   ]
  }
 ],
 "metadata": {
  "colab": {
   "collapsed_sections": [],
   "name": "Trabalho PLN.ipynb",
   "provenance": []
  },
  "kernelspec": {
   "display_name": "Python 3",
   "language": "python",
   "name": "python3"
  },
  "language_info": {
   "codemirror_mode": {
    "name": "ipython",
    "version": 3
   },
   "file_extension": ".py",
   "mimetype": "text/x-python",
   "name": "python",
   "nbconvert_exporter": "python",
   "pygments_lexer": "ipython3",
   "version": "3.7.4"
  }
 },
 "nbformat": 4,
 "nbformat_minor": 1
}
